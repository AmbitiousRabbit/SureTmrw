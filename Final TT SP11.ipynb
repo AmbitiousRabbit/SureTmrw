{
 "cells": [
  {
   "cell_type": "markdown",
   "metadata": {},
   "source": [
    "# Introduction"
   ]
  },
  {
   "cell_type": "markdown",
   "metadata": {},
   "source": [
    "### Objective(s)\n",
    "    Develop a Data Masking Machine Learning Algorithm that makes it hard to recover a customer's personal information within the Sure Tomorrow insurance company.\n",
    "\n",
    "### Goal(s)\n",
    "    Evaluate and showcase findings for the four tasks provided by the company that's listed below.\n",
    "\n",
    "### Questions(s)\n",
    " * Can we find customers who are similar to a given customer? This will help the company's agents with marketing.\n",
    " * Predict whether a new customer is likely to receive an insurance benefit. Can a prediction model do better than a dummy model?\n",
    " * Predict the number of insurance benefits a new customer is likely to receive using a linear regression model.\n",
    " * Protect clients' personal data without breaking the model from the previous task."
   ]
  },
  {
   "cell_type": "markdown",
   "metadata": {},
   "source": [
    "## Initialization"
   ]
  },
  {
   "cell_type": "code",
   "execution_count": 1,
   "metadata": {},
   "outputs": [],
   "source": [
    "import math\n",
    "import numpy as np\n",
    "import pandas as pd\n",
    "import seaborn as sns\n",
    "from IPython.display import display\n",
    "from sklearn.dummy import DummyClassifier\n",
    "from sklearn.preprocessing import MaxAbsScaler\n",
    "from sklearn.linear_model import LinearRegression\n",
    "from sklearn.model_selection import train_test_split\n",
    "from sklearn.metrics  import f1_score, mean_squared_error, r2_score\n",
    "from sklearn.neighbors import NearestNeighbors, KNeighborsClassifier"
   ]
  },
  {
   "cell_type": "markdown",
   "metadata": {},
   "source": [
    "## Load Data"
   ]
  },
  {
   "cell_type": "markdown",
   "metadata": {},
   "source": [
    "Load data and conduct a basic check that it's free from obvious issues."
   ]
  },
  {
   "cell_type": "code",
   "execution_count": 2,
   "metadata": {},
   "outputs": [],
   "source": [
    "#Load Data Here\n",
    "\n",
    "df = pd.read_csv('/datasets/insurance_us.csv')"
   ]
  },
  {
   "cell_type": "markdown",
   "metadata": {},
   "source": [
    "# Data Preprocessing & Exploration"
   ]
  },
  {
   "cell_type": "code",
   "execution_count": 3,
   "metadata": {},
   "outputs": [
    {
     "data": {
      "text/html": [
       "<div>\n",
       "<style scoped>\n",
       "    .dataframe tbody tr th:only-of-type {\n",
       "        vertical-align: middle;\n",
       "    }\n",
       "\n",
       "    .dataframe tbody tr th {\n",
       "        vertical-align: top;\n",
       "    }\n",
       "\n",
       "    .dataframe thead th {\n",
       "        text-align: right;\n",
       "    }\n",
       "</style>\n",
       "<table border=\"1\" class=\"dataframe\">\n",
       "  <thead>\n",
       "    <tr style=\"text-align: right;\">\n",
       "      <th></th>\n",
       "      <th>Gender</th>\n",
       "      <th>Age</th>\n",
       "      <th>Salary</th>\n",
       "      <th>Family members</th>\n",
       "      <th>Insurance benefits</th>\n",
       "    </tr>\n",
       "  </thead>\n",
       "  <tbody>\n",
       "    <tr>\n",
       "      <th>0</th>\n",
       "      <td>1</td>\n",
       "      <td>41.0</td>\n",
       "      <td>49600.0</td>\n",
       "      <td>1</td>\n",
       "      <td>0</td>\n",
       "    </tr>\n",
       "    <tr>\n",
       "      <th>1</th>\n",
       "      <td>0</td>\n",
       "      <td>46.0</td>\n",
       "      <td>38000.0</td>\n",
       "      <td>1</td>\n",
       "      <td>1</td>\n",
       "    </tr>\n",
       "    <tr>\n",
       "      <th>2</th>\n",
       "      <td>0</td>\n",
       "      <td>29.0</td>\n",
       "      <td>21000.0</td>\n",
       "      <td>0</td>\n",
       "      <td>0</td>\n",
       "    </tr>\n",
       "    <tr>\n",
       "      <th>3</th>\n",
       "      <td>0</td>\n",
       "      <td>21.0</td>\n",
       "      <td>41700.0</td>\n",
       "      <td>2</td>\n",
       "      <td>0</td>\n",
       "    </tr>\n",
       "    <tr>\n",
       "      <th>4</th>\n",
       "      <td>1</td>\n",
       "      <td>28.0</td>\n",
       "      <td>26100.0</td>\n",
       "      <td>0</td>\n",
       "      <td>0</td>\n",
       "    </tr>\n",
       "    <tr>\n",
       "      <th>...</th>\n",
       "      <td>...</td>\n",
       "      <td>...</td>\n",
       "      <td>...</td>\n",
       "      <td>...</td>\n",
       "      <td>...</td>\n",
       "    </tr>\n",
       "    <tr>\n",
       "      <th>4995</th>\n",
       "      <td>0</td>\n",
       "      <td>28.0</td>\n",
       "      <td>35700.0</td>\n",
       "      <td>2</td>\n",
       "      <td>0</td>\n",
       "    </tr>\n",
       "    <tr>\n",
       "      <th>4996</th>\n",
       "      <td>0</td>\n",
       "      <td>34.0</td>\n",
       "      <td>52400.0</td>\n",
       "      <td>1</td>\n",
       "      <td>0</td>\n",
       "    </tr>\n",
       "    <tr>\n",
       "      <th>4997</th>\n",
       "      <td>0</td>\n",
       "      <td>20.0</td>\n",
       "      <td>33900.0</td>\n",
       "      <td>2</td>\n",
       "      <td>0</td>\n",
       "    </tr>\n",
       "    <tr>\n",
       "      <th>4998</th>\n",
       "      <td>1</td>\n",
       "      <td>22.0</td>\n",
       "      <td>32700.0</td>\n",
       "      <td>3</td>\n",
       "      <td>0</td>\n",
       "    </tr>\n",
       "    <tr>\n",
       "      <th>4999</th>\n",
       "      <td>1</td>\n",
       "      <td>28.0</td>\n",
       "      <td>40600.0</td>\n",
       "      <td>1</td>\n",
       "      <td>0</td>\n",
       "    </tr>\n",
       "  </tbody>\n",
       "</table>\n",
       "<p>5000 rows × 5 columns</p>\n",
       "</div>"
      ],
      "text/plain": [
       "      Gender   Age   Salary  Family members  Insurance benefits\n",
       "0          1  41.0  49600.0               1                   0\n",
       "1          0  46.0  38000.0               1                   1\n",
       "2          0  29.0  21000.0               0                   0\n",
       "3          0  21.0  41700.0               2                   0\n",
       "4          1  28.0  26100.0               0                   0\n",
       "...      ...   ...      ...             ...                 ...\n",
       "4995       0  28.0  35700.0               2                   0\n",
       "4996       0  34.0  52400.0               1                   0\n",
       "4997       0  20.0  33900.0               2                   0\n",
       "4998       1  22.0  32700.0               3                   0\n",
       "4999       1  28.0  40600.0               1                   0\n",
       "\n",
       "[5000 rows x 5 columns]"
      ]
     },
     "execution_count": 3,
     "metadata": {},
     "output_type": "execute_result"
    }
   ],
   "source": [
    "df"
   ]
  },
  {
   "cell_type": "markdown",
   "metadata": {},
   "source": [
    "We rename the colums to make the code look more consistent with its style."
   ]
  },
  {
   "cell_type": "code",
   "execution_count": 4,
   "metadata": {},
   "outputs": [],
   "source": [
    "df = df.rename(columns={'Gender': 'gender', 'Age': 'age', 'Salary': 'income', 'Family members': 'family_members', 'Insurance benefits': 'insurance_benefits'})"
   ]
  },
  {
   "cell_type": "code",
   "execution_count": 5,
   "metadata": {},
   "outputs": [
    {
     "data": {
      "text/html": [
       "<div>\n",
       "<style scoped>\n",
       "    .dataframe tbody tr th:only-of-type {\n",
       "        vertical-align: middle;\n",
       "    }\n",
       "\n",
       "    .dataframe tbody tr th {\n",
       "        vertical-align: top;\n",
       "    }\n",
       "\n",
       "    .dataframe thead th {\n",
       "        text-align: right;\n",
       "    }\n",
       "</style>\n",
       "<table border=\"1\" class=\"dataframe\">\n",
       "  <thead>\n",
       "    <tr style=\"text-align: right;\">\n",
       "      <th></th>\n",
       "      <th>gender</th>\n",
       "      <th>age</th>\n",
       "      <th>income</th>\n",
       "      <th>family_members</th>\n",
       "      <th>insurance_benefits</th>\n",
       "    </tr>\n",
       "  </thead>\n",
       "  <tbody>\n",
       "    <tr>\n",
       "      <th>787</th>\n",
       "      <td>1</td>\n",
       "      <td>26.0</td>\n",
       "      <td>41100.0</td>\n",
       "      <td>1</td>\n",
       "      <td>0</td>\n",
       "    </tr>\n",
       "    <tr>\n",
       "      <th>1076</th>\n",
       "      <td>0</td>\n",
       "      <td>33.0</td>\n",
       "      <td>44000.0</td>\n",
       "      <td>2</td>\n",
       "      <td>0</td>\n",
       "    </tr>\n",
       "    <tr>\n",
       "      <th>4253</th>\n",
       "      <td>0</td>\n",
       "      <td>20.0</td>\n",
       "      <td>32000.0</td>\n",
       "      <td>2</td>\n",
       "      <td>0</td>\n",
       "    </tr>\n",
       "    <tr>\n",
       "      <th>4386</th>\n",
       "      <td>1</td>\n",
       "      <td>32.0</td>\n",
       "      <td>30600.0</td>\n",
       "      <td>1</td>\n",
       "      <td>0</td>\n",
       "    </tr>\n",
       "    <tr>\n",
       "      <th>1627</th>\n",
       "      <td>1</td>\n",
       "      <td>41.0</td>\n",
       "      <td>34300.0</td>\n",
       "      <td>2</td>\n",
       "      <td>0</td>\n",
       "    </tr>\n",
       "    <tr>\n",
       "      <th>4920</th>\n",
       "      <td>0</td>\n",
       "      <td>23.0</td>\n",
       "      <td>51300.0</td>\n",
       "      <td>1</td>\n",
       "      <td>0</td>\n",
       "    </tr>\n",
       "    <tr>\n",
       "      <th>3808</th>\n",
       "      <td>1</td>\n",
       "      <td>23.0</td>\n",
       "      <td>33600.0</td>\n",
       "      <td>2</td>\n",
       "      <td>0</td>\n",
       "    </tr>\n",
       "    <tr>\n",
       "      <th>4813</th>\n",
       "      <td>1</td>\n",
       "      <td>20.0</td>\n",
       "      <td>32000.0</td>\n",
       "      <td>0</td>\n",
       "      <td>0</td>\n",
       "    </tr>\n",
       "    <tr>\n",
       "      <th>3117</th>\n",
       "      <td>0</td>\n",
       "      <td>60.0</td>\n",
       "      <td>43400.0</td>\n",
       "      <td>2</td>\n",
       "      <td>4</td>\n",
       "    </tr>\n",
       "    <tr>\n",
       "      <th>2272</th>\n",
       "      <td>0</td>\n",
       "      <td>30.0</td>\n",
       "      <td>42800.0</td>\n",
       "      <td>0</td>\n",
       "      <td>0</td>\n",
       "    </tr>\n",
       "  </tbody>\n",
       "</table>\n",
       "</div>"
      ],
      "text/plain": [
       "      gender   age   income  family_members  insurance_benefits\n",
       "787        1  26.0  41100.0               1                   0\n",
       "1076       0  33.0  44000.0               2                   0\n",
       "4253       0  20.0  32000.0               2                   0\n",
       "4386       1  32.0  30600.0               1                   0\n",
       "1627       1  41.0  34300.0               2                   0\n",
       "4920       0  23.0  51300.0               1                   0\n",
       "3808       1  23.0  33600.0               2                   0\n",
       "4813       1  20.0  32000.0               0                   0\n",
       "3117       0  60.0  43400.0               2                   4\n",
       "2272       0  30.0  42800.0               0                   0"
      ]
     },
     "execution_count": 5,
     "metadata": {},
     "output_type": "execute_result"
    }
   ],
   "source": [
    "df.sample(10)"
   ]
  },
  {
   "cell_type": "code",
   "execution_count": 6,
   "metadata": {},
   "outputs": [
    {
     "name": "stdout",
     "output_type": "stream",
     "text": [
      "<class 'pandas.core.frame.DataFrame'>\n",
      "RangeIndex: 5000 entries, 0 to 4999\n",
      "Data columns (total 5 columns):\n",
      " #   Column              Non-Null Count  Dtype  \n",
      "---  ------              --------------  -----  \n",
      " 0   gender              5000 non-null   int64  \n",
      " 1   age                 5000 non-null   float64\n",
      " 2   income              5000 non-null   float64\n",
      " 3   family_members      5000 non-null   int64  \n",
      " 4   insurance_benefits  5000 non-null   int64  \n",
      "dtypes: float64(2), int64(3)\n",
      "memory usage: 195.4 KB\n"
     ]
    }
   ],
   "source": [
    "df.info()"
   ]
  },
  {
   "cell_type": "code",
   "execution_count": 7,
   "metadata": {},
   "outputs": [],
   "source": [
    "# we may want to fix the age type (from float to int) though this is not critical\n",
    "# write your conversion here if you choose:"
   ]
  },
  {
   "cell_type": "code",
   "execution_count": 8,
   "metadata": {},
   "outputs": [],
   "source": [
    "df['age'] = df['age'].astype(int)"
   ]
  },
  {
   "cell_type": "code",
   "execution_count": 9,
   "metadata": {},
   "outputs": [],
   "source": [
    "# check to see that the conversion was successful"
   ]
  },
  {
   "cell_type": "code",
   "execution_count": 10,
   "metadata": {},
   "outputs": [
    {
     "name": "stdout",
     "output_type": "stream",
     "text": [
      "<class 'pandas.core.frame.DataFrame'>\n",
      "RangeIndex: 5000 entries, 0 to 4999\n",
      "Data columns (total 5 columns):\n",
      " #   Column              Non-Null Count  Dtype  \n",
      "---  ------              --------------  -----  \n",
      " 0   gender              5000 non-null   int64  \n",
      " 1   age                 5000 non-null   int64  \n",
      " 2   income              5000 non-null   float64\n",
      " 3   family_members      5000 non-null   int64  \n",
      " 4   insurance_benefits  5000 non-null   int64  \n",
      "dtypes: float64(1), int64(4)\n",
      "memory usage: 195.4 KB\n"
     ]
    }
   ],
   "source": [
    "df.info()"
   ]
  },
  {
   "cell_type": "code",
   "execution_count": 11,
   "metadata": {},
   "outputs": [
    {
     "data": {
      "text/plain": [
       "gender                0\n",
       "age                   0\n",
       "income                0\n",
       "family_members        0\n",
       "insurance_benefits    0\n",
       "dtype: int64"
      ]
     },
     "execution_count": 11,
     "metadata": {},
     "output_type": "execute_result"
    }
   ],
   "source": [
    "df.isna().sum()"
   ]
  },
  {
   "cell_type": "code",
   "execution_count": 12,
   "metadata": {},
   "outputs": [
    {
     "data": {
      "text/plain": [
       "153"
      ]
     },
     "execution_count": 12,
     "metadata": {},
     "output_type": "execute_result"
    }
   ],
   "source": [
    "df.duplicated().sum()"
   ]
  },
  {
   "cell_type": "code",
   "execution_count": 13,
   "metadata": {},
   "outputs": [],
   "source": [
    "# now have a look at the data's descriptive statistics. \n",
    "# Does everything look okay?"
   ]
  },
  {
   "cell_type": "code",
   "execution_count": 14,
   "metadata": {},
   "outputs": [
    {
     "data": {
      "text/plain": [
       "count    5000.000000\n",
       "mean       30.952800\n",
       "std         8.440807\n",
       "min        18.000000\n",
       "25%        24.000000\n",
       "50%        30.000000\n",
       "75%        37.000000\n",
       "max        65.000000\n",
       "Name: age, dtype: float64"
      ]
     },
     "execution_count": 14,
     "metadata": {},
     "output_type": "execute_result"
    }
   ],
   "source": [
    "df['age'].describe()"
   ]
  },
  {
   "cell_type": "markdown",
   "metadata": {},
   "source": [
    "The maximum, minimum, and average age found admist the data, respectively is: 65, 18, and 30; although most of the age demographic is around their late 30s."
   ]
  },
  {
   "cell_type": "code",
   "execution_count": 15,
   "metadata": {},
   "outputs": [
    {
     "data": {
      "text/plain": [
       "count     5000.000000\n",
       "mean     39916.360000\n",
       "std       9900.083569\n",
       "min       5300.000000\n",
       "25%      33300.000000\n",
       "50%      40200.000000\n",
       "75%      46600.000000\n",
       "max      79000.000000\n",
       "Name: income, dtype: float64"
      ]
     },
     "execution_count": 15,
     "metadata": {},
     "output_type": "execute_result"
    }
   ],
   "source": [
    "df['income'].describe()"
   ]
  },
  {
   "cell_type": "markdown",
   "metadata": {},
   "source": [
    "The average income for a customer is pretty close to 40k (which is in the ball park range for most customers as they make about 46.6k) and the highest and lowest recorded income respectively lies at 79,000 to 5,300."
   ]
  },
  {
   "cell_type": "code",
   "execution_count": 16,
   "metadata": {},
   "outputs": [
    {
     "data": {
      "text/plain": [
       "count    5000.000000\n",
       "mean        1.194200\n",
       "std         1.091387\n",
       "min         0.000000\n",
       "25%         0.000000\n",
       "50%         1.000000\n",
       "75%         2.000000\n",
       "max         6.000000\n",
       "Name: family_members, dtype: float64"
      ]
     },
     "execution_count": 16,
     "metadata": {},
     "output_type": "execute_result"
    }
   ],
   "source": [
    "df['family_members'].describe()"
   ]
  },
  {
   "cell_type": "markdown",
   "metadata": {},
   "source": [
    "Max insured family members is 6, loweset being only one additional loved one. On average and compartively to 75% of the pooling demographic, there's only 1 or 2 additional members being added onto the insurance plan, respectively."
   ]
  },
  {
   "cell_type": "code",
   "execution_count": 17,
   "metadata": {},
   "outputs": [
    {
     "data": {
      "text/plain": [
       "count    5000.000000\n",
       "mean        0.148000\n",
       "std         0.463183\n",
       "min         0.000000\n",
       "25%         0.000000\n",
       "50%         0.000000\n",
       "75%         0.000000\n",
       "max         5.000000\n",
       "Name: insurance_benefits, dtype: float64"
      ]
     },
     "execution_count": 17,
     "metadata": {},
     "output_type": "execute_result"
    }
   ],
   "source": [
    "df['insurance_benefits'].describe()"
   ]
  },
  {
   "cell_type": "code",
   "execution_count": 18,
   "metadata": {},
   "outputs": [
    {
     "data": {
      "text/plain": [
       "0    4436\n",
       "1     423\n",
       "2     115\n",
       "3      18\n",
       "4       7\n",
       "5       1\n",
       "Name: insurance_benefits, dtype: int64"
      ]
     },
     "execution_count": 18,
     "metadata": {},
     "output_type": "execute_result"
    }
   ],
   "source": [
    "df['insurance_benefits'].value_counts()"
   ]
  },
  {
   "cell_type": "markdown",
   "metadata": {},
   "source": [
    "In relation to insurance benefits, the max someone receives is 5 and 0 being the least; however, this seems pretty typically when it comes to insurance plans cause you normally are proactively paying for coverage *within the case if something does happen*. For example, about 88% (4436/5000) of customers had no benefit payout, and 423 customers had received one form of benefit payout which accounts for 8.46%. So if a customer were to receive any benefits, that means there was some form of misfortune involved and if no benefits are received then we can assume no misfortune occured. "
   ]
  },
  {
   "cell_type": "markdown",
   "metadata": {},
   "source": [
    "So maybe, if we were to throw out a generalize ballpark assumption about our \"typical, average\" customer profile we could say..\n",
    "\n",
    "* Based on our data, the typical customer reflects a 30 something-yr-old who makes 39-40k anually in income, usually insures another indidviual outside themselves and are more prone to not needing any benefit payouts as their life isn't met with consistent misfortune."
   ]
  },
  {
   "cell_type": "markdown",
   "metadata": {},
   "source": [
    "## EDA"
   ]
  },
  {
   "cell_type": "markdown",
   "metadata": {},
   "source": [
    "Let's quickly check whether there are certain groups of customers by looking at the pair plot."
   ]
  },
  {
   "cell_type": "code",
   "execution_count": 19,
   "metadata": {
    "scrolled": true
   },
   "outputs": [
    {
     "data": {
      "image/png": "[encoded data removed]",
      "text/plain": [
       "<Figure size 1200x1200 with 30 Axes>"
      ]
     },
     "metadata": {},
     "output_type": "display_data"
    }
   ],
   "source": [
    "g = sns.pairplot(df, kind='hist')\n",
    "g.fig.set_size_inches(12, 12)"
   ]
  },
  {
   "cell_type": "markdown",
   "metadata": {},
   "source": [
    "Ok, it is a bit difficult to spot obvious groups (clusters) as it is difficult to combine several variables simultaneously (to analyze multivariate distributions). That's where LA and ML can be quite handy."
   ]
  },
  {
   "cell_type": "markdown",
   "metadata": {},
   "source": [
    "# Task 1. Similar Customers"
   ]
  },
  {
   "cell_type": "markdown",
   "metadata": {},
   "source": [
    "In the language of ML, it is necessary to develop a procedure that returns k nearest neighbors (or the nearest objects) for a given object, based on the distance between the objects.\n",
    "\n",
    "You may want to review the following lessons (chapter -> lesson)\n",
    "- Distance Between Vectors -> Euclidean Distance\n",
    "- Distance Between Vectors -> Manhattan Distance\n",
    "\n",
    "To solve the task, we can try different distance metrics."
   ]
  },
  {
   "cell_type": "markdown",
   "metadata": {},
   "source": [
    "Write a function that returns k nearest neighbors for an $n^{th}$ object based on a specified distance metric. The number of received insurance benefits should not be taken into account for this task. \n",
    "\n",
    "You can use a ready implementation of the kNN algorithm from scikit-learn (check [the link](https://scikit-learn.org/stable/modules/generated/sklearn.neighbors.NearestNeighbors.html#sklearn.neighbors.NearestNeighbors)) or use your own.\n",
    "\n",
    "Test it for four combination of two cases\n",
    "- Scaling\n",
    "  - the data is not scaled\n",
    "  - the data is scaled with the [MaxAbsScaler](https://scikit-learn.org/stable/modules/generated/sklearn.preprocessing.MaxAbsScaler.html) scaler\n",
    "- Distance Metrics\n",
    "  - Euclidean\n",
    "  - Manhattan\n",
    "\n",
    "Answer these questions:\n",
    "- Does the data being not scaled affect the kNN algorithm? If so, how does that appear?\n",
    "- How similar are the results using the Manhattan distance metric (regardless of the scaling)?"
   ]
  },
  {
   "cell_type": "code",
   "execution_count": 20,
   "metadata": {},
   "outputs": [],
   "source": [
    "feature_names = ['gender', 'age', 'income', 'family_members']"
   ]
  },
  {
   "cell_type": "code",
   "execution_count": 21,
   "metadata": {},
   "outputs": [],
   "source": [
    "def get_knn(df, n, k, metric):\n",
    "    \n",
    "    \"\"\"\n",
    "    Returns k nearest neighbors\n",
    "\n",
    "    :param df: our insurance dataset\n",
    "    :param n: the specific item/thing you want to find other similiar items to\n",
    "    :param k: the amount of closest neighbours that is returned\n",
    "    :param metric: the distance metric's name that's being used\n",
    "    \"\"\"\n",
    "\n",
    "    nbrs = NearestNeighbors(n_neighbors=k, metric=metric)\n",
    "    nbrs.fit(df[feature_names])\n",
    "    nbrs_distances, nbrs_indices = nbrs.kneighbors([df.iloc[n][feature_names]], k, return_distance=True)\n",
    "    \n",
    "    df_distance = pd.concat([df.iloc[nbrs_indices[0]], \n",
    "        pd.DataFrame(nbrs_distances.T, index=nbrs_indices[0], columns=['distance'])\n",
    "        ], axis=1)\n",
    "    \n",
    "    return df_distance"
   ]
  },
  {
   "cell_type": "markdown",
   "metadata": {},
   "source": [
    "Scaling the data."
   ]
  },
  {
   "cell_type": "code",
   "execution_count": 22,
   "metadata": {},
   "outputs": [],
   "source": [
    "feature_names = ['gender', 'age', 'income', 'family_members']\n",
    "\n",
    "transformer_mas = MaxAbsScaler().fit(df[feature_names].to_numpy())\n",
    "\n",
    "df_scaled = df.copy()\n",
    "df_scaled.loc[:, feature_names] = transformer_mas.transform(df[feature_names].to_numpy())"
   ]
  },
  {
   "cell_type": "code",
   "execution_count": 23,
   "metadata": {
    "scrolled": true
   },
   "outputs": [
    {
     "data": {
      "text/html": [
       "<div>\n",
       "<style scoped>\n",
       "    .dataframe tbody tr th:only-of-type {\n",
       "        vertical-align: middle;\n",
       "    }\n",
       "\n",
       "    .dataframe tbody tr th {\n",
       "        vertical-align: top;\n",
       "    }\n",
       "\n",
       "    .dataframe thead th {\n",
       "        text-align: right;\n",
       "    }\n",
       "</style>\n",
       "<table border=\"1\" class=\"dataframe\">\n",
       "  <thead>\n",
       "    <tr style=\"text-align: right;\">\n",
       "      <th></th>\n",
       "      <th>gender</th>\n",
       "      <th>age</th>\n",
       "      <th>income</th>\n",
       "      <th>family_members</th>\n",
       "      <th>insurance_benefits</th>\n",
       "    </tr>\n",
       "  </thead>\n",
       "  <tbody>\n",
       "    <tr>\n",
       "      <th>4919</th>\n",
       "      <td>1.0</td>\n",
       "      <td>0.523077</td>\n",
       "      <td>0.613924</td>\n",
       "      <td>0.500000</td>\n",
       "      <td>0</td>\n",
       "    </tr>\n",
       "    <tr>\n",
       "      <th>2894</th>\n",
       "      <td>0.0</td>\n",
       "      <td>0.338462</td>\n",
       "      <td>0.745570</td>\n",
       "      <td>0.666667</td>\n",
       "      <td>0</td>\n",
       "    </tr>\n",
       "    <tr>\n",
       "      <th>3314</th>\n",
       "      <td>1.0</td>\n",
       "      <td>0.369231</td>\n",
       "      <td>0.594937</td>\n",
       "      <td>0.166667</td>\n",
       "      <td>0</td>\n",
       "    </tr>\n",
       "    <tr>\n",
       "      <th>256</th>\n",
       "      <td>0.0</td>\n",
       "      <td>0.876923</td>\n",
       "      <td>0.355696</td>\n",
       "      <td>0.333333</td>\n",
       "      <td>3</td>\n",
       "    </tr>\n",
       "    <tr>\n",
       "      <th>3435</th>\n",
       "      <td>1.0</td>\n",
       "      <td>0.461538</td>\n",
       "      <td>0.515190</td>\n",
       "      <td>0.166667</td>\n",
       "      <td>0</td>\n",
       "    </tr>\n",
       "  </tbody>\n",
       "</table>\n",
       "</div>"
      ],
      "text/plain": [
       "      gender       age    income  family_members  insurance_benefits\n",
       "4919     1.0  0.523077  0.613924        0.500000                   0\n",
       "2894     0.0  0.338462  0.745570        0.666667                   0\n",
       "3314     1.0  0.369231  0.594937        0.166667                   0\n",
       "256      0.0  0.876923  0.355696        0.333333                   3\n",
       "3435     1.0  0.461538  0.515190        0.166667                   0"
      ]
     },
     "execution_count": 23,
     "metadata": {},
     "output_type": "execute_result"
    }
   ],
   "source": [
    "df_scaled.sample(5)"
   ]
  },
  {
   "cell_type": "markdown",
   "metadata": {},
   "source": [
    "Now, let's get similar records for a given one for every combination"
   ]
  },
  {
   "cell_type": "markdown",
   "metadata": {},
   "source": [
    "### No Scale Distances"
   ]
  },
  {
   "cell_type": "code",
   "execution_count": 24,
   "metadata": {
    "scrolled": true
   },
   "outputs": [
    {
     "name": "stdout",
     "output_type": "stream",
     "text": [
      "Euclidean Distance with no scale data:\n",
      " \n",
      "       gender  age   income  family_members  insurance_benefits  distance\n",
      "0          1   41  49600.0               1                   0  0.000000\n",
      "2022       1   41  49600.0               0                   0  1.000000\n",
      "1225       0   42  49600.0               0                   1  1.732051\n",
      "4031       1   44  49600.0               2                   1  3.162278\n",
      "3424       0   38  49600.0               0                   0  3.316625\n"
     ]
    }
   ],
   "source": [
    "ed_noscale = get_knn(df, n=0, k=5, metric='euclidean')\n",
    "print(\"Euclidean Distance with no scale data:\\n \\n\", ed_noscale)"
   ]
  },
  {
   "cell_type": "code",
   "execution_count": 25,
   "metadata": {},
   "outputs": [
    {
     "name": "stdout",
     "output_type": "stream",
     "text": [
      "Manhattan Distance with no scaled data:\n",
      " \n",
      "       gender  age   income  family_members  insurance_benefits  distance\n",
      "0          1   41  49600.0               1                   0       0.0\n",
      "2022       1   41  49600.0               0                   0       1.0\n",
      "1225       0   42  49600.0               0                   1       3.0\n",
      "4031       1   44  49600.0               2                   1       4.0\n",
      "3424       0   38  49600.0               0                   0       5.0\n"
     ]
    }
   ],
   "source": [
    "md_noscale = get_knn(df, n=0, k=5, metric='manhattan')\n",
    "print(\"Manhattan Distance with no scaled data:\\n \\n\", md_noscale)"
   ]
  },
  {
   "cell_type": "markdown",
   "metadata": {},
   "source": [
    "### Scaled Distances\n"
   ]
  },
  {
   "cell_type": "code",
   "execution_count": 26,
   "metadata": {},
   "outputs": [
    {
     "name": "stdout",
     "output_type": "stream",
     "text": [
      "Euclidean Distance with scaled data:\n",
      " \n",
      "       gender       age    income  family_members  insurance_benefits  distance\n",
      "0        1.0  0.630769  0.627848        0.166667                   0  0.000000\n",
      "2689     1.0  0.630769  0.634177        0.166667                   0  0.006329\n",
      "133      1.0  0.615385  0.636709        0.166667                   0  0.017754\n",
      "4869     1.0  0.646154  0.637975        0.166667                   1  0.018418\n",
      "3275     1.0  0.646154  0.651899        0.166667                   1  0.028550\n"
     ]
    }
   ],
   "source": [
    "ed_scaled = get_knn(df_scaled, n=0, k=5, metric='euclidean')\n",
    "print(\"Euclidean Distance with scaled data:\\n \\n\", ed_scaled)"
   ]
  },
  {
   "cell_type": "code",
   "execution_count": 27,
   "metadata": {},
   "outputs": [
    {
     "name": "stdout",
     "output_type": "stream",
     "text": [
      "Manhattan Distance with scaled data:\n",
      " \n",
      "       gender       age    income  family_members  insurance_benefits  distance\n",
      "0        1.0  0.630769  0.627848        0.166667                   0  0.000000\n",
      "2689     1.0  0.630769  0.634177        0.166667                   0  0.006329\n",
      "133      1.0  0.615385  0.636709        0.166667                   0  0.024245\n",
      "4869     1.0  0.646154  0.637975        0.166667                   1  0.025511\n",
      "3365     1.0  0.630769  0.596203        0.166667                   0  0.031646\n"
     ]
    }
   ],
   "source": [
    "md_scaled = get_knn(df_scaled, n=0, k=5, metric='manhattan')\n",
    "print(\"Manhattan Distance with scaled data:\\n \\n\", md_scaled)"
   ]
  },
  {
   "cell_type": "markdown",
   "metadata": {},
   "source": [
    "**Does the data being not scaled affect the kNN algorithm? If so, how does that appear?**\n",
    "\n",
    "I believe the data not being scaled will affect the KNN algorithm cause of the fact that all features don't have the same weight or measurement so things like age and income will drastically alter the distance metric's calculation, incorrectly."
   ]
  },
  {
   "cell_type": "code",
   "execution_count": 28,
   "metadata": {},
   "outputs": [
    {
     "name": "stdout",
     "output_type": "stream",
     "text": [
      "np.allclose: False\n",
      "np.array_equal: False\n"
     ]
    }
   ],
   "source": [
    "ed_nos = ed_noscale.to_numpy()\n",
    "md_nos = md_noscale.to_numpy()\n",
    "\n",
    "print(\"np.allclose:\", np.allclose(ed_nos, md_nos))\n",
    "print(\"np.array_equal:\", np.array_equal(ed_nos, md_nos))"
   ]
  },
  {
   "cell_type": "markdown",
   "metadata": {},
   "source": [
    "**How similar are the results using the Manhattan distance metric (regardless of the scaling)?** \n",
    "\n",
    "I think both resulting dataframes are not quite similar at all, and although regardless of the scaling, I believe the scaled calculations probably improved or increased a fair chance for all of the features to be weighted the same during calculation, compared to the non-scaled dataframe."
   ]
  },
  {
   "cell_type": "code",
   "execution_count": 29,
   "metadata": {},
   "outputs": [
    {
     "name": "stdout",
     "output_type": "stream",
     "text": [
      "np.allclose: False\n",
      "np.array_equal: False\n"
     ]
    }
   ],
   "source": [
    "md_scaled = md_scaled.to_numpy()\n",
    "md_nos = md_noscale.to_numpy()\n",
    "\n",
    "print(\"np.allclose:\", np.allclose(md_scaled, md_nos))\n",
    "print(\"np.array_equal:\", np.array_equal(md_scaled, md_nos))"
   ]
  },
  {
   "cell_type": "markdown",
   "metadata": {},
   "source": [
    "# Task 2. Is Customer Likely to Receive Insurance Benefit?"
   ]
  },
  {
   "cell_type": "markdown",
   "metadata": {},
   "source": [
    "In terms of machine learning we can look at this like a binary classification task."
   ]
  },
  {
   "cell_type": "markdown",
   "metadata": {},
   "source": [
    "With `insurance_benefits` being more than zero as the target, evaluate whether the kNN classification approach can do better than a dummy model.\n",
    "\n",
    "Instructions:\n",
    "- Build a KNN-based classifier and measure its quality with the F1 metric for k=1..10 for both the original data and the scaled one. That'd be interesting to see how k may influece the evaluation metric, and whether scaling the data makes any difference. You can use a ready implemention of the kNN classification algorithm from scikit-learn (check [the link](https://scikit-learn.org/stable/modules/generated/sklearn.neighbors.KNeighborsClassifier.html)) or use your own.\n",
    "- Build the dummy model which is just random for this case. It should return \"1\" with some probability. Let's test the model with four probability values: 0, the probability of paying any insurance benefit, 0.5, 1.\n",
    "\n",
    "The probability of paying any insurance benefit can be defined as\n",
    "\n",
    "$$\n",
    "P\\{\\text{insurance benefit received}\\}=\\frac{\\text{number of clients received any insurance benefit}}{\\text{total number of clients}}.\n",
    "$$\n",
    "\n",
    "Split the whole data in the 70:30 proportion for the training/testing parts."
   ]
  },
  {
   "cell_type": "code",
   "execution_count": 30,
   "metadata": {},
   "outputs": [],
   "source": [
    "df['insurance_benefits_received'] =  df['insurance_benefits'].apply(lambda x: 1 if x > 0 else 0)\n",
    "#total number of clients\n",
    "total_customers = len(df)\n",
    "\n",
    "customers_insured = df['insurance_benefits_received'].sum()\n",
    "insured_probability = customers_insured / total_customers"
   ]
  },
  {
   "cell_type": "code",
   "execution_count": 31,
   "metadata": {},
   "outputs": [
    {
     "data": {
      "text/plain": [
       "0.1128"
      ]
     },
     "execution_count": 31,
     "metadata": {},
     "output_type": "execute_result"
    }
   ],
   "source": [
    "insured_probability"
   ]
  },
  {
   "cell_type": "code",
   "execution_count": 32,
   "metadata": {},
   "outputs": [
    {
     "data": {
      "text/plain": [
       "0    4436\n",
       "1     564\n",
       "Name: insurance_benefits_received, dtype: int64"
      ]
     },
     "execution_count": 32,
     "metadata": {},
     "output_type": "execute_result"
    }
   ],
   "source": [
    "# check for the class imbalance with value_counts()\n",
    "df['insurance_benefits_received'].value_counts()"
   ]
  },
  {
   "cell_type": "code",
   "execution_count": 33,
   "metadata": {},
   "outputs": [],
   "source": [
    "feature = df[['gender', 'age', 'income', 'family_members']]\n",
    "target = df[['insurance_benefits_received']]"
   ]
  },
  {
   "cell_type": "code",
   "execution_count": 34,
   "metadata": {},
   "outputs": [],
   "source": [
    "x_train, x_test, y_train, y_test = train_test_split(feature, target, test_size=0.3, random_state=12034)"
   ]
  },
  {
   "cell_type": "code",
   "execution_count": 35,
   "metadata": {
    "scrolled": true
   },
   "outputs": [
    {
     "name": "stdout",
     "output_type": "stream",
     "text": [
      "Train Features Shape: (3500, 4)\n",
      "Train Target Shape: (3500, 1)\n",
      "Test Features Shape: (1500, 4)\n",
      "Test Target Shape: (1500, 1)\n"
     ]
    }
   ],
   "source": [
    "print('Train Features Shape:', x_train.shape)\n",
    "print('Train Target Shape:', y_train.shape)\n",
    "print('Test Features Shape:', x_test.shape)\n",
    "print('Test Target Shape:', y_test.shape)"
   ]
  },
  {
   "cell_type": "code",
   "execution_count": 36,
   "metadata": {
    "scrolled": true
   },
   "outputs": [
    {
     "data": {
      "text/plain": [
       "insurance_benefits_received    0.112857\n",
       "dtype: float64"
      ]
     },
     "execution_count": 36,
     "metadata": {},
     "output_type": "execute_result"
    }
   ],
   "source": [
    "# the variable's value is hard-coded into the dummy classifier's probabilities \n",
    "y_train.mean()"
   ]
  },
  {
   "cell_type": "code",
   "execution_count": 37,
   "metadata": {},
   "outputs": [],
   "source": [
    "#scaling the data\n",
    "scaler = MaxAbsScaler().fit(x_train)\n",
    "x_train_scaled = scaler.transform(x_train)\n",
    "x_test_scaled = scaler.transform(x_test)"
   ]
  },
  {
   "cell_type": "code",
   "execution_count": 38,
   "metadata": {
    "scrolled": true
   },
   "outputs": [
    {
     "name": "stdout",
     "output_type": "stream",
     "text": [
      "K=1, F1 Score (Original Data): 0.8046158893112831\n"
     ]
    },
    {
     "name": "stderr",
     "output_type": "stream",
     "text": [
      "/opt/conda/envs/python3/lib/python3.9/site-packages/sklearn/neighbors/_classification.py:179: DataConversionWarning: A column-vector y was passed when a 1d array was expected. Please change the shape of y to (n_samples,), for example using ravel().\n",
      "  return self._fit(X, y)\n",
      "/opt/conda/envs/python3/lib/python3.9/site-packages/sklearn/neighbors/_classification.py:179: DataConversionWarning: A column-vector y was passed when a 1d array was expected. Please change the shape of y to (n_samples,), for example using ravel().\n",
      "  return self._fit(X, y)\n",
      "/opt/conda/envs/python3/lib/python3.9/site-packages/sklearn/neighbors/_classification.py:179: DataConversionWarning: A column-vector y was passed when a 1d array was expected. Please change the shape of y to (n_samples,), for example using ravel().\n",
      "  return self._fit(X, y)\n"
     ]
    },
    {
     "name": "stdout",
     "output_type": "stream",
     "text": [
      "K=1, F1 Score (Scaled Data): 0.9865937365937366\n",
      "K=2, F1 Score (Original Data): 0.6687694905722424\n"
     ]
    },
    {
     "name": "stderr",
     "output_type": "stream",
     "text": [
      "/opt/conda/envs/python3/lib/python3.9/site-packages/sklearn/neighbors/_classification.py:179: DataConversionWarning: A column-vector y was passed when a 1d array was expected. Please change the shape of y to (n_samples,), for example using ravel().\n",
      "  return self._fit(X, y)\n",
      "/opt/conda/envs/python3/lib/python3.9/site-packages/sklearn/neighbors/_classification.py:179: DataConversionWarning: A column-vector y was passed when a 1d array was expected. Please change the shape of y to (n_samples,), for example using ravel().\n",
      "  return self._fit(X, y)\n",
      "/opt/conda/envs/python3/lib/python3.9/site-packages/sklearn/neighbors/_classification.py:179: DataConversionWarning: A column-vector y was passed when a 1d array was expected. Please change the shape of y to (n_samples,), for example using ravel().\n",
      "  return self._fit(X, y)\n"
     ]
    },
    {
     "name": "stdout",
     "output_type": "stream",
     "text": [
      "K=2, F1 Score (Scaled Data): 0.9666759818015782\n",
      "K=3, F1 Score (Original Data): 0.6896658735905659\n",
      "K=3, F1 Score (Scaled Data): 0.9794618080911348\n"
     ]
    },
    {
     "name": "stderr",
     "output_type": "stream",
     "text": [
      "/opt/conda/envs/python3/lib/python3.9/site-packages/sklearn/neighbors/_classification.py:179: DataConversionWarning: A column-vector y was passed when a 1d array was expected. Please change the shape of y to (n_samples,), for example using ravel().\n",
      "  return self._fit(X, y)\n",
      "/opt/conda/envs/python3/lib/python3.9/site-packages/sklearn/neighbors/_classification.py:179: DataConversionWarning: A column-vector y was passed when a 1d array was expected. Please change the shape of y to (n_samples,), for example using ravel().\n",
      "  return self._fit(X, y)\n",
      "/opt/conda/envs/python3/lib/python3.9/site-packages/sklearn/neighbors/_classification.py:179: DataConversionWarning: A column-vector y was passed when a 1d array was expected. Please change the shape of y to (n_samples,), for example using ravel().\n",
      "  return self._fit(X, y)\n"
     ]
    },
    {
     "name": "stdout",
     "output_type": "stream",
     "text": [
      "K=4, F1 Score (Original Data): 0.5392395579696572\n",
      "K=4, F1 Score (Scaled Data): 0.9648248983439562\n",
      "K=5, F1 Score (Original Data): 0.5425854758948057\n"
     ]
    },
    {
     "name": "stderr",
     "output_type": "stream",
     "text": [
      "/opt/conda/envs/python3/lib/python3.9/site-packages/sklearn/neighbors/_classification.py:179: DataConversionWarning: A column-vector y was passed when a 1d array was expected. Please change the shape of y to (n_samples,), for example using ravel().\n",
      "  return self._fit(X, y)\n",
      "/opt/conda/envs/python3/lib/python3.9/site-packages/sklearn/neighbors/_classification.py:179: DataConversionWarning: A column-vector y was passed when a 1d array was expected. Please change the shape of y to (n_samples,), for example using ravel().\n",
      "  return self._fit(X, y)\n"
     ]
    },
    {
     "name": "stdout",
     "output_type": "stream",
     "text": [
      "K=5, F1 Score (Scaled Data): 0.9611535044605911\n",
      "K=6, F1 Score (Original Data): 0.5203518979246445\n"
     ]
    },
    {
     "name": "stderr",
     "output_type": "stream",
     "text": [
      "/opt/conda/envs/python3/lib/python3.9/site-packages/sklearn/neighbors/_classification.py:179: DataConversionWarning: A column-vector y was passed when a 1d array was expected. Please change the shape of y to (n_samples,), for example using ravel().\n",
      "  return self._fit(X, y)\n",
      "/opt/conda/envs/python3/lib/python3.9/site-packages/sklearn/neighbors/_classification.py:179: DataConversionWarning: A column-vector y was passed when a 1d array was expected. Please change the shape of y to (n_samples,), for example using ravel().\n",
      "  return self._fit(X, y)\n",
      "/opt/conda/envs/python3/lib/python3.9/site-packages/sklearn/neighbors/_classification.py:179: DataConversionWarning: A column-vector y was passed when a 1d array was expected. Please change the shape of y to (n_samples,), for example using ravel().\n",
      "  return self._fit(X, y)\n"
     ]
    },
    {
     "name": "stdout",
     "output_type": "stream",
     "text": [
      "K=6, F1 Score (Scaled Data): 0.9631681904122706\n",
      "K=7, F1 Score (Original Data): 0.5223824686270837\n",
      "K=7, F1 Score (Scaled Data): 0.9693564862104189\n"
     ]
    },
    {
     "name": "stderr",
     "output_type": "stream",
     "text": [
      "/opt/conda/envs/python3/lib/python3.9/site-packages/sklearn/neighbors/_classification.py:179: DataConversionWarning: A column-vector y was passed when a 1d array was expected. Please change the shape of y to (n_samples,), for example using ravel().\n",
      "  return self._fit(X, y)\n",
      "/opt/conda/envs/python3/lib/python3.9/site-packages/sklearn/neighbors/_classification.py:179: DataConversionWarning: A column-vector y was passed when a 1d array was expected. Please change the shape of y to (n_samples,), for example using ravel().\n",
      "  return self._fit(X, y)\n",
      "/opt/conda/envs/python3/lib/python3.9/site-packages/sklearn/neighbors/_classification.py:179: DataConversionWarning: A column-vector y was passed when a 1d array was expected. Please change the shape of y to (n_samples,), for example using ravel().\n",
      "  return self._fit(X, y)\n"
     ]
    },
    {
     "name": "stdout",
     "output_type": "stream",
     "text": [
      "K=8, F1 Score (Original Data): 0.49203796743894057\n",
      "K=8, F1 Score (Scaled Data): 0.9577898780127474\n",
      "K=9, F1 Score (Original Data): 0.4914148075705698\n"
     ]
    },
    {
     "name": "stderr",
     "output_type": "stream",
     "text": [
      "/opt/conda/envs/python3/lib/python3.9/site-packages/sklearn/neighbors/_classification.py:179: DataConversionWarning: A column-vector y was passed when a 1d array was expected. Please change the shape of y to (n_samples,), for example using ravel().\n",
      "  return self._fit(X, y)\n",
      "/opt/conda/envs/python3/lib/python3.9/site-packages/sklearn/neighbors/_classification.py:179: DataConversionWarning: A column-vector y was passed when a 1d array was expected. Please change the shape of y to (n_samples,), for example using ravel().\n",
      "  return self._fit(X, y)\n",
      "/opt/conda/envs/python3/lib/python3.9/site-packages/sklearn/neighbors/_classification.py:179: DataConversionWarning: A column-vector y was passed when a 1d array was expected. Please change the shape of y to (n_samples,), for example using ravel().\n",
      "  return self._fit(X, y)\n"
     ]
    },
    {
     "name": "stdout",
     "output_type": "stream",
     "text": [
      "K=9, F1 Score (Scaled Data): 0.9623466481670806\n",
      "K=10, F1 Score (Original Data): 0.4816703505217035\n",
      "K=10, F1 Score (Scaled Data): 0.9577898780127474\n"
     ]
    }
   ],
   "source": [
    "for k in range(1, 11):\n",
    "    knn = KNeighborsClassifier(n_neighbors=k)\n",
    "    knn.fit(x_train, y_train)\n",
    "    y_pred = knn.predict(x_test)\n",
    "    f1 = f1_score(y_test, y_pred, average='macro')\n",
    "    print(f\"K={k}, F1 Score (Original Data): {f1}\")\n",
    "\n",
    "    knn.fit(x_train_scaled, y_train)\n",
    "    y_pred_scaled = knn.predict(x_test_scaled)\n",
    "    f1_scaled = f1_score(y_test, y_pred_scaled, average='macro')\n",
    "    print(f\"K={k}, F1 Score (Scaled Data): {f1_scaled}\")"
   ]
  },
  {
   "cell_type": "code",
   "execution_count": 39,
   "metadata": {},
   "outputs": [
    {
     "name": "stdout",
     "output_type": "stream",
     "text": [
      "Dummy Model with Probability 0, F1 Score: 0.47015188979159306\n",
      "Dummy Model with Probability 0.112857, F1 Score: 0.5028941096356827\n",
      "Dummy Model with Probability 0.5, F1 Score: 0.4995689237682639\n",
      "Dummy Model with Probability 1, F1 Score: 0.10125823846614738\n"
     ]
    }
   ],
   "source": [
    "# Dummy classifier with different probabilities    \n",
    "probabilities = [0, 0.112857, 0.5, 1]\n",
    "for prob in probabilities:\n",
    "    if prob == 0:\n",
    "        dummy = DummyClassifier(strategy='constant', constant=0)\n",
    "    elif prob == 1:\n",
    "        dummy = DummyClassifier(strategy='constant', constant=1)\n",
    "    else:\n",
    "        dummy = DummyClassifier(strategy='stratified')\n",
    "\n",
    "    dummy.fit(x_train, y_train)\n",
    "    y_pred_dummy = dummy.predict(x_test)\n",
    "    f1_dummy = f1_score(y_test, y_pred_dummy, average='macro')\n",
    "    print(f\"Dummy Model with Probability {prob}, F1 Score: {f1_dummy}\")"
   ]
  },
  {
   "cell_type": "markdown",
   "metadata": {},
   "source": [
    "# Task 3. Regression (with Linear Regression)"
   ]
  },
  {
   "cell_type": "markdown",
   "metadata": {},
   "source": [
    "With `insurance_benefits` as the target, evaluate what RMSE would be for a Linear Regression model."
   ]
  },
  {
   "cell_type": "markdown",
   "metadata": {},
   "source": [
    "Build your own implementation of LR. For that, recall how the linear regression task's solution is formulated in terms of LA. Check RMSE for both the original data and the scaled one. Can you see any difference in RMSE between these two cases?\n",
    "\n",
    "Let's denote\n",
    "- $X$ — feature matrix, each row is a case, each column is a feature, the first column consists of unities\n",
    "- $y$ — target (a vector)\n",
    "- $\\hat{y}$ — estimated tagret (a vector)\n",
    "- $w$ — weight vector\n",
    "\n",
    "The task of linear regression in the language of matrices can be formulated as\n",
    "\n",
    "$$\n",
    "y = Xw\n",
    "$$\n",
    "\n",
    "The training objective then is to find such $w$ that it would minimize the L2-distance (MSE) between $Xw$ and $y$:\n",
    "\n",
    "$$\n",
    "\\min_w d_2(Xw, y) \\quad \\text{or} \\quad \\min_w \\text{MSE}(Xw, y)\n",
    "$$\n",
    "\n",
    "It appears that there is analytical solution for the above:\n",
    "\n",
    "$$\n",
    "w = (X^T X)^{-1} X^T y\n",
    "$$\n",
    "\n",
    "The formula above can be used to find the weights $w$ and the latter can be used to calculate predicted values\n",
    "\n",
    "$$\n",
    "\\hat{y} = X_{val}w\n",
    "$$"
   ]
  },
  {
   "cell_type": "markdown",
   "metadata": {},
   "source": [
    "Split the whole data in the 70:30 proportion for the training/validation parts. Use the RMSE metric for the model evaluation."
   ]
  },
  {
   "cell_type": "code",
   "execution_count": 40,
   "metadata": {},
   "outputs": [],
   "source": [
    "class MyLinearRegression:\n",
    "    \n",
    "    def __init__(self):\n",
    "        \n",
    "        self.weights = None\n",
    "    \n",
    "    def fit(self, X, y):\n",
    "        X2 = np.append(np.ones([len(X), 1]), X, axis=1)\n",
    "        self.weights = np.linalg.inv(X2.T @ X2) @ X2.T @ y\n",
    "\n",
    "    def predict(self, X):\n",
    "        X2 = np.append(np.ones([len(X), 1]), X, axis=1)\n",
    "        y_pred = X2 @ self.weights\n",
    "        \n",
    "        return y_pred\n",
    "\n",
    "def eval_regressor(y_true, y_pred):\n",
    "    rmse = math.sqrt(mean_squared_error(y_true, y_pred))\n",
    "    r2 = r2_score(y_true, y_pred)\n",
    "    print(f'RMSE: {rmse:.2f}')\n",
    "    print(f'RMSE w/o format: {rmse}')\n",
    "    print(f'R2 Value: {r2}')"
   ]
  },
  {
   "cell_type": "code",
   "execution_count": 41,
   "metadata": {
    "scrolled": true
   },
   "outputs": [
    {
     "name": "stdout",
     "output_type": "stream",
     "text": [
      "OG Data's Weights: [-9.12703098e-01  3.55040354e-02  4.67988600e-03 -6.55055779e-07\n",
      " -1.14714139e-02] \n",
      "\n",
      "RMSE: 0.36\n",
      "RMSE w/o format: 0.3559296692823234\n",
      "R2 Value: 0.4236891602917424\n"
     ]
    }
   ],
   "source": [
    "x = df[['age', 'gender', 'income', 'family_members']].to_numpy()\n",
    "y = df['insurance_benefits'].to_numpy()\n",
    "\n",
    "x_train, x_test, y_train, y_test = train_test_split(x, y, test_size=0.3, random_state=12034)\n",
    "\n",
    "lr = MyLinearRegression()\n",
    "\n",
    "lr.fit(x_train, y_train)\n",
    "print('OG Data\\'s Weights:', lr.weights, '\\n')\n",
    "y_test_pred = lr.predict(x_test)\n",
    "\n",
    "eval_regressor(y_test, y_test_pred)"
   ]
  },
  {
   "cell_type": "code",
   "execution_count": 42,
   "metadata": {},
   "outputs": [],
   "source": [
    "scaler = MaxAbsScaler().fit(x_train)\n",
    "x_train_scaled = scaler.transform(x_train)\n",
    "x_test_scaled = scaler.transform(x_test)"
   ]
  },
  {
   "cell_type": "code",
   "execution_count": 43,
   "metadata": {
    "scrolled": true
   },
   "outputs": [
    {
     "name": "stdout",
     "output_type": "stream",
     "text": [
      "Scaled Data's Weights: [-0.9127031   2.20125019  0.00467989 -0.05174941 -0.06882848] \n",
      "\n",
      "RMSE: 0.36\n",
      "RMSE w/o format: 0.3559296692823231\n",
      "R2 Value: 0.4236891602917433\n"
     ]
    }
   ],
   "source": [
    "lr.fit(x_train_scaled, y_train)\n",
    "print('Scaled Data\\'s Weights:', lr.weights, '\\n')\n",
    "y_test_pred_scaled = lr.predict(x_test_scaled)\n",
    "eval_regressor(y_test, y_test_pred_scaled)"
   ]
  },
  {
   "cell_type": "markdown",
   "metadata": {},
   "source": [
    "**Can you see any difference in RMSE between these two cases?**\n",
    "\n",
    "There is *a difference* but hardly sigificant to call it an actual notable difference; so really, no I can't lol."
   ]
  },
  {
   "cell_type": "markdown",
   "metadata": {},
   "source": [
    "# Task 4. Obfuscating Data"
   ]
  },
  {
   "cell_type": "markdown",
   "metadata": {},
   "source": [
    "It best to obfuscate data by multiplying the numerical features (remember, they can be seen as the matrix $X$) by an invertible matrix $P$. \n",
    "\n",
    "$$\n",
    "X' = X \\times P\n",
    "$$\n",
    "\n",
    "Try to do that and check how the features' values will look like after the transformation. By the way, the intertible property is important here so make sure that $P$ is indeed invertible.\n",
    "\n",
    "You may want to review the 'Matrices and Matrix Operations -> Matrix Multiplication' lesson to recall the rule of matrix multiplication and its implementation with NumPy."
   ]
  },
  {
   "cell_type": "code",
   "execution_count": 44,
   "metadata": {},
   "outputs": [],
   "source": [
    "personal_info_column_list = ['gender', 'age', 'income', 'family_members']\n",
    "df_pn = df[personal_info_column_list]"
   ]
  },
  {
   "cell_type": "code",
   "execution_count": 45,
   "metadata": {},
   "outputs": [],
   "source": [
    "X = df_pn.to_numpy()"
   ]
  },
  {
   "cell_type": "markdown",
   "metadata": {},
   "source": [
    "Generating a random matrix $P$."
   ]
  },
  {
   "cell_type": "code",
   "execution_count": 46,
   "metadata": {},
   "outputs": [],
   "source": [
    "rndm_matrix = np.random.default_rng(seed=120)\n",
    "P = rndm_matrix.random(size=(X.shape[1], X.shape[1]))"
   ]
  },
  {
   "cell_type": "markdown",
   "metadata": {},
   "source": [
    "Checking the matrix $P$ is invertible"
   ]
  },
  {
   "cell_type": "code",
   "execution_count": 47,
   "metadata": {},
   "outputs": [],
   "source": [
    "if np.linalg.det(P) == 0:\n",
    "    raise ValueError(\"Matrix P is not invertible\")"
   ]
  },
  {
   "cell_type": "markdown",
   "metadata": {},
   "source": [
    "**Can you guess the customers' ages or income after the transformation?**\n",
    "\n",
    "After printing out the *X_prime* variable to see, no I can't actually."
   ]
  },
  {
   "cell_type": "code",
   "execution_count": 48,
   "metadata": {},
   "outputs": [],
   "source": [
    "X_prime = X @ P"
   ]
  },
  {
   "cell_type": "code",
   "execution_count": 49,
   "metadata": {},
   "outputs": [
    {
     "data": {
      "text/plain": [
       "array([[48604.77253266, 31999.75973883,  1644.13776906, 23420.76536337],\n",
       "       [37245.38244438, 24524.15456017,  1267.48559393, 17948.35559147],\n",
       "       [20584.85105112, 13554.72797957,   702.08738266,  9919.96442679],\n",
       "       ...,\n",
       "       [33215.03128291, 21866.50804694,  1119.92266611, 16004.37157348],\n",
       "       [32042.06647861, 21094.26185582,  1082.60116236, 15439.89570506],\n",
       "       [39782.36338076, 26190.26911559,  1342.93274778, 19169.1387983 ]])"
      ]
     },
     "execution_count": 49,
     "metadata": {},
     "output_type": "execute_result"
    }
   ],
   "source": [
    "X_prime"
   ]
  },
  {
   "cell_type": "markdown",
   "metadata": {},
   "source": [
    "Can you recover the original data from $X'$ if you know $P$? Try to check that with calculations by moving $P$ from the right side of the formula above to the left one. The rules of matrix multiplcation are really helpful here."
   ]
  },
  {
   "cell_type": "code",
   "execution_count": 50,
   "metadata": {},
   "outputs": [],
   "source": [
    "P_inv = np.linalg.inv(P)\n",
    "X_recovered = X_prime @ P_inv"
   ]
  },
  {
   "cell_type": "markdown",
   "metadata": {},
   "source": [
    "Print all three cases for a few customers\n",
    "- The original data\n",
    "- The transformed one\n",
    "- The reversed (recovered) one"
   ]
  },
  {
   "cell_type": "code",
   "execution_count": 51,
   "metadata": {},
   "outputs": [
    {
     "name": "stdout",
     "output_type": "stream",
     "text": [
      "Original Data:\n",
      " [[1.00e+00 4.10e+01 4.96e+04 1.00e+00]\n",
      " [0.00e+00 4.60e+01 3.80e+04 1.00e+00]\n",
      " [0.00e+00 2.90e+01 2.10e+04 0.00e+00]]\n",
      "Transformed Data:\n",
      " [[48604.77253266 31999.75973883  1644.13776906 23420.76536337]\n",
      " [37245.38244438 24524.15456017  1267.48559393 17948.35559147]\n",
      " [20584.85105112 13554.72797957   702.08738266  9919.96442679]]\n",
      "Recovered Data:\n",
      " [[ 1.00000000e+00  4.10000000e+01  4.96000000e+04  1.00000000e+00]\n",
      " [-1.07947933e-10  4.60000000e+01  3.80000000e+04  1.00000000e+00]\n",
      " [-2.40688756e-11  2.90000000e+01  2.10000000e+04 -4.63266828e-11]]\n"
     ]
    }
   ],
   "source": [
    "print(\"Original Data:\\n\", X[:3])\n",
    "print(\"Transformed Data:\\n\", X_prime[:3])\n",
    "print(\"Recovered Data:\\n\", X_recovered[:3])"
   ]
  },
  {
   "cell_type": "markdown",
   "metadata": {},
   "source": [
    "**You can probably see that some values are not exactly the same as they are in the original data. What might be the reason for that?**"
   ]
  },
  {
   "cell_type": "markdown",
   "metadata": {},
   "source": [
    "Since I know what P is (as I'm working with the data first-handedly), I can recover X or the original data..but honestly, I don't think I would be able to dechiper what X **could be** if I only seen the transformed data.\n",
    "\n",
    "Although despite the cell box below where I tried finding a way to compare the two to see if the reverted data is close to the original. I think during the transforming-to-reversing phase of the data, there were a few errors that had occured where maybe I need to revisit and improve the algorithm to minimize or completely avoid them all together by maybe rounding (?) cause in 2 instances, for example, we have *-4.47363596e-12* and *9.52452315e-13* show up in the reverse data when originally those 2 instances shouldve reverted back to **0.00e+00**.\n",
    "\n",
    "But on the other hand, I think this normal to see a few tiny measures of error during calculations and also that, this'll make it challanging to figure out the true data for anyone who shouldn't have it in their hands."
   ]
  },
  {
   "cell_type": "code",
   "execution_count": 52,
   "metadata": {},
   "outputs": [
    {
     "name": "stdout",
     "output_type": "stream",
     "text": [
      "T/F - The recovered data is close to the original data:\n",
      "True\n"
     ]
    }
   ],
   "source": [
    "# Check if the recovered data is the same as the original data\n",
    "print(\"T/F - The recovered data is close to the original data:\")\n",
    "print(np.allclose(X, X_recovered)) #save np.allclose this is a good tip to compare floating numbers"
   ]
  },
  {
   "cell_type": "markdown",
   "metadata": {},
   "source": [
    "## Proof That Data Obfuscation Can Work with LR"
   ]
  },
  {
   "cell_type": "markdown",
   "metadata": {},
   "source": [
    "The regression task has been solved with linear regression in this project. Your next task is to prove _analytically_ that the given obfuscation method won't affect linear regression in terms of predicted values i.e. their values will remain the same. Can you believe that? Well, you don't have to, you should prove it!"
   ]
  },
  {
   "cell_type": "markdown",
   "metadata": {},
   "source": [
    "So, the data is obfuscated and there is $X \\times P$ instead of just $X$ now. Consequently, there are other weights $w_P$ as\n",
    "$$\n",
    "w = (X^T X)^{-1} X^T y \\quad \\Rightarrow \\quad w_P = [(XP)^T XP]^{-1} (XP)^T y\n",
    "$$\n",
    "\n",
    "How would $w$ and $w_P$ be linked if you simplify the formula for $w_P$ above? \n",
    "\n",
    "What would be predicted values with $w_P$? \n",
    "\n",
    "What does that mean for the quality of linear regression if you measure it with RMSE?\n",
    "\n",
    "Check Appendix B Properties of Matrices in the end of the notebook. There are useful formulas in there!\n",
    "\n",
    "No code is necessary in this section, only analytical explanation!"
   ]
  },
  {
   "cell_type": "markdown",
   "metadata": {},
   "source": [
    "**Answer + Analytical proof**\n",
    "\n",
    "Put simply, I think the linkage between $w$ & $w_P$ is easier to see when they are boiled down to their simpliest form of expression. Given that, when you apply the data mask during the matrix multiplication, the resulting matrix doesn't affect the Linear Regressions' performance when making predicitions as the predicted values and their RMSE will remain the same. Although..."
   ]
  },
  {
   "cell_type": "markdown",
   "metadata": {},
   "source": [
    "Imma try my best to explain this analytically here but I believe *w* & **wp** is linked through simplfying the expression more like this:\n",
    "$$\n",
    "w_P = [(XP)^T XP]^{-1} (XP)^T y ⇒ wP= [(P T X T )(XP)] −1 (P T X T)y\n",
    "$$\n",
    "as this should reduce themselves where you take the matrix inversion respectively on both sides and you be able to get something like this 😭😭?\n",
    "$$ w P =P −1 (X T X) −1 (P T ) −1 P T X T y$$\n",
    "\n",
    "now that the above expression is reduced to its current state, it shows its similarity (in terms of the wp & w being related) to the original: \n",
    "$$\n",
    "w = (X^T X)^{-1} X^T y\n",
    "$$\n",
    "\n",
    "Therefore, from our denoted symbols stated from earlier:\n",
    "\n",
    "- $X$ — feature matrix, each row is a case, each column is a feature, the first column consists of unities\n",
    "- $y$ — target (a vector)\n",
    "- $\\hat{y}$ — estimated tagret (a vector)\n",
    "- $w$ — weight vector\n",
    "- $y = Xw$\n",
    "\n",
    "\n",
    "When using the obfuscated weight $w_P$ ( $\\hat{y}_P = Xw$ ) & the original weights $w$ ( $\\hat{y}= Xw$ ) during predictions we understand that $\\hat{y}_P$ which is using the masked data is practically the same as the $\\hat{y}$ that's using the original data."
   ]
  },
  {
   "cell_type": "markdown",
   "metadata": {},
   "source": [
    "## Test Linear Regression With Data Obfuscation"
   ]
  },
  {
   "cell_type": "markdown",
   "metadata": {},
   "source": [
    "Now, let's prove Linear Regression can work computationally with the chosen obfuscation transformation.\n",
    "\n",
    "Build a procedure or a class that runs Linear Regression optionally with the obfuscation. You can use either a ready implementation of Linear Regression from sciki-learn or your own.\n",
    "\n",
    "Run Linear Regression for the original data and the obfuscated one, compare the predicted values and the RMSE, $R^2$ metric values. Is there any difference?"
   ]
  },
  {
   "cell_type": "markdown",
   "metadata": {},
   "source": [
    "**Procedure**\n",
    "\n",
    "- Create a square matrix $P$ of random numbers.\n",
    "- Check that it is invertible. If not, repeat the first point until we get an invertible matrix.\n",
    "- <! your comment here !>\n",
    "- Use $XP$ as the new feature matrix"
   ]
  },
  {
   "cell_type": "code",
   "execution_count": 53,
   "metadata": {},
   "outputs": [],
   "source": [
    "#random matrix P\n",
    "random_mtrx = np.random.default_rng(seed=12054)\n",
    "P = random_mtrx.random(size=(X.shape[1], X.shape[1]))\n",
    "\n",
    "# training the obfuscate data\n",
    "X_train_obfuscated = x_train @ P\n",
    "X_test_obfuscated = x_test @ P"
   ]
  },
  {
   "cell_type": "code",
   "execution_count": 54,
   "metadata": {
    "scrolled": true
   },
   "outputs": [
    {
     "name": "stdout",
     "output_type": "stream",
     "text": [
      "Original Data Predictions:\n",
      "RMSE: 0.36\n",
      "RMSE w/o format: 0.3559296692823235\n",
      "R2 Value: 0.4236891602917421\n",
      "\n",
      "Obfuscated Data Predictions:\n",
      "RMSE: 0.36\n",
      "RMSE w/o format: 0.35592966928231423\n",
      "R2 Value: 0.42368916029177206\n"
     ]
    }
   ],
   "source": [
    "#normal data trained & tested\n",
    "lr = LinearRegression()\n",
    "lr.fit(x_train, y_train)\n",
    "y_pred_original = lr.predict(x_test)\n",
    "print(\"Original Data Predictions:\")\n",
    "eval_regressor(y_test, y_pred_original)\n",
    "\n",
    "#obfuscated data trained & tested\n",
    "lr.fit(X_train_obfuscated, y_train)\n",
    "y_pred_obfuscated = lr.predict(X_test_obfuscated)\n",
    "print(\"\\n\"\"Obfuscated Data Predictions:\")\n",
    "eval_regressor(y_test, y_pred_obfuscated)"
   ]
  },
  {
   "cell_type": "code",
   "execution_count": 55,
   "metadata": {},
   "outputs": [
    {
     "name": "stdout",
     "output_type": "stream",
     "text": [
      "Original data's predictions:\n",
      " [ 0.73958637  0.34061556 -0.11515136 ...  0.29157292 -0.24543406\n",
      "  0.20183818] \n",
      "\n",
      "Obfuscated data's predictions:\n",
      " [ 0.73958637  0.34061556 -0.11515136 ...  0.29157292 -0.24543406\n",
      "  0.20183818]\n"
     ]
    }
   ],
   "source": [
    "# Compare the predicted values\n",
    "print(\"Original data's predictions:\\n\", y_pred_original, \"\\n\")\n",
    "print(\"Obfuscated data's predictions:\\n\", y_pred_obfuscated)"
   ]
  },
  {
   "cell_type": "code",
   "execution_count": 56,
   "metadata": {},
   "outputs": [
    {
     "name": "stdout",
     "output_type": "stream",
     "text": [
      "T/F - The Obfuscated & Original datas' predictions are close if not similar:\n",
      "True\n"
     ]
    }
   ],
   "source": [
    "print(\"T/F - The Obfuscated & Original datas' predictions are close if not similar:\")\n",
    "print(np.allclose(y_pred_original, y_pred_obfuscated))"
   ]
  },
  {
   "cell_type": "markdown",
   "metadata": {},
   "source": [
    "# Conclusions"
   ]
  },
  {
   "cell_type": "markdown",
   "metadata": {},
   "source": [
    "In order to ensure our clients' personal data doesn't fall into the wrong hands, we developed a data masking machine learning algorithm that incorporates and tests out a randomized matrix that encrypts the original data while avoiding any (notable) alteration to the data's prior integrity. Furthermore, explore four tasks that predict a Sure Tomorrow customer's probability in receiving benefits and whether they share any mutual characteristics with other customers for marketing purposes.\n",
    "\n",
    "\n",
    "In short, we have successfully created a data-masking algorithm that conceals customers information while also avoiding the data becoming unimpaired when we manipulate the data from one state to the other. As for the presented tasks, we were also capable of finding customers related to others as the best 'K-Level' (out of 10) iteration(s) was **K-1** in terms of both the original and scaled data's high accuracy. For the 8th k-level iteration and beyond, relatively, each's original data did not do so well (comparing to the dummy model) even though their scaled data was doing well in terms of accuracy as the scaled data clearly outshined the dummy model's performance.\n",
    "\n",
    "\n",
    "In terms of predicting a customer's chances of receiving insurance benefits, based on the actual data, there's about a 11% acceptance rate with about 550-565 out of 5,000 customers who has gotten benefits."
   ]
  },
  {
   "cell_type": "markdown",
   "metadata": {},
   "source": [
    "# Appendices \n",
    "\n",
    "## Appendix A: Writing Formulas in Jupyter Notebooks"
   ]
  },
  {
   "cell_type": "markdown",
   "metadata": {},
   "source": [
    "You can write formulas in your Jupyter Notebook in a markup language provided by a high-quality publishing system called $\\LaTeX$ (pronounced \"Lah-tech\"), and they will look like formulas in textbooks.\n",
    "\n",
    "To put a formula in a text, put the dollar sign (\\\\$) before and after the formula's text e.g. $\\frac{1}{2} \\times \\frac{3}{2} = \\frac{3}{4}$ or $y = x^2, x \\ge 1$.\n",
    "\n",
    "If a formula should be in its own paragraph, put the double dollar sign (\\\\$\\\\$) before and after the formula text e.g.\n",
    "\n",
    "$$\n",
    "\\bar{x} = \\frac{1}{n}\\sum_{i=1}^{n} x_i.\n",
    "$$\n",
    "\n",
    "The markup language of [LaTeX](https://en.wikipedia.org/wiki/LaTeX) is very popular among people who use formulas in their articles, books and texts. It can be complex but its basics are easy. Check this two page [cheatsheet](http://tug.ctan.org/info/undergradmath/undergradmath.pdf) for learning how to compose the most common formulas."
   ]
  },
  {
   "cell_type": "markdown",
   "metadata": {},
   "source": [
    "## Appendix B: Properties of Matrices"
   ]
  },
  {
   "cell_type": "markdown",
   "metadata": {},
   "source": [
    "Matrices have many properties in Linear Algebra. A few of them are listed here which can help with the analytical proof in this project."
   ]
  },
  {
   "cell_type": "markdown",
   "metadata": {},
   "source": [
    "<table>\n",
    "<tr>\n",
    "<td>Distributivity</td><td>$A(B+C)=AB+AC$</td>\n",
    "</tr>\n",
    "<tr>\n",
    "<td>Non-commutativity</td><td>$AB \\neq BA$</td>\n",
    "</tr>\n",
    "<tr>\n",
    "<td>Associative property of multiplication</td><td>$(AB)C = A(BC)$</td>\n",
    "</tr>\n",
    "<tr>\n",
    "<td>Multiplicative identity property</td><td>$IA = AI = A$</td>\n",
    "</tr>\n",
    "<tr>\n",
    "<td></td><td>$A^{-1}A = AA^{-1} = I$\n",
    "</td>\n",
    "</tr>    \n",
    "<tr>\n",
    "<td></td><td>$(AB)^{-1} = B^{-1}A^{-1}$</td>\n",
    "</tr>    \n",
    "<tr>\n",
    "<td>Reversivity of the transpose of a product of matrices,</td><td>$(AB)^T = B^TA^T$</td>\n",
    "</tr>    \n",
    "</table>"
   ]
  }
 ],
 "metadata": {
  "ExecuteTimeLog": [
   {
    "duration": 5167,
    "start_time": "2024-06-14T15:50:30.504Z"
   },
   {
    "duration": 22,
    "start_time": "2024-06-14T15:50:35.674Z"
   },
   {
    "duration": 25,
    "start_time": "2024-06-14T15:50:35.700Z"
   },
   {
    "duration": 7,
    "start_time": "2024-06-14T15:50:35.730Z"
   },
   {
    "duration": 18,
    "start_time": "2024-06-14T15:50:35.741Z"
   },
   {
    "duration": 51,
    "start_time": "2024-06-14T15:50:35.763Z"
   },
   {
    "duration": 3,
    "start_time": "2024-06-14T15:50:35.818Z"
   },
   {
    "duration": 3,
    "start_time": "2024-06-14T15:50:35.824Z"
   },
   {
    "duration": 3,
    "start_time": "2024-06-14T15:50:35.831Z"
   },
   {
    "duration": 550,
    "start_time": "2024-06-14T15:50:35.840Z"
   },
   {
    "duration": 0,
    "start_time": "2024-06-14T15:50:36.393Z"
   },
   {
    "duration": 0,
    "start_time": "2024-06-14T15:50:36.396Z"
   },
   {
    "duration": 0,
    "start_time": "2024-06-14T15:50:36.406Z"
   },
   {
    "duration": 0,
    "start_time": "2024-06-14T15:50:36.408Z"
   },
   {
    "duration": 0,
    "start_time": "2024-06-14T15:50:36.410Z"
   },
   {
    "duration": 0,
    "start_time": "2024-06-14T15:50:36.413Z"
   },
   {
    "duration": 0,
    "start_time": "2024-06-14T15:50:36.415Z"
   },
   {
    "duration": 0,
    "start_time": "2024-06-14T15:50:36.417Z"
   },
   {
    "duration": 0,
    "start_time": "2024-06-14T15:50:36.419Z"
   },
   {
    "duration": 0,
    "start_time": "2024-06-14T15:50:36.421Z"
   },
   {
    "duration": 0,
    "start_time": "2024-06-14T15:50:36.422Z"
   },
   {
    "duration": 0,
    "start_time": "2024-06-14T15:50:36.424Z"
   },
   {
    "duration": 0,
    "start_time": "2024-06-14T15:50:36.426Z"
   },
   {
    "duration": 0,
    "start_time": "2024-06-14T15:50:36.427Z"
   },
   {
    "duration": 0,
    "start_time": "2024-06-14T15:50:36.429Z"
   },
   {
    "duration": 1,
    "start_time": "2024-06-14T15:50:36.430Z"
   },
   {
    "duration": 195,
    "start_time": "2024-06-14T15:53:17.598Z"
   },
   {
    "duration": 15,
    "start_time": "2024-06-14T15:56:28.116Z"
   },
   {
    "duration": 1647,
    "start_time": "2024-06-14T15:57:37.537Z"
   },
   {
    "duration": 18,
    "start_time": "2024-06-14T15:57:39.188Z"
   },
   {
    "duration": 22,
    "start_time": "2024-06-14T15:57:39.209Z"
   },
   {
    "duration": 5,
    "start_time": "2024-06-14T15:57:39.235Z"
   },
   {
    "duration": 15,
    "start_time": "2024-06-14T15:57:39.244Z"
   },
   {
    "duration": 50,
    "start_time": "2024-06-14T15:57:39.262Z"
   },
   {
    "duration": 5,
    "start_time": "2024-06-14T15:57:39.315Z"
   },
   {
    "duration": 15,
    "start_time": "2024-06-14T15:57:39.323Z"
   },
   {
    "duration": 4,
    "start_time": "2024-06-14T15:57:39.340Z"
   },
   {
    "duration": 3,
    "start_time": "2024-06-14T15:57:39.351Z"
   },
   {
    "duration": 3,
    "start_time": "2024-06-14T15:57:39.405Z"
   },
   {
    "duration": 439,
    "start_time": "2024-06-14T15:57:39.411Z"
   },
   {
    "duration": 0,
    "start_time": "2024-06-14T15:57:39.853Z"
   },
   {
    "duration": 1,
    "start_time": "2024-06-14T15:57:39.855Z"
   },
   {
    "duration": 0,
    "start_time": "2024-06-14T15:57:39.858Z"
   },
   {
    "duration": 0,
    "start_time": "2024-06-14T15:57:39.861Z"
   },
   {
    "duration": 0,
    "start_time": "2024-06-14T15:57:39.863Z"
   },
   {
    "duration": 0,
    "start_time": "2024-06-14T15:57:39.865Z"
   },
   {
    "duration": 0,
    "start_time": "2024-06-14T15:57:39.868Z"
   },
   {
    "duration": 0,
    "start_time": "2024-06-14T15:57:39.871Z"
   },
   {
    "duration": 0,
    "start_time": "2024-06-14T15:57:39.906Z"
   },
   {
    "duration": 0,
    "start_time": "2024-06-14T15:57:39.910Z"
   },
   {
    "duration": 0,
    "start_time": "2024-06-14T15:57:39.912Z"
   },
   {
    "duration": 0,
    "start_time": "2024-06-14T15:57:39.914Z"
   },
   {
    "duration": 0,
    "start_time": "2024-06-14T15:57:39.916Z"
   },
   {
    "duration": 0,
    "start_time": "2024-06-14T15:57:39.919Z"
   },
   {
    "duration": 0,
    "start_time": "2024-06-14T15:57:39.922Z"
   },
   {
    "duration": 0,
    "start_time": "2024-06-14T15:57:39.924Z"
   },
   {
    "duration": 9,
    "start_time": "2024-06-14T15:59:19.653Z"
   },
   {
    "duration": 27,
    "start_time": "2024-06-14T15:59:34.146Z"
   },
   {
    "duration": 10,
    "start_time": "2024-06-14T15:59:38.019Z"
   },
   {
    "duration": 1555,
    "start_time": "2024-06-14T16:02:36.336Z"
   },
   {
    "duration": 12,
    "start_time": "2024-06-14T16:02:37.895Z"
   },
   {
    "duration": 27,
    "start_time": "2024-06-14T16:02:37.910Z"
   },
   {
    "duration": 8,
    "start_time": "2024-06-14T16:02:37.941Z"
   },
   {
    "duration": 15,
    "start_time": "2024-06-14T16:02:37.954Z"
   },
   {
    "duration": 20,
    "start_time": "2024-06-14T16:02:38.006Z"
   },
   {
    "duration": 4,
    "start_time": "2024-06-14T16:02:38.029Z"
   },
   {
    "duration": 6,
    "start_time": "2024-06-14T16:02:38.036Z"
   },
   {
    "duration": 3,
    "start_time": "2024-06-14T16:02:38.045Z"
   },
   {
    "duration": 57,
    "start_time": "2024-06-14T16:02:38.051Z"
   },
   {
    "duration": 12,
    "start_time": "2024-06-14T16:02:38.112Z"
   },
   {
    "duration": 8,
    "start_time": "2024-06-14T16:02:38.130Z"
   },
   {
    "duration": 4,
    "start_time": "2024-06-14T16:02:38.141Z"
   },
   {
    "duration": 485,
    "start_time": "2024-06-14T16:02:38.151Z"
   },
   {
    "duration": 0,
    "start_time": "2024-06-14T16:02:38.639Z"
   },
   {
    "duration": 0,
    "start_time": "2024-06-14T16:02:38.641Z"
   },
   {
    "duration": 0,
    "start_time": "2024-06-14T16:02:38.643Z"
   },
   {
    "duration": 0,
    "start_time": "2024-06-14T16:02:38.645Z"
   },
   {
    "duration": 0,
    "start_time": "2024-06-14T16:02:38.648Z"
   },
   {
    "duration": 0,
    "start_time": "2024-06-14T16:02:38.650Z"
   },
   {
    "duration": 0,
    "start_time": "2024-06-14T16:02:38.652Z"
   },
   {
    "duration": 0,
    "start_time": "2024-06-14T16:02:38.655Z"
   },
   {
    "duration": 0,
    "start_time": "2024-06-14T16:02:38.657Z"
   },
   {
    "duration": 0,
    "start_time": "2024-06-14T16:02:38.659Z"
   },
   {
    "duration": 0,
    "start_time": "2024-06-14T16:02:38.661Z"
   },
   {
    "duration": 0,
    "start_time": "2024-06-14T16:02:38.663Z"
   },
   {
    "duration": 0,
    "start_time": "2024-06-14T16:02:38.665Z"
   },
   {
    "duration": 0,
    "start_time": "2024-06-14T16:02:38.710Z"
   },
   {
    "duration": 0,
    "start_time": "2024-06-14T16:02:38.713Z"
   },
   {
    "duration": 0,
    "start_time": "2024-06-14T16:02:38.715Z"
   },
   {
    "duration": 11,
    "start_time": "2024-06-14T16:04:39.923Z"
   },
   {
    "duration": 10,
    "start_time": "2024-06-14T16:05:11.244Z"
   },
   {
    "duration": 11,
    "start_time": "2024-06-14T16:08:44.673Z"
   },
   {
    "duration": 10,
    "start_time": "2024-06-14T16:16:47.126Z"
   },
   {
    "duration": 10,
    "start_time": "2024-06-14T16:24:45.633Z"
   },
   {
    "duration": 23,
    "start_time": "2024-06-14T17:23:34.131Z"
   },
   {
    "duration": 6,
    "start_time": "2024-06-14T17:24:09.661Z"
   },
   {
    "duration": 25,
    "start_time": "2024-06-14T17:24:58.428Z"
   },
   {
    "duration": 12,
    "start_time": "2024-06-14T17:25:02.474Z"
   },
   {
    "duration": 9,
    "start_time": "2024-06-14T17:25:31.633Z"
   },
   {
    "duration": 6,
    "start_time": "2024-06-14T17:25:40.381Z"
   },
   {
    "duration": 7,
    "start_time": "2024-06-14T17:25:44.594Z"
   },
   {
    "duration": 7,
    "start_time": "2024-06-14T17:25:51.962Z"
   },
   {
    "duration": 7,
    "start_time": "2024-06-14T17:26:01.494Z"
   },
   {
    "duration": 6,
    "start_time": "2024-06-14T17:26:09.171Z"
   },
   {
    "duration": 9,
    "start_time": "2024-06-14T17:26:23.538Z"
   },
   {
    "duration": 8,
    "start_time": "2024-06-14T17:26:47.507Z"
   },
   {
    "duration": 1564,
    "start_time": "2024-06-14T17:26:55.724Z"
   },
   {
    "duration": 19,
    "start_time": "2024-06-14T17:26:57.292Z"
   },
   {
    "duration": 22,
    "start_time": "2024-06-14T17:26:57.314Z"
   },
   {
    "duration": 5,
    "start_time": "2024-06-14T17:26:57.340Z"
   },
   {
    "duration": 13,
    "start_time": "2024-06-14T17:26:57.349Z"
   },
   {
    "duration": 51,
    "start_time": "2024-06-14T17:26:57.365Z"
   },
   {
    "duration": 4,
    "start_time": "2024-06-14T17:26:57.419Z"
   },
   {
    "duration": 5,
    "start_time": "2024-06-14T17:26:57.427Z"
   },
   {
    "duration": 4,
    "start_time": "2024-06-14T17:26:57.435Z"
   },
   {
    "duration": 14,
    "start_time": "2024-06-14T17:26:57.446Z"
   },
   {
    "duration": 51,
    "start_time": "2024-06-14T17:26:57.463Z"
   },
   {
    "duration": 9,
    "start_time": "2024-06-14T17:26:57.517Z"
   },
   {
    "duration": 4,
    "start_time": "2024-06-14T17:26:57.528Z"
   },
   {
    "duration": 11,
    "start_time": "2024-06-14T17:26:57.535Z"
   },
   {
    "duration": 63,
    "start_time": "2024-06-14T17:26:57.550Z"
   },
   {
    "duration": 10,
    "start_time": "2024-06-14T17:26:57.616Z"
   },
   {
    "duration": 10,
    "start_time": "2024-06-14T17:26:57.629Z"
   },
   {
    "duration": 465,
    "start_time": "2024-06-14T17:26:57.642Z"
   },
   {
    "duration": 0,
    "start_time": "2024-06-14T17:26:58.115Z"
   },
   {
    "duration": 0,
    "start_time": "2024-06-14T17:26:58.118Z"
   },
   {
    "duration": 0,
    "start_time": "2024-06-14T17:26:58.120Z"
   },
   {
    "duration": 0,
    "start_time": "2024-06-14T17:26:58.123Z"
   },
   {
    "duration": 0,
    "start_time": "2024-06-14T17:26:58.125Z"
   },
   {
    "duration": 0,
    "start_time": "2024-06-14T17:26:58.127Z"
   },
   {
    "duration": 0,
    "start_time": "2024-06-14T17:26:58.130Z"
   },
   {
    "duration": 0,
    "start_time": "2024-06-14T17:26:58.131Z"
   },
   {
    "duration": 0,
    "start_time": "2024-06-14T17:26:58.133Z"
   },
   {
    "duration": 0,
    "start_time": "2024-06-14T17:26:58.136Z"
   },
   {
    "duration": 0,
    "start_time": "2024-06-14T17:26:58.138Z"
   },
   {
    "duration": 0,
    "start_time": "2024-06-14T17:26:58.140Z"
   },
   {
    "duration": 0,
    "start_time": "2024-06-14T17:26:58.144Z"
   },
   {
    "duration": 0,
    "start_time": "2024-06-14T17:26:58.146Z"
   },
   {
    "duration": 0,
    "start_time": "2024-06-14T17:26:58.148Z"
   },
   {
    "duration": 0,
    "start_time": "2024-06-14T17:26:58.150Z"
   },
   {
    "duration": 10,
    "start_time": "2024-06-14T17:27:28.303Z"
   },
   {
    "duration": 4934,
    "start_time": "2024-06-14T17:31:34.537Z"
   },
   {
    "duration": 1495,
    "start_time": "2024-06-14T22:08:54.170Z"
   },
   {
    "duration": 11,
    "start_time": "2024-06-14T22:08:55.668Z"
   },
   {
    "duration": 32,
    "start_time": "2024-06-14T22:08:55.682Z"
   },
   {
    "duration": 5,
    "start_time": "2024-06-14T22:08:55.719Z"
   },
   {
    "duration": 15,
    "start_time": "2024-06-14T22:08:55.730Z"
   },
   {
    "duration": 14,
    "start_time": "2024-06-14T22:08:55.749Z"
   },
   {
    "duration": 3,
    "start_time": "2024-06-14T22:08:55.805Z"
   },
   {
    "duration": 6,
    "start_time": "2024-06-14T22:08:55.811Z"
   },
   {
    "duration": 4,
    "start_time": "2024-06-14T22:08:55.820Z"
   },
   {
    "duration": 14,
    "start_time": "2024-06-14T22:08:55.830Z"
   },
   {
    "duration": 9,
    "start_time": "2024-06-14T22:08:55.847Z"
   },
   {
    "duration": 9,
    "start_time": "2024-06-14T22:08:55.906Z"
   },
   {
    "duration": 4,
    "start_time": "2024-06-14T22:08:55.917Z"
   },
   {
    "duration": 12,
    "start_time": "2024-06-14T22:08:55.924Z"
   },
   {
    "duration": 11,
    "start_time": "2024-06-14T22:08:55.940Z"
   },
   {
    "duration": 56,
    "start_time": "2024-06-14T22:08:55.953Z"
   },
   {
    "duration": 11,
    "start_time": "2024-06-14T22:08:56.011Z"
   },
   {
    "duration": 4938,
    "start_time": "2024-06-14T22:08:56.025Z"
   },
   {
    "duration": 4,
    "start_time": "2024-06-14T22:09:00.966Z"
   },
   {
    "duration": 11,
    "start_time": "2024-06-14T22:09:00.973Z"
   },
   {
    "duration": 23,
    "start_time": "2024-06-14T22:09:00.987Z"
   },
   {
    "duration": 15,
    "start_time": "2024-06-14T22:09:01.012Z"
   },
   {
    "duration": 447,
    "start_time": "2024-06-14T22:09:01.030Z"
   },
   {
    "duration": 0,
    "start_time": "2024-06-14T22:09:01.480Z"
   },
   {
    "duration": 0,
    "start_time": "2024-06-14T22:09:01.483Z"
   },
   {
    "duration": 0,
    "start_time": "2024-06-14T22:09:01.485Z"
   },
   {
    "duration": 0,
    "start_time": "2024-06-14T22:09:01.488Z"
   },
   {
    "duration": 0,
    "start_time": "2024-06-14T22:09:01.506Z"
   },
   {
    "duration": 0,
    "start_time": "2024-06-14T22:09:01.509Z"
   },
   {
    "duration": 0,
    "start_time": "2024-06-14T22:09:01.510Z"
   },
   {
    "duration": 0,
    "start_time": "2024-06-14T22:09:01.512Z"
   },
   {
    "duration": 0,
    "start_time": "2024-06-14T22:09:01.514Z"
   },
   {
    "duration": 0,
    "start_time": "2024-06-14T22:09:01.517Z"
   },
   {
    "duration": 0,
    "start_time": "2024-06-14T22:09:01.518Z"
   },
   {
    "duration": 1590,
    "start_time": "2024-06-14T22:14:58.582Z"
   },
   {
    "duration": 11,
    "start_time": "2024-06-14T22:15:00.176Z"
   },
   {
    "duration": 32,
    "start_time": "2024-06-14T22:15:00.190Z"
   },
   {
    "duration": 5,
    "start_time": "2024-06-14T22:15:00.226Z"
   },
   {
    "duration": 17,
    "start_time": "2024-06-14T22:15:00.234Z"
   },
   {
    "duration": 53,
    "start_time": "2024-06-14T22:15:00.253Z"
   },
   {
    "duration": 4,
    "start_time": "2024-06-14T22:15:00.309Z"
   },
   {
    "duration": 6,
    "start_time": "2024-06-14T22:15:00.317Z"
   },
   {
    "duration": 3,
    "start_time": "2024-06-14T22:15:00.326Z"
   },
   {
    "duration": 15,
    "start_time": "2024-06-14T22:15:00.335Z"
   },
   {
    "duration": 54,
    "start_time": "2024-06-14T22:15:00.353Z"
   },
   {
    "duration": 9,
    "start_time": "2024-06-14T22:15:00.411Z"
   },
   {
    "duration": 4,
    "start_time": "2024-06-14T22:15:00.423Z"
   },
   {
    "duration": 12,
    "start_time": "2024-06-14T22:15:00.432Z"
   },
   {
    "duration": 59,
    "start_time": "2024-06-14T22:15:00.447Z"
   },
   {
    "duration": 14,
    "start_time": "2024-06-14T22:15:00.509Z"
   },
   {
    "duration": 10,
    "start_time": "2024-06-14T22:15:00.525Z"
   },
   {
    "duration": 4985,
    "start_time": "2024-06-14T22:15:00.538Z"
   },
   {
    "duration": 4,
    "start_time": "2024-06-14T22:15:05.525Z"
   },
   {
    "duration": 7,
    "start_time": "2024-06-14T22:15:05.532Z"
   },
   {
    "duration": 15,
    "start_time": "2024-06-14T22:15:05.542Z"
   },
   {
    "duration": 16,
    "start_time": "2024-06-14T22:15:05.559Z"
   },
   {
    "duration": 6,
    "start_time": "2024-06-14T22:15:05.607Z"
   },
   {
    "duration": 0,
    "start_time": "2024-06-14T22:15:05.616Z"
   },
   {
    "duration": 0,
    "start_time": "2024-06-14T22:15:05.619Z"
   },
   {
    "duration": 0,
    "start_time": "2024-06-14T22:15:05.620Z"
   },
   {
    "duration": 0,
    "start_time": "2024-06-14T22:15:05.623Z"
   },
   {
    "duration": 0,
    "start_time": "2024-06-14T22:15:05.625Z"
   },
   {
    "duration": 0,
    "start_time": "2024-06-14T22:15:05.627Z"
   },
   {
    "duration": 0,
    "start_time": "2024-06-14T22:15:05.630Z"
   },
   {
    "duration": 0,
    "start_time": "2024-06-14T22:15:05.632Z"
   },
   {
    "duration": 0,
    "start_time": "2024-06-14T22:15:05.635Z"
   },
   {
    "duration": 0,
    "start_time": "2024-06-14T22:15:05.637Z"
   },
   {
    "duration": 12,
    "start_time": "2024-06-14T22:23:56.984Z"
   },
   {
    "duration": 0,
    "start_time": "2024-06-14T22:23:57.000Z"
   },
   {
    "duration": 0,
    "start_time": "2024-06-14T22:23:57.001Z"
   },
   {
    "duration": 312,
    "start_time": "2024-06-14T22:23:57.025Z"
   },
   {
    "duration": 0,
    "start_time": "2024-06-14T22:23:57.343Z"
   },
   {
    "duration": 0,
    "start_time": "2024-06-14T22:23:57.345Z"
   },
   {
    "duration": 0,
    "start_time": "2024-06-14T22:23:57.347Z"
   },
   {
    "duration": 0,
    "start_time": "2024-06-14T22:23:57.349Z"
   },
   {
    "duration": 0,
    "start_time": "2024-06-14T22:23:57.353Z"
   },
   {
    "duration": 0,
    "start_time": "2024-06-14T22:23:57.355Z"
   },
   {
    "duration": 0,
    "start_time": "2024-06-14T22:23:57.357Z"
   },
   {
    "duration": 0,
    "start_time": "2024-06-14T22:23:57.359Z"
   },
   {
    "duration": 0,
    "start_time": "2024-06-14T22:23:57.361Z"
   },
   {
    "duration": 0,
    "start_time": "2024-06-14T22:23:57.363Z"
   },
   {
    "duration": 0,
    "start_time": "2024-06-14T22:23:57.366Z"
   },
   {
    "duration": 0,
    "start_time": "2024-06-14T22:23:57.367Z"
   },
   {
    "duration": 0,
    "start_time": "2024-06-14T22:23:57.408Z"
   },
   {
    "duration": 0,
    "start_time": "2024-06-14T22:23:57.410Z"
   },
   {
    "duration": 0,
    "start_time": "2024-06-14T22:23:57.413Z"
   },
   {
    "duration": 0,
    "start_time": "2024-06-14T22:23:57.415Z"
   },
   {
    "duration": 0,
    "start_time": "2024-06-14T22:23:57.418Z"
   },
   {
    "duration": 0,
    "start_time": "2024-06-14T22:23:57.420Z"
   },
   {
    "duration": 0,
    "start_time": "2024-06-14T22:23:57.422Z"
   },
   {
    "duration": 0,
    "start_time": "2024-06-14T22:23:57.425Z"
   },
   {
    "duration": 0,
    "start_time": "2024-06-14T22:23:57.427Z"
   },
   {
    "duration": 0,
    "start_time": "2024-06-14T22:23:57.434Z"
   },
   {
    "duration": 0,
    "start_time": "2024-06-14T22:23:57.437Z"
   },
   {
    "duration": 0,
    "start_time": "2024-06-14T22:23:57.440Z"
   },
   {
    "duration": 0,
    "start_time": "2024-06-14T22:23:57.442Z"
   },
   {
    "duration": 0,
    "start_time": "2024-06-14T22:23:57.444Z"
   },
   {
    "duration": 0,
    "start_time": "2024-06-14T22:23:57.506Z"
   },
   {
    "duration": 0,
    "start_time": "2024-06-14T22:23:57.509Z"
   },
   {
    "duration": 0,
    "start_time": "2024-06-14T22:23:57.511Z"
   },
   {
    "duration": 0,
    "start_time": "2024-06-14T22:23:57.513Z"
   },
   {
    "duration": 0,
    "start_time": "2024-06-14T22:23:57.515Z"
   },
   {
    "duration": 0,
    "start_time": "2024-06-14T22:23:57.517Z"
   },
   {
    "duration": 0,
    "start_time": "2024-06-14T22:23:57.519Z"
   },
   {
    "duration": 0,
    "start_time": "2024-06-14T22:23:57.521Z"
   },
   {
    "duration": 1596,
    "start_time": "2024-06-14T22:39:09.589Z"
   },
   {
    "duration": 11,
    "start_time": "2024-06-14T22:39:11.188Z"
   },
   {
    "duration": 22,
    "start_time": "2024-06-14T22:39:11.206Z"
   },
   {
    "duration": 5,
    "start_time": "2024-06-14T22:39:11.232Z"
   },
   {
    "duration": 15,
    "start_time": "2024-06-14T22:39:11.240Z"
   },
   {
    "duration": 55,
    "start_time": "2024-06-14T22:39:11.258Z"
   },
   {
    "duration": 348,
    "start_time": "2024-06-14T22:39:11.315Z"
   },
   {
    "duration": 3034,
    "start_time": "2024-06-14T22:39:11.665Z"
   },
   {
    "duration": 3220,
    "start_time": "2024-06-14T22:39:14.702Z"
   },
   {
    "duration": 71,
    "start_time": "2024-06-14T22:39:17.936Z"
   },
   {
    "duration": 28,
    "start_time": "2024-06-14T22:39:18.010Z"
   },
   {
    "duration": 17,
    "start_time": "2024-06-14T22:39:18.041Z"
   },
   {
    "duration": 17,
    "start_time": "2024-06-14T22:39:18.060Z"
   },
   {
    "duration": 22,
    "start_time": "2024-06-14T22:39:18.080Z"
   },
   {
    "duration": 31,
    "start_time": "2024-06-14T22:39:18.105Z"
   },
   {
    "duration": 32,
    "start_time": "2024-06-14T22:39:18.138Z"
   },
   {
    "duration": 26,
    "start_time": "2024-06-14T22:39:18.173Z"
   },
   {
    "duration": 4845,
    "start_time": "2024-06-14T22:39:18.203Z"
   },
   {
    "duration": 4,
    "start_time": "2024-06-14T22:39:23.051Z"
   },
   {
    "duration": 6,
    "start_time": "2024-06-14T22:39:23.058Z"
   },
   {
    "duration": 15,
    "start_time": "2024-06-14T22:39:23.068Z"
   },
   {
    "duration": 23,
    "start_time": "2024-06-14T22:39:23.086Z"
   },
   {
    "duration": 436,
    "start_time": "2024-06-14T22:39:23.114Z"
   },
   {
    "duration": 0,
    "start_time": "2024-06-14T22:39:23.554Z"
   },
   {
    "duration": 0,
    "start_time": "2024-06-14T22:39:23.556Z"
   },
   {
    "duration": 0,
    "start_time": "2024-06-14T22:39:23.559Z"
   },
   {
    "duration": 0,
    "start_time": "2024-06-14T22:39:23.562Z"
   },
   {
    "duration": 0,
    "start_time": "2024-06-14T22:39:23.564Z"
   },
   {
    "duration": 0,
    "start_time": "2024-06-14T22:39:23.566Z"
   },
   {
    "duration": 0,
    "start_time": "2024-06-14T22:39:23.569Z"
   },
   {
    "duration": 0,
    "start_time": "2024-06-14T22:39:23.606Z"
   },
   {
    "duration": 0,
    "start_time": "2024-06-14T22:39:23.608Z"
   },
   {
    "duration": 0,
    "start_time": "2024-06-14T22:39:23.610Z"
   },
   {
    "duration": 0,
    "start_time": "2024-06-14T22:39:23.613Z"
   },
   {
    "duration": 0,
    "start_time": "2024-06-14T22:39:23.614Z"
   },
   {
    "duration": 0,
    "start_time": "2024-06-14T22:39:23.617Z"
   },
   {
    "duration": 0,
    "start_time": "2024-06-14T22:39:23.618Z"
   },
   {
    "duration": 0,
    "start_time": "2024-06-14T22:39:23.620Z"
   },
   {
    "duration": 0,
    "start_time": "2024-06-14T22:39:23.622Z"
   },
   {
    "duration": 1575,
    "start_time": "2024-06-14T22:40:40.403Z"
   },
   {
    "duration": 12,
    "start_time": "2024-06-14T22:40:41.982Z"
   },
   {
    "duration": 30,
    "start_time": "2024-06-14T22:40:41.996Z"
   },
   {
    "duration": 5,
    "start_time": "2024-06-14T22:40:42.030Z"
   },
   {
    "duration": 15,
    "start_time": "2024-06-14T22:40:42.039Z"
   },
   {
    "duration": 55,
    "start_time": "2024-06-14T22:40:42.057Z"
   },
   {
    "duration": 4,
    "start_time": "2024-06-14T22:40:42.115Z"
   },
   {
    "duration": 6,
    "start_time": "2024-06-14T22:40:42.122Z"
   },
   {
    "duration": 4,
    "start_time": "2024-06-14T22:40:42.131Z"
   },
   {
    "duration": 14,
    "start_time": "2024-06-14T22:40:42.141Z"
   },
   {
    "duration": 48,
    "start_time": "2024-06-14T22:40:42.161Z"
   },
   {
    "duration": 9,
    "start_time": "2024-06-14T22:40:42.212Z"
   },
   {
    "duration": 3,
    "start_time": "2024-06-14T22:40:42.223Z"
   },
   {
    "duration": 10,
    "start_time": "2024-06-14T22:40:42.230Z"
   },
   {
    "duration": 11,
    "start_time": "2024-06-14T22:40:42.243Z"
   },
   {
    "duration": 61,
    "start_time": "2024-06-14T22:40:42.256Z"
   },
   {
    "duration": 11,
    "start_time": "2024-06-14T22:40:42.320Z"
   },
   {
    "duration": 4841,
    "start_time": "2024-06-14T22:40:42.336Z"
   },
   {
    "duration": 4,
    "start_time": "2024-06-14T22:40:47.180Z"
   },
   {
    "duration": 6,
    "start_time": "2024-06-14T22:40:47.187Z"
   },
   {
    "duration": 19,
    "start_time": "2024-06-14T22:40:47.196Z"
   },
   {
    "duration": 14,
    "start_time": "2024-06-14T22:40:47.218Z"
   },
   {
    "duration": 785,
    "start_time": "2024-06-14T22:40:47.238Z"
   },
   {
    "duration": 0,
    "start_time": "2024-06-14T22:40:48.027Z"
   },
   {
    "duration": 0,
    "start_time": "2024-06-14T22:40:48.030Z"
   },
   {
    "duration": 0,
    "start_time": "2024-06-14T22:40:48.032Z"
   },
   {
    "duration": 0,
    "start_time": "2024-06-14T22:40:48.034Z"
   },
   {
    "duration": 0,
    "start_time": "2024-06-14T22:40:48.035Z"
   },
   {
    "duration": 0,
    "start_time": "2024-06-14T22:40:48.037Z"
   },
   {
    "duration": 0,
    "start_time": "2024-06-14T22:40:48.039Z"
   },
   {
    "duration": 0,
    "start_time": "2024-06-14T22:40:48.040Z"
   },
   {
    "duration": 0,
    "start_time": "2024-06-14T22:40:48.042Z"
   },
   {
    "duration": 0,
    "start_time": "2024-06-14T22:40:48.044Z"
   },
   {
    "duration": 0,
    "start_time": "2024-06-14T22:40:48.046Z"
   },
   {
    "duration": 0,
    "start_time": "2024-06-14T22:40:48.047Z"
   },
   {
    "duration": 0,
    "start_time": "2024-06-14T22:40:48.049Z"
   },
   {
    "duration": 0,
    "start_time": "2024-06-14T22:40:48.051Z"
   },
   {
    "duration": 0,
    "start_time": "2024-06-14T22:40:48.052Z"
   },
   {
    "duration": 0,
    "start_time": "2024-06-14T22:40:48.054Z"
   },
   {
    "duration": 4,
    "start_time": "2024-06-14T22:44:24.401Z"
   },
   {
    "duration": 6,
    "start_time": "2024-06-14T22:44:24.922Z"
   },
   {
    "duration": 14,
    "start_time": "2024-06-14T22:44:26.033Z"
   },
   {
    "duration": 14,
    "start_time": "2024-06-14T22:44:26.676Z"
   },
   {
    "duration": 19,
    "start_time": "2024-06-14T22:44:28.839Z"
   },
   {
    "duration": 19,
    "start_time": "2024-06-14T22:44:29.581Z"
   },
   {
    "duration": 34,
    "start_time": "2024-06-14T22:44:29.970Z"
   },
   {
    "duration": 34,
    "start_time": "2024-06-14T22:44:30.372Z"
   },
   {
    "duration": 36,
    "start_time": "2024-06-14T22:44:57.540Z"
   },
   {
    "duration": 1551,
    "start_time": "2024-06-14T22:45:27.369Z"
   },
   {
    "duration": 13,
    "start_time": "2024-06-14T22:45:28.924Z"
   },
   {
    "duration": 22,
    "start_time": "2024-06-14T22:45:28.939Z"
   },
   {
    "duration": 5,
    "start_time": "2024-06-14T22:45:28.965Z"
   },
   {
    "duration": 43,
    "start_time": "2024-06-14T22:45:28.973Z"
   },
   {
    "duration": 15,
    "start_time": "2024-06-14T22:45:29.019Z"
   },
   {
    "duration": 4,
    "start_time": "2024-06-14T22:45:29.036Z"
   },
   {
    "duration": 5,
    "start_time": "2024-06-14T22:45:29.044Z"
   },
   {
    "duration": 4,
    "start_time": "2024-06-14T22:45:29.053Z"
   },
   {
    "duration": 14,
    "start_time": "2024-06-14T22:45:29.109Z"
   },
   {
    "duration": 10,
    "start_time": "2024-06-14T22:45:29.126Z"
   },
   {
    "duration": 8,
    "start_time": "2024-06-14T22:45:29.139Z"
   },
   {
    "duration": 4,
    "start_time": "2024-06-14T22:45:29.150Z"
   },
   {
    "duration": 10,
    "start_time": "2024-06-14T22:45:29.205Z"
   },
   {
    "duration": 11,
    "start_time": "2024-06-14T22:45:29.218Z"
   },
   {
    "duration": 11,
    "start_time": "2024-06-14T22:45:29.232Z"
   },
   {
    "duration": 11,
    "start_time": "2024-06-14T22:45:29.245Z"
   },
   {
    "duration": 4872,
    "start_time": "2024-06-14T22:45:29.259Z"
   },
   {
    "duration": 5,
    "start_time": "2024-06-14T22:45:34.133Z"
   },
   {
    "duration": 7,
    "start_time": "2024-06-14T22:45:34.141Z"
   },
   {
    "duration": 15,
    "start_time": "2024-06-14T22:45:34.150Z"
   },
   {
    "duration": 40,
    "start_time": "2024-06-14T22:45:34.168Z"
   },
   {
    "duration": 20,
    "start_time": "2024-06-14T22:45:34.211Z"
   },
   {
    "duration": 17,
    "start_time": "2024-06-14T22:45:34.234Z"
   },
   {
    "duration": 65,
    "start_time": "2024-06-14T22:45:34.254Z"
   },
   {
    "duration": 35,
    "start_time": "2024-06-14T22:45:34.322Z"
   },
   {
    "duration": 446,
    "start_time": "2024-06-14T22:45:34.360Z"
   },
   {
    "duration": 0,
    "start_time": "2024-06-14T22:45:34.809Z"
   },
   {
    "duration": 0,
    "start_time": "2024-06-14T22:45:34.813Z"
   },
   {
    "duration": 0,
    "start_time": "2024-06-14T22:45:34.815Z"
   },
   {
    "duration": 0,
    "start_time": "2024-06-14T22:45:34.817Z"
   },
   {
    "duration": 0,
    "start_time": "2024-06-14T22:45:34.819Z"
   },
   {
    "duration": 0,
    "start_time": "2024-06-14T22:45:34.822Z"
   },
   {
    "duration": 0,
    "start_time": "2024-06-14T22:45:34.824Z"
   },
   {
    "duration": 0,
    "start_time": "2024-06-14T22:45:34.827Z"
   },
   {
    "duration": 0,
    "start_time": "2024-06-14T22:45:34.829Z"
   },
   {
    "duration": 1,
    "start_time": "2024-06-14T22:45:34.832Z"
   },
   {
    "duration": 0,
    "start_time": "2024-06-14T22:45:34.835Z"
   },
   {
    "duration": 0,
    "start_time": "2024-06-14T22:45:34.838Z"
   },
   {
    "duration": 5174,
    "start_time": "2024-06-15T16:51:00.024Z"
   },
   {
    "duration": 16,
    "start_time": "2024-06-15T16:51:05.201Z"
   },
   {
    "duration": 21,
    "start_time": "2024-06-15T16:51:05.220Z"
   },
   {
    "duration": 5,
    "start_time": "2024-06-15T16:51:05.245Z"
   },
   {
    "duration": 17,
    "start_time": "2024-06-15T16:51:05.253Z"
   },
   {
    "duration": 52,
    "start_time": "2024-06-15T16:51:05.273Z"
   },
   {
    "duration": 3,
    "start_time": "2024-06-15T16:51:05.328Z"
   },
   {
    "duration": 5,
    "start_time": "2024-06-15T16:51:05.335Z"
   },
   {
    "duration": 4,
    "start_time": "2024-06-15T16:51:05.342Z"
   },
   {
    "duration": 62,
    "start_time": "2024-06-15T16:51:05.353Z"
   },
   {
    "duration": 10,
    "start_time": "2024-06-15T16:51:05.418Z"
   },
   {
    "duration": 9,
    "start_time": "2024-06-15T16:51:05.430Z"
   },
   {
    "duration": 3,
    "start_time": "2024-06-15T16:51:05.442Z"
   },
   {
    "duration": 11,
    "start_time": "2024-06-15T16:51:05.448Z"
   },
   {
    "duration": 56,
    "start_time": "2024-06-15T16:51:05.463Z"
   },
   {
    "duration": 11,
    "start_time": "2024-06-15T16:51:05.522Z"
   },
   {
    "duration": 10,
    "start_time": "2024-06-15T16:51:05.536Z"
   },
   {
    "duration": 4896,
    "start_time": "2024-06-15T16:51:05.549Z"
   },
   {
    "duration": 4,
    "start_time": "2024-06-15T16:51:10.448Z"
   },
   {
    "duration": 7,
    "start_time": "2024-06-15T16:51:10.455Z"
   },
   {
    "duration": 15,
    "start_time": "2024-06-15T16:51:10.465Z"
   },
   {
    "duration": 39,
    "start_time": "2024-06-15T16:51:10.482Z"
   },
   {
    "duration": 19,
    "start_time": "2024-06-15T16:51:10.524Z"
   },
   {
    "duration": 19,
    "start_time": "2024-06-15T16:51:10.546Z"
   },
   {
    "duration": 70,
    "start_time": "2024-06-15T16:51:10.568Z"
   },
   {
    "duration": 34,
    "start_time": "2024-06-15T16:51:10.641Z"
   },
   {
    "duration": 7,
    "start_time": "2024-06-15T16:51:10.678Z"
   },
   {
    "duration": 0,
    "start_time": "2024-06-15T16:51:10.714Z"
   },
   {
    "duration": 0,
    "start_time": "2024-06-15T16:51:10.716Z"
   },
   {
    "duration": 0,
    "start_time": "2024-06-15T16:51:10.719Z"
   },
   {
    "duration": 1,
    "start_time": "2024-06-15T16:51:10.720Z"
   },
   {
    "duration": 0,
    "start_time": "2024-06-15T16:51:10.724Z"
   },
   {
    "duration": 0,
    "start_time": "2024-06-15T16:51:10.727Z"
   },
   {
    "duration": 0,
    "start_time": "2024-06-15T16:51:10.729Z"
   },
   {
    "duration": 0,
    "start_time": "2024-06-15T16:51:10.731Z"
   },
   {
    "duration": 0,
    "start_time": "2024-06-15T16:51:10.734Z"
   },
   {
    "duration": 0,
    "start_time": "2024-06-15T16:51:10.736Z"
   },
   {
    "duration": 343,
    "start_time": "2024-06-15T23:57:40.963Z"
   },
   {
    "duration": 5380,
    "start_time": "2024-06-15T23:58:05.935Z"
   },
   {
    "duration": 16,
    "start_time": "2024-06-15T23:58:11.322Z"
   },
   {
    "duration": 22,
    "start_time": "2024-06-15T23:58:11.341Z"
   },
   {
    "duration": 6,
    "start_time": "2024-06-15T23:58:11.366Z"
   },
   {
    "duration": 15,
    "start_time": "2024-06-15T23:58:11.376Z"
   },
   {
    "duration": 17,
    "start_time": "2024-06-15T23:58:11.425Z"
   },
   {
    "duration": 3,
    "start_time": "2024-06-15T23:58:11.446Z"
   },
   {
    "duration": 5,
    "start_time": "2024-06-15T23:58:11.454Z"
   },
   {
    "duration": 4,
    "start_time": "2024-06-15T23:58:11.463Z"
   },
   {
    "duration": 59,
    "start_time": "2024-06-15T23:58:11.471Z"
   },
   {
    "duration": 9,
    "start_time": "2024-06-15T23:58:11.533Z"
   },
   {
    "duration": 8,
    "start_time": "2024-06-15T23:58:11.545Z"
   },
   {
    "duration": 4,
    "start_time": "2024-06-15T23:58:11.556Z"
   },
   {
    "duration": 56,
    "start_time": "2024-06-15T23:58:11.568Z"
   },
   {
    "duration": 11,
    "start_time": "2024-06-15T23:58:11.627Z"
   },
   {
    "duration": 11,
    "start_time": "2024-06-15T23:58:11.641Z"
   },
   {
    "duration": 11,
    "start_time": "2024-06-15T23:58:11.655Z"
   },
   {
    "duration": 5111,
    "start_time": "2024-06-15T23:58:11.668Z"
   },
   {
    "duration": 4,
    "start_time": "2024-06-15T23:58:16.783Z"
   },
   {
    "duration": 7,
    "start_time": "2024-06-15T23:58:16.789Z"
   },
   {
    "duration": 24,
    "start_time": "2024-06-15T23:58:16.799Z"
   },
   {
    "duration": 113,
    "start_time": "2024-06-15T23:58:16.825Z"
   },
   {
    "duration": 20,
    "start_time": "2024-06-15T23:58:16.941Z"
   },
   {
    "duration": 18,
    "start_time": "2024-06-15T23:58:16.964Z"
   },
   {
    "duration": 73,
    "start_time": "2024-06-15T23:58:16.985Z"
   },
   {
    "duration": 39,
    "start_time": "2024-06-15T23:58:17.061Z"
   },
   {
    "duration": 10,
    "start_time": "2024-06-15T23:58:17.124Z"
   },
   {
    "duration": 433,
    "start_time": "2024-06-15T23:58:17.138Z"
   },
   {
    "duration": 0,
    "start_time": "2024-06-15T23:58:17.573Z"
   },
   {
    "duration": 0,
    "start_time": "2024-06-15T23:58:17.576Z"
   },
   {
    "duration": 0,
    "start_time": "2024-06-15T23:58:17.577Z"
   },
   {
    "duration": 0,
    "start_time": "2024-06-15T23:58:17.580Z"
   },
   {
    "duration": 0,
    "start_time": "2024-06-15T23:58:17.583Z"
   },
   {
    "duration": 0,
    "start_time": "2024-06-15T23:58:17.585Z"
   },
   {
    "duration": 0,
    "start_time": "2024-06-15T23:58:17.587Z"
   },
   {
    "duration": 0,
    "start_time": "2024-06-15T23:58:17.590Z"
   },
   {
    "duration": 0,
    "start_time": "2024-06-15T23:58:17.593Z"
   },
   {
    "duration": 0,
    "start_time": "2024-06-15T23:58:17.624Z"
   },
   {
    "duration": 6,
    "start_time": "2024-06-15T23:58:47.317Z"
   },
   {
    "duration": 8,
    "start_time": "2024-06-15T23:58:53.703Z"
   },
   {
    "duration": 7,
    "start_time": "2024-06-15T23:58:54.009Z"
   },
   {
    "duration": 7,
    "start_time": "2024-06-15T23:59:09.181Z"
   },
   {
    "duration": 6,
    "start_time": "2024-06-15T23:59:09.546Z"
   },
   {
    "duration": 20,
    "start_time": "2024-06-15T23:59:55.098Z"
   },
   {
    "duration": 12,
    "start_time": "2024-06-16T00:00:21.228Z"
   },
   {
    "duration": 12,
    "start_time": "2024-06-16T00:00:47.827Z"
   },
   {
    "duration": 7,
    "start_time": "2024-06-16T00:01:45.023Z"
   },
   {
    "duration": 7,
    "start_time": "2024-06-16T00:01:50.383Z"
   },
   {
    "duration": 31,
    "start_time": "2024-06-16T00:02:05.729Z"
   },
   {
    "duration": 7,
    "start_time": "2024-06-16T00:02:15.495Z"
   },
   {
    "duration": 321,
    "start_time": "2024-06-16T14:02:30.383Z"
   },
   {
    "duration": 22,
    "start_time": "2024-06-16T14:02:32.689Z"
   },
   {
    "duration": 5310,
    "start_time": "2024-06-16T14:02:42.854Z"
   },
   {
    "duration": 20,
    "start_time": "2024-06-16T14:02:48.169Z"
   },
   {
    "duration": 36,
    "start_time": "2024-06-16T14:02:48.192Z"
   },
   {
    "duration": 5,
    "start_time": "2024-06-16T14:02:48.234Z"
   },
   {
    "duration": 15,
    "start_time": "2024-06-16T14:02:48.243Z"
   },
   {
    "duration": 17,
    "start_time": "2024-06-16T14:02:48.262Z"
   },
   {
    "duration": 4,
    "start_time": "2024-06-16T14:02:48.322Z"
   },
   {
    "duration": 5,
    "start_time": "2024-06-16T14:02:48.330Z"
   },
   {
    "duration": 4,
    "start_time": "2024-06-16T14:02:48.338Z"
   },
   {
    "duration": 15,
    "start_time": "2024-06-16T14:02:48.350Z"
   },
   {
    "duration": 56,
    "start_time": "2024-06-16T14:02:48.369Z"
   },
   {
    "duration": 11,
    "start_time": "2024-06-16T14:02:48.429Z"
   },
   {
    "duration": 4,
    "start_time": "2024-06-16T14:02:48.443Z"
   },
   {
    "duration": 13,
    "start_time": "2024-06-16T14:02:48.451Z"
   },
   {
    "duration": 62,
    "start_time": "2024-06-16T14:02:48.467Z"
   },
   {
    "duration": 11,
    "start_time": "2024-06-16T14:02:48.533Z"
   },
   {
    "duration": 11,
    "start_time": "2024-06-16T14:02:48.550Z"
   },
   {
    "duration": 5292,
    "start_time": "2024-06-16T14:02:48.564Z"
   },
   {
    "duration": 4,
    "start_time": "2024-06-16T14:02:53.859Z"
   },
   {
    "duration": 7,
    "start_time": "2024-06-16T14:02:53.867Z"
   },
   {
    "duration": 16,
    "start_time": "2024-06-16T14:02:53.879Z"
   },
   {
    "duration": 34,
    "start_time": "2024-06-16T14:02:53.899Z"
   },
   {
    "duration": 20,
    "start_time": "2024-06-16T14:02:53.936Z"
   },
   {
    "duration": 20,
    "start_time": "2024-06-16T14:02:53.960Z"
   },
   {
    "duration": 70,
    "start_time": "2024-06-16T14:02:53.984Z"
   },
   {
    "duration": 36,
    "start_time": "2024-06-16T14:02:54.057Z"
   },
   {
    "duration": 34,
    "start_time": "2024-06-16T14:02:54.096Z"
   },
   {
    "duration": 6,
    "start_time": "2024-06-16T14:02:54.138Z"
   },
   {
    "duration": 8,
    "start_time": "2024-06-16T14:02:54.147Z"
   },
   {
    "duration": 1424,
    "start_time": "2024-06-16T14:02:54.159Z"
   },
   {
    "duration": 0,
    "start_time": "2024-06-16T14:02:55.586Z"
   },
   {
    "duration": 0,
    "start_time": "2024-06-16T14:02:55.588Z"
   },
   {
    "duration": 0,
    "start_time": "2024-06-16T14:02:55.590Z"
   },
   {
    "duration": 0,
    "start_time": "2024-06-16T14:02:55.593Z"
   },
   {
    "duration": 0,
    "start_time": "2024-06-16T14:02:55.595Z"
   },
   {
    "duration": 0,
    "start_time": "2024-06-16T14:02:55.597Z"
   },
   {
    "duration": 0,
    "start_time": "2024-06-16T14:02:55.624Z"
   },
   {
    "duration": 0,
    "start_time": "2024-06-16T14:02:55.626Z"
   },
   {
    "duration": 0,
    "start_time": "2024-06-16T14:02:55.628Z"
   },
   {
    "duration": 0,
    "start_time": "2024-06-16T14:02:55.631Z"
   },
   {
    "duration": 0,
    "start_time": "2024-06-16T14:02:55.633Z"
   },
   {
    "duration": 0,
    "start_time": "2024-06-16T14:02:55.638Z"
   },
   {
    "duration": 0,
    "start_time": "2024-06-16T14:02:55.640Z"
   },
   {
    "duration": 0,
    "start_time": "2024-06-16T14:02:55.643Z"
   },
   {
    "duration": 6,
    "start_time": "2024-06-16T14:03:16.280Z"
   },
   {
    "duration": 9,
    "start_time": "2024-06-16T14:03:18.041Z"
   },
   {
    "duration": 5,
    "start_time": "2024-06-16T14:03:18.863Z"
   },
   {
    "duration": 25,
    "start_time": "2024-06-16T14:03:46.760Z"
   },
   {
    "duration": 11,
    "start_time": "2024-06-16T14:04:02.784Z"
   },
   {
    "duration": 30,
    "start_time": "2024-06-16T14:04:03.662Z"
   },
   {
    "duration": 1555,
    "start_time": "2024-06-16T14:04:37.742Z"
   },
   {
    "duration": 11,
    "start_time": "2024-06-16T14:04:39.300Z"
   },
   {
    "duration": 29,
    "start_time": "2024-06-16T14:04:39.314Z"
   },
   {
    "duration": 5,
    "start_time": "2024-06-16T14:04:39.348Z"
   },
   {
    "duration": 15,
    "start_time": "2024-06-16T14:04:39.357Z"
   },
   {
    "duration": 49,
    "start_time": "2024-06-16T14:04:39.375Z"
   },
   {
    "duration": 3,
    "start_time": "2024-06-16T14:04:39.428Z"
   },
   {
    "duration": 5,
    "start_time": "2024-06-16T14:04:39.435Z"
   },
   {
    "duration": 3,
    "start_time": "2024-06-16T14:04:39.444Z"
   },
   {
    "duration": 14,
    "start_time": "2024-06-16T14:04:39.456Z"
   },
   {
    "duration": 9,
    "start_time": "2024-06-16T14:04:39.523Z"
   },
   {
    "duration": 9,
    "start_time": "2024-06-16T14:04:39.535Z"
   },
   {
    "duration": 3,
    "start_time": "2024-06-16T14:04:39.547Z"
   },
   {
    "duration": 11,
    "start_time": "2024-06-16T14:04:39.553Z"
   },
   {
    "duration": 58,
    "start_time": "2024-06-16T14:04:39.567Z"
   },
   {
    "duration": 11,
    "start_time": "2024-06-16T14:04:39.627Z"
   },
   {
    "duration": 11,
    "start_time": "2024-06-16T14:04:39.641Z"
   },
   {
    "duration": 4949,
    "start_time": "2024-06-16T14:04:39.655Z"
   },
   {
    "duration": 4,
    "start_time": "2024-06-16T14:04:44.607Z"
   },
   {
    "duration": 8,
    "start_time": "2024-06-16T14:04:44.616Z"
   },
   {
    "duration": 17,
    "start_time": "2024-06-16T14:04:44.628Z"
   },
   {
    "duration": 16,
    "start_time": "2024-06-16T14:04:44.648Z"
   },
   {
    "duration": 18,
    "start_time": "2024-06-16T14:04:44.667Z"
   },
   {
    "duration": 18,
    "start_time": "2024-06-16T14:04:44.724Z"
   },
   {
    "duration": 35,
    "start_time": "2024-06-16T14:04:44.745Z"
   },
   {
    "duration": 62,
    "start_time": "2024-06-16T14:04:44.783Z"
   },
   {
    "duration": 10,
    "start_time": "2024-06-16T14:04:44.848Z"
   },
   {
    "duration": 6,
    "start_time": "2024-06-16T14:04:44.865Z"
   },
   {
    "duration": 8,
    "start_time": "2024-06-16T14:04:44.874Z"
   },
   {
    "duration": 41,
    "start_time": "2024-06-16T14:04:44.885Z"
   },
   {
    "duration": 8,
    "start_time": "2024-06-16T14:04:44.929Z"
   },
   {
    "duration": 5,
    "start_time": "2024-06-16T14:04:44.939Z"
   },
   {
    "duration": 11,
    "start_time": "2024-06-16T14:04:44.948Z"
   },
   {
    "duration": 468,
    "start_time": "2024-06-16T14:04:44.961Z"
   },
   {
    "duration": 0,
    "start_time": "2024-06-16T14:04:45.432Z"
   },
   {
    "duration": 0,
    "start_time": "2024-06-16T14:04:45.434Z"
   },
   {
    "duration": 0,
    "start_time": "2024-06-16T14:04:45.436Z"
   },
   {
    "duration": 0,
    "start_time": "2024-06-16T14:04:45.438Z"
   },
   {
    "duration": 0,
    "start_time": "2024-06-16T14:04:45.441Z"
   },
   {
    "duration": 0,
    "start_time": "2024-06-16T14:04:45.443Z"
   },
   {
    "duration": 0,
    "start_time": "2024-06-16T14:04:45.445Z"
   },
   {
    "duration": 0,
    "start_time": "2024-06-16T14:04:45.447Z"
   },
   {
    "duration": 0,
    "start_time": "2024-06-16T14:04:45.449Z"
   },
   {
    "duration": 0,
    "start_time": "2024-06-16T14:04:45.451Z"
   },
   {
    "duration": 95,
    "start_time": "2024-06-16T14:05:37.440Z"
   },
   {
    "duration": 1557,
    "start_time": "2024-06-16T14:06:51.674Z"
   },
   {
    "duration": 24,
    "start_time": "2024-06-16T14:06:53.236Z"
   },
   {
    "duration": 34,
    "start_time": "2024-06-16T14:06:53.264Z"
   },
   {
    "duration": 36,
    "start_time": "2024-06-16T14:06:53.301Z"
   },
   {
    "duration": 23,
    "start_time": "2024-06-16T14:06:53.343Z"
   },
   {
    "duration": 17,
    "start_time": "2024-06-16T14:06:53.371Z"
   },
   {
    "duration": 32,
    "start_time": "2024-06-16T14:06:53.392Z"
   },
   {
    "duration": 19,
    "start_time": "2024-06-16T14:06:53.427Z"
   },
   {
    "duration": 8,
    "start_time": "2024-06-16T14:06:53.451Z"
   },
   {
    "duration": 16,
    "start_time": "2024-06-16T14:06:53.463Z"
   },
   {
    "duration": 11,
    "start_time": "2024-06-16T14:06:53.482Z"
   },
   {
    "duration": 9,
    "start_time": "2024-06-16T14:06:53.523Z"
   },
   {
    "duration": 3,
    "start_time": "2024-06-16T14:06:53.536Z"
   },
   {
    "duration": 12,
    "start_time": "2024-06-16T14:06:53.548Z"
   },
   {
    "duration": 69,
    "start_time": "2024-06-16T14:06:53.563Z"
   },
   {
    "duration": 12,
    "start_time": "2024-06-16T14:06:53.635Z"
   },
   {
    "duration": 11,
    "start_time": "2024-06-16T14:06:53.650Z"
   },
   {
    "duration": 5131,
    "start_time": "2024-06-16T14:06:53.664Z"
   },
   {
    "duration": 4,
    "start_time": "2024-06-16T14:06:58.799Z"
   },
   {
    "duration": 9,
    "start_time": "2024-06-16T14:06:58.806Z"
   },
   {
    "duration": 15,
    "start_time": "2024-06-16T14:06:58.817Z"
   },
   {
    "duration": 17,
    "start_time": "2024-06-16T14:06:58.834Z"
   },
   {
    "duration": 18,
    "start_time": "2024-06-16T14:06:58.854Z"
   },
   {
    "duration": 54,
    "start_time": "2024-06-16T14:06:58.876Z"
   },
   {
    "duration": 33,
    "start_time": "2024-06-16T14:06:58.933Z"
   },
   {
    "duration": 54,
    "start_time": "2024-06-16T14:06:58.969Z"
   },
   {
    "duration": 10,
    "start_time": "2024-06-16T14:06:59.025Z"
   },
   {
    "duration": 6,
    "start_time": "2024-06-16T14:06:59.038Z"
   },
   {
    "duration": 7,
    "start_time": "2024-06-16T14:06:59.047Z"
   },
   {
    "duration": 7,
    "start_time": "2024-06-16T14:06:59.058Z"
   },
   {
    "duration": 54,
    "start_time": "2024-06-16T14:06:59.071Z"
   },
   {
    "duration": 5,
    "start_time": "2024-06-16T14:06:59.128Z"
   },
   {
    "duration": 11,
    "start_time": "2024-06-16T14:06:59.136Z"
   },
   {
    "duration": 858,
    "start_time": "2024-06-16T14:06:59.150Z"
   },
   {
    "duration": 0,
    "start_time": "2024-06-16T14:07:00.011Z"
   },
   {
    "duration": 9,
    "start_time": "2024-06-16T14:07:00.013Z"
   },
   {
    "duration": 0,
    "start_time": "2024-06-16T14:07:00.026Z"
   },
   {
    "duration": 0,
    "start_time": "2024-06-16T14:07:00.028Z"
   },
   {
    "duration": 0,
    "start_time": "2024-06-16T14:07:00.031Z"
   },
   {
    "duration": 0,
    "start_time": "2024-06-16T14:07:00.033Z"
   },
   {
    "duration": 0,
    "start_time": "2024-06-16T14:07:00.035Z"
   },
   {
    "duration": 0,
    "start_time": "2024-06-16T14:07:00.036Z"
   },
   {
    "duration": 0,
    "start_time": "2024-06-16T14:07:00.039Z"
   },
   {
    "duration": 0,
    "start_time": "2024-06-16T14:07:00.042Z"
   },
   {
    "duration": 261,
    "start_time": "2024-06-16T14:10:54.404Z"
   },
   {
    "duration": 2158,
    "start_time": "2024-06-16T14:11:06.726Z"
   },
   {
    "duration": 2228,
    "start_time": "2024-06-16T14:12:01.159Z"
   },
   {
    "duration": 1979,
    "start_time": "2024-06-16T14:16:12.478Z"
   },
   {
    "duration": 170,
    "start_time": "2024-06-16T14:16:14.462Z"
   },
   {
    "duration": 125,
    "start_time": "2024-06-16T14:16:31.951Z"
   },
   {
    "duration": 36,
    "start_time": "2024-06-16T14:17:02.057Z"
   },
   {
    "duration": 38,
    "start_time": "2024-06-16T14:19:07.084Z"
   },
   {
    "duration": 1714,
    "start_time": "2024-06-16T14:19:15.955Z"
   },
   {
    "duration": 13,
    "start_time": "2024-06-16T14:19:17.673Z"
   },
   {
    "duration": 40,
    "start_time": "2024-06-16T14:19:17.689Z"
   },
   {
    "duration": 5,
    "start_time": "2024-06-16T14:19:17.734Z"
   },
   {
    "duration": 22,
    "start_time": "2024-06-16T14:19:17.742Z"
   },
   {
    "duration": 17,
    "start_time": "2024-06-16T14:19:17.767Z"
   },
   {
    "duration": 3,
    "start_time": "2024-06-16T14:19:17.823Z"
   },
   {
    "duration": 6,
    "start_time": "2024-06-16T14:19:17.830Z"
   },
   {
    "duration": 4,
    "start_time": "2024-06-16T14:19:17.840Z"
   },
   {
    "duration": 17,
    "start_time": "2024-06-16T14:19:17.850Z"
   },
   {
    "duration": 57,
    "start_time": "2024-06-16T14:19:17.870Z"
   },
   {
    "duration": 11,
    "start_time": "2024-06-16T14:19:17.931Z"
   },
   {
    "duration": 4,
    "start_time": "2024-06-16T14:19:17.944Z"
   },
   {
    "duration": 12,
    "start_time": "2024-06-16T14:19:17.952Z"
   },
   {
    "duration": 61,
    "start_time": "2024-06-16T14:19:17.967Z"
   },
   {
    "duration": 13,
    "start_time": "2024-06-16T14:19:18.031Z"
   },
   {
    "duration": 12,
    "start_time": "2024-06-16T14:19:18.048Z"
   },
   {
    "duration": 5509,
    "start_time": "2024-06-16T14:19:18.063Z"
   },
   {
    "duration": 5,
    "start_time": "2024-06-16T14:19:23.574Z"
   },
   {
    "duration": 8,
    "start_time": "2024-06-16T14:19:23.583Z"
   },
   {
    "duration": 16,
    "start_time": "2024-06-16T14:19:23.595Z"
   },
   {
    "duration": 22,
    "start_time": "2024-06-16T14:19:23.614Z"
   },
   {
    "duration": 21,
    "start_time": "2024-06-16T14:19:23.640Z"
   },
   {
    "duration": 59,
    "start_time": "2024-06-16T14:19:23.664Z"
   },
   {
    "duration": 36,
    "start_time": "2024-06-16T14:19:23.726Z"
   },
   {
    "duration": 59,
    "start_time": "2024-06-16T14:19:23.766Z"
   },
   {
    "duration": 10,
    "start_time": "2024-06-16T14:19:23.828Z"
   },
   {
    "duration": 6,
    "start_time": "2024-06-16T14:19:23.847Z"
   },
   {
    "duration": 9,
    "start_time": "2024-06-16T14:19:23.857Z"
   },
   {
    "duration": 56,
    "start_time": "2024-06-16T14:19:23.870Z"
   },
   {
    "duration": 9,
    "start_time": "2024-06-16T14:19:23.929Z"
   },
   {
    "duration": 6,
    "start_time": "2024-06-16T14:19:23.942Z"
   },
   {
    "duration": 12,
    "start_time": "2024-06-16T14:19:23.952Z"
   },
   {
    "duration": 2204,
    "start_time": "2024-06-16T14:19:23.967Z"
   },
   {
    "duration": 258,
    "start_time": "2024-06-16T14:19:26.175Z"
   },
   {
    "duration": 0,
    "start_time": "2024-06-16T14:19:26.436Z"
   },
   {
    "duration": 0,
    "start_time": "2024-06-16T14:19:26.440Z"
   },
   {
    "duration": 0,
    "start_time": "2024-06-16T14:19:26.442Z"
   },
   {
    "duration": 0,
    "start_time": "2024-06-16T14:19:26.446Z"
   },
   {
    "duration": 0,
    "start_time": "2024-06-16T14:19:26.449Z"
   },
   {
    "duration": 0,
    "start_time": "2024-06-16T14:19:26.451Z"
   },
   {
    "duration": 0,
    "start_time": "2024-06-16T14:19:26.454Z"
   },
   {
    "duration": 0,
    "start_time": "2024-06-16T14:19:26.456Z"
   },
   {
    "duration": 0,
    "start_time": "2024-06-16T14:19:26.459Z"
   },
   {
    "duration": 30,
    "start_time": "2024-06-16T14:19:49.109Z"
   },
   {
    "duration": 1692,
    "start_time": "2024-06-16T14:19:58.946Z"
   },
   {
    "duration": 11,
    "start_time": "2024-06-16T14:20:00.641Z"
   },
   {
    "duration": 23,
    "start_time": "2024-06-16T14:20:00.655Z"
   },
   {
    "duration": 7,
    "start_time": "2024-06-16T14:20:00.682Z"
   },
   {
    "duration": 18,
    "start_time": "2024-06-16T14:20:00.723Z"
   },
   {
    "duration": 17,
    "start_time": "2024-06-16T14:20:00.744Z"
   },
   {
    "duration": 3,
    "start_time": "2024-06-16T14:20:00.764Z"
   },
   {
    "duration": 7,
    "start_time": "2024-06-16T14:20:00.770Z"
   },
   {
    "duration": 46,
    "start_time": "2024-06-16T14:20:00.779Z"
   },
   {
    "duration": 17,
    "start_time": "2024-06-16T14:20:00.829Z"
   },
   {
    "duration": 11,
    "start_time": "2024-06-16T14:20:00.851Z"
   },
   {
    "duration": 10,
    "start_time": "2024-06-16T14:20:00.866Z"
   },
   {
    "duration": 4,
    "start_time": "2024-06-16T14:20:00.924Z"
   },
   {
    "duration": 10,
    "start_time": "2024-06-16T14:20:00.936Z"
   },
   {
    "duration": 12,
    "start_time": "2024-06-16T14:20:00.950Z"
   },
   {
    "duration": 58,
    "start_time": "2024-06-16T14:20:00.965Z"
   },
   {
    "duration": 12,
    "start_time": "2024-06-16T14:20:01.028Z"
   },
   {
    "duration": 5361,
    "start_time": "2024-06-16T14:20:01.043Z"
   },
   {
    "duration": 4,
    "start_time": "2024-06-16T14:20:06.407Z"
   },
   {
    "duration": 7,
    "start_time": "2024-06-16T14:20:06.415Z"
   },
   {
    "duration": 16,
    "start_time": "2024-06-16T14:20:06.425Z"
   },
   {
    "duration": 15,
    "start_time": "2024-06-16T14:20:06.444Z"
   },
   {
    "duration": 20,
    "start_time": "2024-06-16T14:20:06.463Z"
   },
   {
    "duration": 21,
    "start_time": "2024-06-16T14:20:06.523Z"
   },
   {
    "duration": 35,
    "start_time": "2024-06-16T14:20:06.548Z"
   },
   {
    "duration": 66,
    "start_time": "2024-06-16T14:20:06.586Z"
   },
   {
    "duration": 9,
    "start_time": "2024-06-16T14:20:06.656Z"
   },
   {
    "duration": 6,
    "start_time": "2024-06-16T14:20:06.669Z"
   },
   {
    "duration": 49,
    "start_time": "2024-06-16T14:20:06.679Z"
   },
   {
    "duration": 7,
    "start_time": "2024-06-16T14:20:06.732Z"
   },
   {
    "duration": 9,
    "start_time": "2024-06-16T14:20:06.742Z"
   },
   {
    "duration": 6,
    "start_time": "2024-06-16T14:20:06.754Z"
   },
   {
    "duration": 59,
    "start_time": "2024-06-16T14:20:06.764Z"
   },
   {
    "duration": 2325,
    "start_time": "2024-06-16T14:20:06.825Z"
   },
   {
    "duration": 246,
    "start_time": "2024-06-16T14:20:09.154Z"
   },
   {
    "duration": 0,
    "start_time": "2024-06-16T14:20:09.403Z"
   },
   {
    "duration": 0,
    "start_time": "2024-06-16T14:20:09.405Z"
   },
   {
    "duration": 0,
    "start_time": "2024-06-16T14:20:09.408Z"
   },
   {
    "duration": 0,
    "start_time": "2024-06-16T14:20:09.422Z"
   },
   {
    "duration": 0,
    "start_time": "2024-06-16T14:20:09.424Z"
   },
   {
    "duration": 0,
    "start_time": "2024-06-16T14:20:09.427Z"
   },
   {
    "duration": 0,
    "start_time": "2024-06-16T14:20:09.428Z"
   },
   {
    "duration": 0,
    "start_time": "2024-06-16T14:20:09.430Z"
   },
   {
    "duration": 0,
    "start_time": "2024-06-16T14:20:09.432Z"
   },
   {
    "duration": 5,
    "start_time": "2024-06-16T14:25:41.990Z"
   },
   {
    "duration": 241,
    "start_time": "2024-06-16T14:25:42.664Z"
   },
   {
    "duration": 27,
    "start_time": "2024-06-16T14:25:55.630Z"
   },
   {
    "duration": 1605,
    "start_time": "2024-06-16T14:26:15.769Z"
   },
   {
    "duration": 17,
    "start_time": "2024-06-16T14:26:17.378Z"
   },
   {
    "duration": 36,
    "start_time": "2024-06-16T14:26:17.398Z"
   },
   {
    "duration": 6,
    "start_time": "2024-06-16T14:26:17.439Z"
   },
   {
    "duration": 16,
    "start_time": "2024-06-16T14:26:17.449Z"
   },
   {
    "duration": 55,
    "start_time": "2024-06-16T14:26:17.468Z"
   },
   {
    "duration": 3,
    "start_time": "2024-06-16T14:26:17.527Z"
   },
   {
    "duration": 5,
    "start_time": "2024-06-16T14:26:17.534Z"
   },
   {
    "duration": 3,
    "start_time": "2024-06-16T14:26:17.543Z"
   },
   {
    "duration": 15,
    "start_time": "2024-06-16T14:26:17.552Z"
   },
   {
    "duration": 55,
    "start_time": "2024-06-16T14:26:17.569Z"
   },
   {
    "duration": 10,
    "start_time": "2024-06-16T14:26:17.627Z"
   },
   {
    "duration": 4,
    "start_time": "2024-06-16T14:26:17.639Z"
   },
   {
    "duration": 11,
    "start_time": "2024-06-16T14:26:17.646Z"
   },
   {
    "duration": 11,
    "start_time": "2024-06-16T14:26:17.660Z"
   },
   {
    "duration": 11,
    "start_time": "2024-06-16T14:26:17.722Z"
   },
   {
    "duration": 11,
    "start_time": "2024-06-16T14:26:17.736Z"
   },
   {
    "duration": 4981,
    "start_time": "2024-06-16T14:26:17.750Z"
   },
   {
    "duration": 4,
    "start_time": "2024-06-16T14:26:22.734Z"
   },
   {
    "duration": 7,
    "start_time": "2024-06-16T14:26:22.742Z"
   },
   {
    "duration": 15,
    "start_time": "2024-06-16T14:26:22.752Z"
   },
   {
    "duration": 14,
    "start_time": "2024-06-16T14:26:22.771Z"
   },
   {
    "duration": 50,
    "start_time": "2024-06-16T14:26:22.788Z"
   },
   {
    "duration": 18,
    "start_time": "2024-06-16T14:26:22.842Z"
   },
   {
    "duration": 62,
    "start_time": "2024-06-16T14:26:22.863Z"
   },
   {
    "duration": 34,
    "start_time": "2024-06-16T14:26:22.929Z"
   },
   {
    "duration": 9,
    "start_time": "2024-06-16T14:26:22.965Z"
   },
   {
    "duration": 5,
    "start_time": "2024-06-16T14:26:22.984Z"
   },
   {
    "duration": 10,
    "start_time": "2024-06-16T14:26:23.024Z"
   },
   {
    "duration": 7,
    "start_time": "2024-06-16T14:26:23.037Z"
   },
   {
    "duration": 13,
    "start_time": "2024-06-16T14:26:23.047Z"
   },
   {
    "duration": 5,
    "start_time": "2024-06-16T14:26:23.064Z"
   },
   {
    "duration": 57,
    "start_time": "2024-06-16T14:26:23.073Z"
   },
   {
    "duration": 2012,
    "start_time": "2024-06-16T14:26:23.134Z"
   },
   {
    "duration": 5,
    "start_time": "2024-06-16T14:26:25.149Z"
   },
   {
    "duration": 272,
    "start_time": "2024-06-16T14:26:25.157Z"
   },
   {
    "duration": 0,
    "start_time": "2024-06-16T14:26:25.431Z"
   },
   {
    "duration": 0,
    "start_time": "2024-06-16T14:26:25.433Z"
   },
   {
    "duration": 0,
    "start_time": "2024-06-16T14:26:25.434Z"
   },
   {
    "duration": 0,
    "start_time": "2024-06-16T14:26:25.436Z"
   },
   {
    "duration": 0,
    "start_time": "2024-06-16T14:26:25.438Z"
   },
   {
    "duration": 0,
    "start_time": "2024-06-16T14:26:25.440Z"
   },
   {
    "duration": 0,
    "start_time": "2024-06-16T14:26:25.445Z"
   },
   {
    "duration": 0,
    "start_time": "2024-06-16T14:26:25.448Z"
   },
   {
    "duration": 0,
    "start_time": "2024-06-16T14:26:25.450Z"
   },
   {
    "duration": 1565,
    "start_time": "2024-06-16T14:26:56.988Z"
   },
   {
    "duration": 9,
    "start_time": "2024-06-16T14:26:58.557Z"
   },
   {
    "duration": 22,
    "start_time": "2024-06-16T14:26:58.569Z"
   },
   {
    "duration": 29,
    "start_time": "2024-06-16T14:26:58.595Z"
   },
   {
    "duration": 14,
    "start_time": "2024-06-16T14:26:58.627Z"
   },
   {
    "duration": 15,
    "start_time": "2024-06-16T14:26:58.645Z"
   },
   {
    "duration": 4,
    "start_time": "2024-06-16T14:26:58.663Z"
   },
   {
    "duration": 5,
    "start_time": "2024-06-16T14:26:58.670Z"
   },
   {
    "duration": 3,
    "start_time": "2024-06-16T14:26:58.725Z"
   },
   {
    "duration": 15,
    "start_time": "2024-06-16T14:26:58.735Z"
   },
   {
    "duration": 10,
    "start_time": "2024-06-16T14:26:58.753Z"
   },
   {
    "duration": 8,
    "start_time": "2024-06-16T14:26:58.766Z"
   },
   {
    "duration": 47,
    "start_time": "2024-06-16T14:26:58.777Z"
   },
   {
    "duration": 12,
    "start_time": "2024-06-16T14:26:58.827Z"
   },
   {
    "duration": 13,
    "start_time": "2024-06-16T14:26:58.842Z"
   },
   {
    "duration": 12,
    "start_time": "2024-06-16T14:26:58.858Z"
   },
   {
    "duration": 59,
    "start_time": "2024-06-16T14:26:58.872Z"
   },
   {
    "duration": 4983,
    "start_time": "2024-06-16T14:26:58.933Z"
   },
   {
    "duration": 5,
    "start_time": "2024-06-16T14:27:03.919Z"
   },
   {
    "duration": 7,
    "start_time": "2024-06-16T14:27:03.927Z"
   },
   {
    "duration": 16,
    "start_time": "2024-06-16T14:27:03.939Z"
   },
   {
    "duration": 14,
    "start_time": "2024-06-16T14:27:03.958Z"
   },
   {
    "duration": 52,
    "start_time": "2024-06-16T14:27:03.975Z"
   },
   {
    "duration": 18,
    "start_time": "2024-06-16T14:27:04.030Z"
   },
   {
    "duration": 35,
    "start_time": "2024-06-16T14:27:04.051Z"
   },
   {
    "duration": 66,
    "start_time": "2024-06-16T14:27:04.088Z"
   },
   {
    "duration": 9,
    "start_time": "2024-06-16T14:27:04.156Z"
   },
   {
    "duration": 6,
    "start_time": "2024-06-16T14:27:04.174Z"
   },
   {
    "duration": 42,
    "start_time": "2024-06-16T14:27:04.183Z"
   },
   {
    "duration": 6,
    "start_time": "2024-06-16T14:27:04.228Z"
   },
   {
    "duration": 8,
    "start_time": "2024-06-16T14:27:04.238Z"
   },
   {
    "duration": 5,
    "start_time": "2024-06-16T14:27:04.249Z"
   },
   {
    "duration": 11,
    "start_time": "2024-06-16T14:27:04.257Z"
   },
   {
    "duration": 2213,
    "start_time": "2024-06-16T14:27:04.271Z"
   },
   {
    "duration": 5,
    "start_time": "2024-06-16T14:27:06.488Z"
   },
   {
    "duration": 264,
    "start_time": "2024-06-16T14:27:06.496Z"
   },
   {
    "duration": 0,
    "start_time": "2024-06-16T14:27:06.763Z"
   },
   {
    "duration": 0,
    "start_time": "2024-06-16T14:27:06.765Z"
   },
   {
    "duration": 0,
    "start_time": "2024-06-16T14:27:06.767Z"
   },
   {
    "duration": 0,
    "start_time": "2024-06-16T14:27:06.769Z"
   },
   {
    "duration": 0,
    "start_time": "2024-06-16T14:27:06.771Z"
   },
   {
    "duration": 0,
    "start_time": "2024-06-16T14:27:06.775Z"
   },
   {
    "duration": 0,
    "start_time": "2024-06-16T14:27:06.777Z"
   },
   {
    "duration": 0,
    "start_time": "2024-06-16T14:27:06.779Z"
   },
   {
    "duration": 0,
    "start_time": "2024-06-16T14:27:06.782Z"
   },
   {
    "duration": 29,
    "start_time": "2024-06-16T14:27:15.913Z"
   },
   {
    "duration": 27,
    "start_time": "2024-06-16T14:29:42.462Z"
   },
   {
    "duration": 10,
    "start_time": "2024-06-16T14:35:03.553Z"
   },
   {
    "duration": 6,
    "start_time": "2024-06-16T14:35:40.139Z"
   },
   {
    "duration": 11,
    "start_time": "2024-06-16T14:35:40.708Z"
   },
   {
    "duration": 7,
    "start_time": "2024-06-16T14:36:00.458Z"
   },
   {
    "duration": 4,
    "start_time": "2024-06-16T14:36:00.967Z"
   },
   {
    "duration": 12,
    "start_time": "2024-06-16T14:36:02.566Z"
   },
   {
    "duration": 1647,
    "start_time": "2024-06-16T14:36:07.157Z"
   },
   {
    "duration": 15,
    "start_time": "2024-06-16T14:36:08.808Z"
   },
   {
    "duration": 22,
    "start_time": "2024-06-16T14:36:08.826Z"
   },
   {
    "duration": 5,
    "start_time": "2024-06-16T14:36:08.852Z"
   },
   {
    "duration": 14,
    "start_time": "2024-06-16T14:36:08.860Z"
   },
   {
    "duration": 53,
    "start_time": "2024-06-16T14:36:08.878Z"
   },
   {
    "duration": 3,
    "start_time": "2024-06-16T14:36:08.935Z"
   },
   {
    "duration": 7,
    "start_time": "2024-06-16T14:36:08.941Z"
   },
   {
    "duration": 5,
    "start_time": "2024-06-16T14:36:08.950Z"
   },
   {
    "duration": 14,
    "start_time": "2024-06-16T14:36:08.961Z"
   },
   {
    "duration": 9,
    "start_time": "2024-06-16T14:36:09.024Z"
   },
   {
    "duration": 9,
    "start_time": "2024-06-16T14:36:09.036Z"
   },
   {
    "duration": 4,
    "start_time": "2024-06-16T14:36:09.047Z"
   },
   {
    "duration": 11,
    "start_time": "2024-06-16T14:36:09.054Z"
   },
   {
    "duration": 56,
    "start_time": "2024-06-16T14:36:09.069Z"
   },
   {
    "duration": 11,
    "start_time": "2024-06-16T14:36:09.128Z"
   },
   {
    "duration": 13,
    "start_time": "2024-06-16T14:36:09.142Z"
   },
   {
    "duration": 5089,
    "start_time": "2024-06-16T14:36:09.158Z"
   },
   {
    "duration": 4,
    "start_time": "2024-06-16T14:36:14.250Z"
   },
   {
    "duration": 8,
    "start_time": "2024-06-16T14:36:14.257Z"
   },
   {
    "duration": 16,
    "start_time": "2024-06-16T14:36:14.268Z"
   },
   {
    "duration": 38,
    "start_time": "2024-06-16T14:36:14.286Z"
   },
   {
    "duration": 19,
    "start_time": "2024-06-16T14:36:14.328Z"
   },
   {
    "duration": 19,
    "start_time": "2024-06-16T14:36:14.349Z"
   },
   {
    "duration": 70,
    "start_time": "2024-06-16T14:36:14.372Z"
   },
   {
    "duration": 37,
    "start_time": "2024-06-16T14:36:14.445Z"
   },
   {
    "duration": 9,
    "start_time": "2024-06-16T14:36:14.485Z"
   },
   {
    "duration": 5,
    "start_time": "2024-06-16T14:36:14.522Z"
   },
   {
    "duration": 8,
    "start_time": "2024-06-16T14:36:14.530Z"
   },
   {
    "duration": 7,
    "start_time": "2024-06-16T14:36:14.540Z"
   },
   {
    "duration": 10,
    "start_time": "2024-06-16T14:36:14.550Z"
   },
   {
    "duration": 5,
    "start_time": "2024-06-16T14:36:14.563Z"
   },
   {
    "duration": 59,
    "start_time": "2024-06-16T14:36:14.572Z"
   },
   {
    "duration": 2129,
    "start_time": "2024-06-16T14:36:14.634Z"
   },
   {
    "duration": 4,
    "start_time": "2024-06-16T14:36:16.766Z"
   },
   {
    "duration": 259,
    "start_time": "2024-06-16T14:36:16.774Z"
   },
   {
    "duration": 0,
    "start_time": "2024-06-16T14:36:17.036Z"
   },
   {
    "duration": 0,
    "start_time": "2024-06-16T14:36:17.038Z"
   },
   {
    "duration": 0,
    "start_time": "2024-06-16T14:36:17.040Z"
   },
   {
    "duration": 0,
    "start_time": "2024-06-16T14:36:17.042Z"
   },
   {
    "duration": 0,
    "start_time": "2024-06-16T14:36:17.044Z"
   },
   {
    "duration": 0,
    "start_time": "2024-06-16T14:36:17.046Z"
   },
   {
    "duration": 0,
    "start_time": "2024-06-16T14:36:17.048Z"
   },
   {
    "duration": 0,
    "start_time": "2024-06-16T14:36:17.050Z"
   },
   {
    "duration": 0,
    "start_time": "2024-06-16T14:36:17.052Z"
   },
   {
    "duration": 234,
    "start_time": "2024-06-16T14:43:06.475Z"
   },
   {
    "duration": 27,
    "start_time": "2024-06-16T14:43:23.575Z"
   },
   {
    "duration": 9,
    "start_time": "2024-06-16T14:43:37.133Z"
   },
   {
    "duration": 6,
    "start_time": "2024-06-16T17:04:51.596Z"
   },
   {
    "duration": 4,
    "start_time": "2024-06-16T17:04:52.855Z"
   },
   {
    "duration": 120,
    "start_time": "2024-06-16T17:04:57.425Z"
   },
   {
    "duration": 55,
    "start_time": "2024-06-16T17:05:19.483Z"
   },
   {
    "duration": 6,
    "start_time": "2024-06-16T17:05:22.438Z"
   },
   {
    "duration": 24,
    "start_time": "2024-06-16T17:05:23.582Z"
   },
   {
    "duration": 76,
    "start_time": "2024-06-16T17:05:33.166Z"
   },
   {
    "duration": 5,
    "start_time": "2024-06-16T17:06:00.387Z"
   },
   {
    "duration": 5,
    "start_time": "2024-06-16T17:06:03.992Z"
   },
   {
    "duration": 6,
    "start_time": "2024-06-16T17:06:07.097Z"
   },
   {
    "duration": 7,
    "start_time": "2024-06-16T17:06:12.095Z"
   },
   {
    "duration": 6,
    "start_time": "2024-06-16T17:06:13.541Z"
   },
   {
    "duration": 13,
    "start_time": "2024-06-16T17:06:14.718Z"
   },
   {
    "duration": 4,
    "start_time": "2024-06-16T17:06:16.905Z"
   },
   {
    "duration": 8,
    "start_time": "2024-06-16T17:06:17.842Z"
   },
   {
    "duration": 1585,
    "start_time": "2024-06-16T17:06:24.617Z"
   },
   {
    "duration": 15,
    "start_time": "2024-06-16T17:06:26.208Z"
   },
   {
    "duration": 24,
    "start_time": "2024-06-16T17:06:26.226Z"
   },
   {
    "duration": 5,
    "start_time": "2024-06-16T17:06:26.254Z"
   },
   {
    "duration": 19,
    "start_time": "2024-06-16T17:06:26.264Z"
   },
   {
    "duration": 48,
    "start_time": "2024-06-16T17:06:26.287Z"
   },
   {
    "duration": 4,
    "start_time": "2024-06-16T17:06:26.338Z"
   },
   {
    "duration": 5,
    "start_time": "2024-06-16T17:06:26.345Z"
   },
   {
    "duration": 3,
    "start_time": "2024-06-16T17:06:26.354Z"
   },
   {
    "duration": 62,
    "start_time": "2024-06-16T17:06:26.361Z"
   },
   {
    "duration": 9,
    "start_time": "2024-06-16T17:06:26.426Z"
   },
   {
    "duration": 10,
    "start_time": "2024-06-16T17:06:26.437Z"
   },
   {
    "duration": 3,
    "start_time": "2024-06-16T17:06:26.450Z"
   },
   {
    "duration": 11,
    "start_time": "2024-06-16T17:06:26.462Z"
   },
   {
    "duration": 56,
    "start_time": "2024-06-16T17:06:26.476Z"
   },
   {
    "duration": 11,
    "start_time": "2024-06-16T17:06:26.535Z"
   },
   {
    "duration": 11,
    "start_time": "2024-06-16T17:06:26.549Z"
   },
   {
    "duration": 5016,
    "start_time": "2024-06-16T17:06:26.563Z"
   },
   {
    "duration": 4,
    "start_time": "2024-06-16T17:06:31.583Z"
   },
   {
    "duration": 6,
    "start_time": "2024-06-16T17:06:31.591Z"
   },
   {
    "duration": 26,
    "start_time": "2024-06-16T17:06:31.600Z"
   },
   {
    "duration": 14,
    "start_time": "2024-06-16T17:06:31.629Z"
   },
   {
    "duration": 18,
    "start_time": "2024-06-16T17:06:31.646Z"
   },
   {
    "duration": 19,
    "start_time": "2024-06-16T17:06:31.667Z"
   },
   {
    "duration": 37,
    "start_time": "2024-06-16T17:06:31.723Z"
   },
   {
    "duration": 64,
    "start_time": "2024-06-16T17:06:31.763Z"
   },
   {
    "duration": 11,
    "start_time": "2024-06-16T17:06:31.830Z"
   },
   {
    "duration": 6,
    "start_time": "2024-06-16T17:06:31.845Z"
   },
   {
    "duration": 9,
    "start_time": "2024-06-16T17:06:31.855Z"
   },
   {
    "duration": 7,
    "start_time": "2024-06-16T17:06:31.868Z"
   },
   {
    "duration": 8,
    "start_time": "2024-06-16T17:06:31.923Z"
   },
   {
    "duration": 5,
    "start_time": "2024-06-16T17:06:31.934Z"
   },
   {
    "duration": 12,
    "start_time": "2024-06-16T17:06:31.942Z"
   },
   {
    "duration": 2275,
    "start_time": "2024-06-16T17:06:31.956Z"
   },
   {
    "duration": 4,
    "start_time": "2024-06-16T17:06:34.234Z"
   },
   {
    "duration": 236,
    "start_time": "2024-06-16T17:06:34.241Z"
   },
   {
    "duration": 0,
    "start_time": "2024-06-16T17:06:34.481Z"
   },
   {
    "duration": 0,
    "start_time": "2024-06-16T17:06:34.482Z"
   },
   {
    "duration": 0,
    "start_time": "2024-06-16T17:06:34.484Z"
   },
   {
    "duration": 0,
    "start_time": "2024-06-16T17:06:34.487Z"
   },
   {
    "duration": 0,
    "start_time": "2024-06-16T17:06:34.488Z"
   },
   {
    "duration": 0,
    "start_time": "2024-06-16T17:06:34.490Z"
   },
   {
    "duration": 0,
    "start_time": "2024-06-16T17:06:34.492Z"
   },
   {
    "duration": 0,
    "start_time": "2024-06-16T17:06:34.494Z"
   },
   {
    "duration": 0,
    "start_time": "2024-06-16T17:06:34.524Z"
   },
   {
    "duration": 0,
    "start_time": "2024-06-16T17:06:34.526Z"
   },
   {
    "duration": 0,
    "start_time": "2024-06-16T17:06:34.528Z"
   },
   {
    "duration": 6,
    "start_time": "2024-06-16T17:06:45.806Z"
   },
   {
    "duration": 5,
    "start_time": "2024-06-16T17:06:46.640Z"
   },
   {
    "duration": 21,
    "start_time": "2024-06-16T17:06:47.064Z"
   },
   {
    "duration": 5,
    "start_time": "2024-06-16T17:06:47.518Z"
   },
   {
    "duration": 6,
    "start_time": "2024-06-16T17:06:48.014Z"
   },
   {
    "duration": 319,
    "start_time": "2024-06-16T19:59:09.093Z"
   },
   {
    "duration": 19,
    "start_time": "2024-06-16T19:59:10.240Z"
   },
   {
    "duration": 23,
    "start_time": "2024-06-16T19:59:11.065Z"
   },
   {
    "duration": 5320,
    "start_time": "2024-06-16T19:59:48.435Z"
   },
   {
    "duration": 14,
    "start_time": "2024-06-16T19:59:53.758Z"
   },
   {
    "duration": 21,
    "start_time": "2024-06-16T19:59:53.775Z"
   },
   {
    "duration": 5,
    "start_time": "2024-06-16T19:59:53.800Z"
   },
   {
    "duration": 35,
    "start_time": "2024-06-16T19:59:53.808Z"
   },
   {
    "duration": 16,
    "start_time": "2024-06-16T19:59:53.846Z"
   },
   {
    "duration": 3,
    "start_time": "2024-06-16T19:59:53.866Z"
   },
   {
    "duration": 5,
    "start_time": "2024-06-16T19:59:53.872Z"
   },
   {
    "duration": 52,
    "start_time": "2024-06-16T19:59:53.880Z"
   },
   {
    "duration": 14,
    "start_time": "2024-06-16T19:59:53.938Z"
   },
   {
    "duration": 11,
    "start_time": "2024-06-16T19:59:53.954Z"
   },
   {
    "duration": 9,
    "start_time": "2024-06-16T19:59:53.967Z"
   },
   {
    "duration": 3,
    "start_time": "2024-06-16T19:59:53.979Z"
   },
   {
    "duration": 56,
    "start_time": "2024-06-16T19:59:53.985Z"
   },
   {
    "duration": 11,
    "start_time": "2024-06-16T19:59:54.044Z"
   },
   {
    "duration": 11,
    "start_time": "2024-06-16T19:59:54.058Z"
   },
   {
    "duration": 11,
    "start_time": "2024-06-16T19:59:54.072Z"
   },
   {
    "duration": 4941,
    "start_time": "2024-06-16T19:59:54.132Z"
   },
   {
    "duration": 5,
    "start_time": "2024-06-16T19:59:59.076Z"
   },
   {
    "duration": 7,
    "start_time": "2024-06-16T19:59:59.084Z"
   },
   {
    "duration": 17,
    "start_time": "2024-06-16T19:59:59.095Z"
   },
   {
    "duration": 32,
    "start_time": "2024-06-16T19:59:59.116Z"
   },
   {
    "duration": 20,
    "start_time": "2024-06-16T19:59:59.151Z"
   },
   {
    "duration": 18,
    "start_time": "2024-06-16T19:59:59.174Z"
   },
   {
    "duration": 68,
    "start_time": "2024-06-16T19:59:59.195Z"
   },
   {
    "duration": 46,
    "start_time": "2024-06-16T19:59:59.265Z"
   },
   {
    "duration": 12,
    "start_time": "2024-06-16T19:59:59.336Z"
   },
   {
    "duration": 9,
    "start_time": "2024-06-16T19:59:59.357Z"
   },
   {
    "duration": 8,
    "start_time": "2024-06-16T19:59:59.369Z"
   },
   {
    "duration": 6,
    "start_time": "2024-06-16T19:59:59.380Z"
   },
   {
    "duration": 42,
    "start_time": "2024-06-16T19:59:59.391Z"
   },
   {
    "duration": 6,
    "start_time": "2024-06-16T19:59:59.436Z"
   },
   {
    "duration": 13,
    "start_time": "2024-06-16T19:59:59.445Z"
   },
   {
    "duration": 1881,
    "start_time": "2024-06-16T19:59:59.461Z"
   },
   {
    "duration": 7,
    "start_time": "2024-06-16T20:00:01.345Z"
   },
   {
    "duration": 245,
    "start_time": "2024-06-16T20:00:01.355Z"
   },
   {
    "duration": 0,
    "start_time": "2024-06-16T20:00:01.603Z"
   },
   {
    "duration": 0,
    "start_time": "2024-06-16T20:00:01.607Z"
   },
   {
    "duration": 0,
    "start_time": "2024-06-16T20:00:01.609Z"
   },
   {
    "duration": 21,
    "start_time": "2024-06-16T20:00:01.611Z"
   },
   {
    "duration": 0,
    "start_time": "2024-06-16T20:00:01.635Z"
   },
   {
    "duration": 0,
    "start_time": "2024-06-16T20:00:01.638Z"
   },
   {
    "duration": 0,
    "start_time": "2024-06-16T20:00:01.641Z"
   },
   {
    "duration": 0,
    "start_time": "2024-06-16T20:00:01.643Z"
   },
   {
    "duration": 0,
    "start_time": "2024-06-16T20:00:01.645Z"
   },
   {
    "duration": 0,
    "start_time": "2024-06-16T20:00:01.648Z"
   },
   {
    "duration": 0,
    "start_time": "2024-06-16T20:00:01.652Z"
   },
   {
    "duration": 4,
    "start_time": "2024-06-16T20:00:06.233Z"
   },
   {
    "duration": 4,
    "start_time": "2024-06-16T20:00:06.617Z"
   },
   {
    "duration": 3,
    "start_time": "2024-06-16T20:00:07.080Z"
   },
   {
    "duration": 7,
    "start_time": "2024-06-16T20:00:09.470Z"
   },
   {
    "duration": 5,
    "start_time": "2024-06-16T20:00:09.978Z"
   },
   {
    "duration": 15,
    "start_time": "2024-06-16T20:00:10.400Z"
   },
   {
    "duration": 6,
    "start_time": "2024-06-16T20:00:10.819Z"
   },
   {
    "duration": 13,
    "start_time": "2024-06-16T20:00:11.341Z"
   },
   {
    "duration": 5,
    "start_time": "2024-06-16T20:00:13.277Z"
   },
   {
    "duration": 4,
    "start_time": "2024-06-16T20:00:16.481Z"
   },
   {
    "duration": 4,
    "start_time": "2024-06-16T20:00:17.743Z"
   },
   {
    "duration": 1642,
    "start_time": "2024-06-16T20:51:38.100Z"
   },
   {
    "duration": 12,
    "start_time": "2024-06-16T20:51:39.745Z"
   },
   {
    "duration": 22,
    "start_time": "2024-06-16T20:51:39.761Z"
   },
   {
    "duration": 6,
    "start_time": "2024-06-16T20:51:39.786Z"
   },
   {
    "duration": 50,
    "start_time": "2024-06-16T20:51:39.798Z"
   },
   {
    "duration": 16,
    "start_time": "2024-06-16T20:51:39.854Z"
   },
   {
    "duration": 4,
    "start_time": "2024-06-16T20:51:39.873Z"
   },
   {
    "duration": 5,
    "start_time": "2024-06-16T20:51:39.880Z"
   },
   {
    "duration": 3,
    "start_time": "2024-06-16T20:51:39.889Z"
   },
   {
    "duration": 15,
    "start_time": "2024-06-16T20:51:39.935Z"
   },
   {
    "duration": 10,
    "start_time": "2024-06-16T20:51:39.952Z"
   },
   {
    "duration": 9,
    "start_time": "2024-06-16T20:51:39.965Z"
   },
   {
    "duration": 3,
    "start_time": "2024-06-16T20:51:39.977Z"
   },
   {
    "duration": 56,
    "start_time": "2024-06-16T20:51:39.987Z"
   },
   {
    "duration": 12,
    "start_time": "2024-06-16T20:51:40.046Z"
   },
   {
    "duration": 11,
    "start_time": "2024-06-16T20:51:40.062Z"
   },
   {
    "duration": 57,
    "start_time": "2024-06-16T20:51:40.076Z"
   },
   {
    "duration": 5097,
    "start_time": "2024-06-16T20:51:40.136Z"
   },
   {
    "duration": 4,
    "start_time": "2024-06-16T20:51:45.237Z"
   },
   {
    "duration": 7,
    "start_time": "2024-06-16T20:51:45.244Z"
   },
   {
    "duration": 14,
    "start_time": "2024-06-16T20:51:45.254Z"
   },
   {
    "duration": 18,
    "start_time": "2024-06-16T20:51:45.271Z"
   },
   {
    "duration": 56,
    "start_time": "2024-06-16T20:51:45.291Z"
   },
   {
    "duration": 18,
    "start_time": "2024-06-16T20:51:45.351Z"
   },
   {
    "duration": 66,
    "start_time": "2024-06-16T20:51:45.373Z"
   },
   {
    "duration": 34,
    "start_time": "2024-06-16T20:51:45.443Z"
   },
   {
    "duration": 10,
    "start_time": "2024-06-16T20:51:45.480Z"
   },
   {
    "duration": 40,
    "start_time": "2024-06-16T20:51:45.493Z"
   },
   {
    "duration": 9,
    "start_time": "2024-06-16T20:51:45.535Z"
   },
   {
    "duration": 7,
    "start_time": "2024-06-16T20:51:45.548Z"
   },
   {
    "duration": 9,
    "start_time": "2024-06-16T20:51:45.559Z"
   },
   {
    "duration": 6,
    "start_time": "2024-06-16T20:51:45.570Z"
   },
   {
    "duration": 60,
    "start_time": "2024-06-16T20:51:45.581Z"
   },
   {
    "duration": 2055,
    "start_time": "2024-06-16T20:51:45.644Z"
   },
   {
    "duration": 5,
    "start_time": "2024-06-16T20:51:47.702Z"
   },
   {
    "duration": 253,
    "start_time": "2024-06-16T20:51:47.711Z"
   },
   {
    "duration": 0,
    "start_time": "2024-06-16T20:51:47.969Z"
   },
   {
    "duration": 0,
    "start_time": "2024-06-16T20:51:47.972Z"
   },
   {
    "duration": 0,
    "start_time": "2024-06-16T20:51:47.974Z"
   },
   {
    "duration": 0,
    "start_time": "2024-06-16T20:51:47.976Z"
   },
   {
    "duration": 0,
    "start_time": "2024-06-16T20:51:47.978Z"
   },
   {
    "duration": 0,
    "start_time": "2024-06-16T20:51:47.980Z"
   },
   {
    "duration": 0,
    "start_time": "2024-06-16T20:51:47.983Z"
   },
   {
    "duration": 0,
    "start_time": "2024-06-16T20:51:47.985Z"
   },
   {
    "duration": 0,
    "start_time": "2024-06-16T20:51:47.987Z"
   },
   {
    "duration": 0,
    "start_time": "2024-06-16T20:51:47.990Z"
   },
   {
    "duration": 0,
    "start_time": "2024-06-16T20:51:47.992Z"
   },
   {
    "duration": 0,
    "start_time": "2024-06-16T20:51:47.994Z"
   },
   {
    "duration": 0,
    "start_time": "2024-06-16T20:51:47.995Z"
   },
   {
    "duration": 0,
    "start_time": "2024-06-16T20:51:48.032Z"
   },
   {
    "duration": 0,
    "start_time": "2024-06-16T20:51:48.037Z"
   },
   {
    "duration": 0,
    "start_time": "2024-06-16T20:51:48.039Z"
   },
   {
    "duration": 3,
    "start_time": "2024-06-16T20:52:00.552Z"
   },
   {
    "duration": 3,
    "start_time": "2024-06-16T20:52:00.954Z"
   },
   {
    "duration": 4,
    "start_time": "2024-06-16T20:52:01.362Z"
   },
   {
    "duration": 8,
    "start_time": "2024-06-16T20:52:03.512Z"
   },
   {
    "duration": 5,
    "start_time": "2024-06-16T20:52:03.952Z"
   },
   {
    "duration": 17,
    "start_time": "2024-06-16T20:52:04.504Z"
   },
   {
    "duration": 6,
    "start_time": "2024-06-16T20:52:04.927Z"
   },
   {
    "duration": 12,
    "start_time": "2024-06-16T20:52:05.295Z"
   },
   {
    "duration": 5,
    "start_time": "2024-06-16T20:52:06.901Z"
   },
   {
    "duration": 3,
    "start_time": "2024-06-16T20:52:07.364Z"
   },
   {
    "duration": 4,
    "start_time": "2024-06-16T20:52:08.276Z"
   },
   {
    "duration": 4,
    "start_time": "2024-06-16T20:52:09.302Z"
   },
   {
    "duration": 3,
    "start_time": "2024-06-16T20:52:10.232Z"
   },
   {
    "duration": 10,
    "start_time": "2024-06-16T20:52:11.190Z"
   },
   {
    "duration": 6,
    "start_time": "2024-06-16T20:52:12.218Z"
   },
   {
    "duration": 5,
    "start_time": "2024-06-16T20:52:13.656Z"
   },
   {
    "duration": 309,
    "start_time": "2024-06-17T16:23:56.419Z"
   },
   {
    "duration": 5326,
    "start_time": "2024-06-17T16:24:14.243Z"
   },
   {
    "duration": 18,
    "start_time": "2024-06-17T16:24:19.573Z"
   },
   {
    "duration": 25,
    "start_time": "2024-06-17T16:24:19.594Z"
   },
   {
    "duration": 5,
    "start_time": "2024-06-17T16:24:19.624Z"
   },
   {
    "duration": 15,
    "start_time": "2024-06-17T16:24:19.632Z"
   },
   {
    "duration": 15,
    "start_time": "2024-06-17T16:24:19.651Z"
   },
   {
    "duration": 4,
    "start_time": "2024-06-17T16:24:19.712Z"
   },
   {
    "duration": 6,
    "start_time": "2024-06-17T16:24:19.718Z"
   },
   {
    "duration": 3,
    "start_time": "2024-06-17T16:24:19.727Z"
   },
   {
    "duration": 14,
    "start_time": "2024-06-17T16:24:19.736Z"
   },
   {
    "duration": 8,
    "start_time": "2024-06-17T16:24:19.754Z"
   },
   {
    "duration": 9,
    "start_time": "2024-06-17T16:24:19.811Z"
   },
   {
    "duration": 3,
    "start_time": "2024-06-17T16:24:19.823Z"
   },
   {
    "duration": 11,
    "start_time": "2024-06-17T16:24:19.829Z"
   },
   {
    "duration": 11,
    "start_time": "2024-06-17T16:24:19.843Z"
   },
   {
    "duration": 59,
    "start_time": "2024-06-17T16:24:19.857Z"
   },
   {
    "duration": 12,
    "start_time": "2024-06-17T16:24:19.920Z"
   },
   {
    "duration": 5008,
    "start_time": "2024-06-17T16:24:19.935Z"
   },
   {
    "duration": 4,
    "start_time": "2024-06-17T16:24:24.946Z"
   },
   {
    "duration": 10,
    "start_time": "2024-06-17T16:24:24.953Z"
   },
   {
    "duration": 15,
    "start_time": "2024-06-17T16:24:24.966Z"
   },
   {
    "duration": 32,
    "start_time": "2024-06-17T16:24:24.983Z"
   },
   {
    "duration": 19,
    "start_time": "2024-06-17T16:24:25.018Z"
   },
   {
    "duration": 20,
    "start_time": "2024-06-17T16:24:25.040Z"
   },
   {
    "duration": 74,
    "start_time": "2024-06-17T16:24:25.063Z"
   },
   {
    "duration": 34,
    "start_time": "2024-06-17T16:24:25.141Z"
   },
   {
    "duration": 35,
    "start_time": "2024-06-17T16:24:25.179Z"
   },
   {
    "duration": 5,
    "start_time": "2024-06-17T16:24:25.225Z"
   },
   {
    "duration": 8,
    "start_time": "2024-06-17T16:24:25.233Z"
   },
   {
    "duration": 9,
    "start_time": "2024-06-17T16:24:25.244Z"
   },
   {
    "duration": 7,
    "start_time": "2024-06-17T16:24:25.257Z"
   },
   {
    "duration": 47,
    "start_time": "2024-06-17T16:24:25.267Z"
   },
   {
    "duration": 11,
    "start_time": "2024-06-17T16:24:25.317Z"
   },
   {
    "duration": 7,
    "start_time": "2024-06-17T16:24:25.331Z"
   },
   {
    "duration": 552,
    "start_time": "2024-06-17T16:24:25.341Z"
   },
   {
    "duration": 0,
    "start_time": "2024-06-17T16:24:25.896Z"
   },
   {
    "duration": 0,
    "start_time": "2024-06-17T16:24:25.911Z"
   },
   {
    "duration": 0,
    "start_time": "2024-06-17T16:24:25.914Z"
   },
   {
    "duration": 0,
    "start_time": "2024-06-17T16:24:25.917Z"
   },
   {
    "duration": 0,
    "start_time": "2024-06-17T16:24:25.920Z"
   },
   {
    "duration": 0,
    "start_time": "2024-06-17T16:24:25.922Z"
   },
   {
    "duration": 0,
    "start_time": "2024-06-17T16:24:25.925Z"
   },
   {
    "duration": 0,
    "start_time": "2024-06-17T16:24:25.927Z"
   },
   {
    "duration": 0,
    "start_time": "2024-06-17T16:24:25.930Z"
   },
   {
    "duration": 0,
    "start_time": "2024-06-17T16:24:25.932Z"
   },
   {
    "duration": 0,
    "start_time": "2024-06-17T16:24:25.934Z"
   },
   {
    "duration": 0,
    "start_time": "2024-06-17T16:24:25.936Z"
   },
   {
    "duration": 0,
    "start_time": "2024-06-17T16:24:25.938Z"
   },
   {
    "duration": 0,
    "start_time": "2024-06-17T16:24:25.940Z"
   },
   {
    "duration": 0,
    "start_time": "2024-06-17T16:24:25.942Z"
   },
   {
    "duration": 0,
    "start_time": "2024-06-17T16:24:25.944Z"
   },
   {
    "duration": 0,
    "start_time": "2024-06-17T16:24:25.946Z"
   },
   {
    "duration": 0,
    "start_time": "2024-06-17T16:24:25.948Z"
   },
   {
    "duration": 0,
    "start_time": "2024-06-17T16:24:25.951Z"
   },
   {
    "duration": 0,
    "start_time": "2024-06-17T16:24:25.953Z"
   },
   {
    "duration": 1632,
    "start_time": "2024-06-17T16:26:00.101Z"
   },
   {
    "duration": 13,
    "start_time": "2024-06-17T16:26:01.737Z"
   },
   {
    "duration": 22,
    "start_time": "2024-06-17T16:26:01.753Z"
   },
   {
    "duration": 33,
    "start_time": "2024-06-17T16:26:01.779Z"
   },
   {
    "duration": 14,
    "start_time": "2024-06-17T16:26:01.815Z"
   },
   {
    "duration": 14,
    "start_time": "2024-06-17T16:26:01.832Z"
   },
   {
    "duration": 3,
    "start_time": "2024-06-17T16:26:01.850Z"
   },
   {
    "duration": 6,
    "start_time": "2024-06-17T16:26:01.856Z"
   },
   {
    "duration": 47,
    "start_time": "2024-06-17T16:26:01.865Z"
   },
   {
    "duration": 15,
    "start_time": "2024-06-17T16:26:01.920Z"
   },
   {
    "duration": 11,
    "start_time": "2024-06-17T16:26:01.938Z"
   },
   {
    "duration": 10,
    "start_time": "2024-06-17T16:26:01.951Z"
   },
   {
    "duration": 48,
    "start_time": "2024-06-17T16:26:01.964Z"
   },
   {
    "duration": 10,
    "start_time": "2024-06-17T16:26:02.015Z"
   },
   {
    "duration": 11,
    "start_time": "2024-06-17T16:26:02.028Z"
   },
   {
    "duration": 11,
    "start_time": "2024-06-17T16:26:02.042Z"
   },
   {
    "duration": 55,
    "start_time": "2024-06-17T16:26:02.056Z"
   },
   {
    "duration": 4982,
    "start_time": "2024-06-17T16:26:02.115Z"
   },
   {
    "duration": 3,
    "start_time": "2024-06-17T16:26:07.100Z"
   },
   {
    "duration": 6,
    "start_time": "2024-06-17T16:26:07.107Z"
   },
   {
    "duration": 15,
    "start_time": "2024-06-17T16:26:07.117Z"
   },
   {
    "duration": 15,
    "start_time": "2024-06-17T16:26:07.135Z"
   },
   {
    "duration": 58,
    "start_time": "2024-06-17T16:26:07.153Z"
   },
   {
    "duration": 18,
    "start_time": "2024-06-17T16:26:07.214Z"
   },
   {
    "duration": 33,
    "start_time": "2024-06-17T16:26:07.235Z"
   },
   {
    "duration": 66,
    "start_time": "2024-06-17T16:26:07.272Z"
   },
   {
    "duration": 9,
    "start_time": "2024-06-17T16:26:07.341Z"
   },
   {
    "duration": 6,
    "start_time": "2024-06-17T16:26:07.360Z"
   },
   {
    "duration": 43,
    "start_time": "2024-06-17T16:26:07.369Z"
   },
   {
    "duration": 7,
    "start_time": "2024-06-17T16:26:07.415Z"
   },
   {
    "duration": 9,
    "start_time": "2024-06-17T16:26:07.425Z"
   },
   {
    "duration": 5,
    "start_time": "2024-06-17T16:26:07.437Z"
   },
   {
    "duration": 12,
    "start_time": "2024-06-17T16:26:07.444Z"
   },
   {
    "duration": 56,
    "start_time": "2024-06-17T16:26:07.459Z"
   },
   {
    "duration": 11,
    "start_time": "2024-06-17T16:26:07.519Z"
   },
   {
    "duration": 2048,
    "start_time": "2024-06-17T16:26:07.534Z"
   },
   {
    "duration": 5,
    "start_time": "2024-06-17T16:26:09.587Z"
   },
   {
    "duration": 27,
    "start_time": "2024-06-17T16:26:09.595Z"
   },
   {
    "duration": 4,
    "start_time": "2024-06-17T16:26:09.625Z"
   },
   {
    "duration": 3,
    "start_time": "2024-06-17T16:26:09.633Z"
   },
   {
    "duration": 3,
    "start_time": "2024-06-17T16:26:09.640Z"
   },
   {
    "duration": 7,
    "start_time": "2024-06-17T16:26:09.647Z"
   },
   {
    "duration": 6,
    "start_time": "2024-06-17T16:26:09.657Z"
   },
   {
    "duration": 19,
    "start_time": "2024-06-17T16:26:09.715Z"
   },
   {
    "duration": 8,
    "start_time": "2024-06-17T16:26:09.736Z"
   },
   {
    "duration": 71,
    "start_time": "2024-06-17T16:26:09.748Z"
   },
   {
    "duration": 7,
    "start_time": "2024-06-17T16:26:09.822Z"
   },
   {
    "duration": 83,
    "start_time": "2024-06-17T16:26:09.832Z"
   },
   {
    "duration": 4,
    "start_time": "2024-06-17T16:26:09.918Z"
   },
   {
    "duration": 5,
    "start_time": "2024-06-17T16:26:09.925Z"
   },
   {
    "duration": 80,
    "start_time": "2024-06-17T16:26:09.933Z"
   },
   {
    "duration": 6,
    "start_time": "2024-06-17T16:26:10.017Z"
   },
   {
    "duration": 5,
    "start_time": "2024-06-17T16:26:10.026Z"
   },
   {
    "duration": 6,
    "start_time": "2024-06-17T16:26:10.034Z"
   },
   {
    "duration": 5,
    "start_time": "2024-06-17T18:33:08.163Z"
   },
   {
    "duration": 6,
    "start_time": "2024-06-17T18:33:20.320Z"
   },
   {
    "duration": 5,
    "start_time": "2024-06-17T18:33:27.953Z"
   },
   {
    "duration": 357,
    "start_time": "2024-06-18T14:32:25.938Z"
   },
   {
    "duration": 5174,
    "start_time": "2024-06-18T14:32:34.437Z"
   },
   {
    "duration": 16,
    "start_time": "2024-06-18T14:32:39.614Z"
   },
   {
    "duration": 23,
    "start_time": "2024-06-18T14:32:39.634Z"
   },
   {
    "duration": 7,
    "start_time": "2024-06-18T14:32:39.662Z"
   },
   {
    "duration": 15,
    "start_time": "2024-06-18T14:32:39.702Z"
   },
   {
    "duration": 15,
    "start_time": "2024-06-18T14:32:39.720Z"
   },
   {
    "duration": 4,
    "start_time": "2024-06-18T14:32:39.738Z"
   },
   {
    "duration": 5,
    "start_time": "2024-06-18T14:32:39.745Z"
   },
   {
    "duration": 48,
    "start_time": "2024-06-18T14:32:39.754Z"
   },
   {
    "duration": 15,
    "start_time": "2024-06-18T14:32:39.808Z"
   },
   {
    "duration": 9,
    "start_time": "2024-06-18T14:32:39.826Z"
   },
   {
    "duration": 8,
    "start_time": "2024-06-18T14:32:39.839Z"
   },
   {
    "duration": 3,
    "start_time": "2024-06-18T14:32:39.850Z"
   },
   {
    "duration": 10,
    "start_time": "2024-06-18T14:32:39.902Z"
   },
   {
    "duration": 11,
    "start_time": "2024-06-18T14:32:39.915Z"
   },
   {
    "duration": 11,
    "start_time": "2024-06-18T14:32:39.929Z"
   },
   {
    "duration": 59,
    "start_time": "2024-06-18T14:32:39.943Z"
   },
   {
    "duration": 4965,
    "start_time": "2024-06-18T14:32:40.005Z"
   },
   {
    "duration": 4,
    "start_time": "2024-06-18T14:32:44.975Z"
   },
   {
    "duration": 6,
    "start_time": "2024-06-18T14:32:44.982Z"
   },
   {
    "duration": 14,
    "start_time": "2024-06-18T14:32:45.002Z"
   },
   {
    "duration": 132,
    "start_time": "2024-06-18T14:32:45.019Z"
   },
   {
    "duration": 22,
    "start_time": "2024-06-18T14:32:45.157Z"
   },
   {
    "duration": 22,
    "start_time": "2024-06-18T14:32:45.200Z"
   },
   {
    "duration": 43,
    "start_time": "2024-06-18T14:32:45.225Z"
   },
   {
    "duration": 56,
    "start_time": "2024-06-18T14:32:45.274Z"
   },
   {
    "duration": 9,
    "start_time": "2024-06-18T14:32:45.334Z"
   },
   {
    "duration": 6,
    "start_time": "2024-06-18T14:32:45.351Z"
   },
   {
    "duration": 43,
    "start_time": "2024-06-18T14:32:45.360Z"
   },
   {
    "duration": 7,
    "start_time": "2024-06-18T14:32:45.406Z"
   },
   {
    "duration": 10,
    "start_time": "2024-06-18T14:32:45.416Z"
   },
   {
    "duration": 5,
    "start_time": "2024-06-18T14:32:45.430Z"
   },
   {
    "duration": 12,
    "start_time": "2024-06-18T14:32:45.439Z"
   },
   {
    "duration": 53,
    "start_time": "2024-06-18T14:32:45.454Z"
   },
   {
    "duration": 12,
    "start_time": "2024-06-18T14:32:45.509Z"
   },
   {
    "duration": 2035,
    "start_time": "2024-06-18T14:32:45.523Z"
   },
   {
    "duration": 5,
    "start_time": "2024-06-18T14:32:47.561Z"
   },
   {
    "duration": 37,
    "start_time": "2024-06-18T14:32:47.570Z"
   },
   {
    "duration": 4,
    "start_time": "2024-06-18T14:32:47.611Z"
   },
   {
    "duration": 3,
    "start_time": "2024-06-18T14:32:47.618Z"
   },
   {
    "duration": 3,
    "start_time": "2024-06-18T14:32:47.625Z"
   },
   {
    "duration": 6,
    "start_time": "2024-06-18T14:32:47.632Z"
   },
   {
    "duration": 5,
    "start_time": "2024-06-18T14:32:47.642Z"
   },
   {
    "duration": 13,
    "start_time": "2024-06-18T14:32:47.701Z"
   },
   {
    "duration": 9,
    "start_time": "2024-06-18T14:32:47.720Z"
   },
   {
    "duration": 11,
    "start_time": "2024-06-18T14:32:47.803Z"
   },
   {
    "duration": 86,
    "start_time": "2024-06-18T14:32:47.816Z"
   },
   {
    "duration": 7,
    "start_time": "2024-06-18T14:32:47.905Z"
   },
   {
    "duration": 9,
    "start_time": "2024-06-18T14:32:47.915Z"
   },
   {
    "duration": 4,
    "start_time": "2024-06-18T14:32:48.002Z"
   },
   {
    "duration": 5,
    "start_time": "2024-06-18T14:32:48.010Z"
   },
   {
    "duration": 4,
    "start_time": "2024-06-18T14:32:48.018Z"
   },
   {
    "duration": 7,
    "start_time": "2024-06-18T14:32:48.026Z"
   },
   {
    "duration": 5,
    "start_time": "2024-06-18T14:32:48.101Z"
   },
   {
    "duration": 518,
    "start_time": "2024-06-18T14:32:48.110Z"
   },
   {
    "duration": 334,
    "start_time": "2024-06-18T17:59:41.469Z"
   },
   {
    "duration": 5250,
    "start_time": "2024-06-18T17:59:52.108Z"
   },
   {
    "duration": 15,
    "start_time": "2024-06-18T17:59:57.363Z"
   },
   {
    "duration": 30,
    "start_time": "2024-06-18T17:59:57.381Z"
   },
   {
    "duration": 5,
    "start_time": "2024-06-18T17:59:57.416Z"
   },
   {
    "duration": 15,
    "start_time": "2024-06-18T17:59:57.424Z"
   },
   {
    "duration": 18,
    "start_time": "2024-06-18T17:59:57.441Z"
   },
   {
    "duration": 46,
    "start_time": "2024-06-18T17:59:57.461Z"
   },
   {
    "duration": 6,
    "start_time": "2024-06-18T17:59:57.510Z"
   },
   {
    "duration": 3,
    "start_time": "2024-06-18T17:59:57.519Z"
   },
   {
    "duration": 15,
    "start_time": "2024-06-18T17:59:57.527Z"
   },
   {
    "duration": 9,
    "start_time": "2024-06-18T17:59:57.546Z"
   },
   {
    "duration": 50,
    "start_time": "2024-06-18T17:59:57.558Z"
   },
   {
    "duration": 3,
    "start_time": "2024-06-18T17:59:57.611Z"
   },
   {
    "duration": 11,
    "start_time": "2024-06-18T17:59:57.618Z"
   },
   {
    "duration": 13,
    "start_time": "2024-06-18T17:59:57.632Z"
   },
   {
    "duration": 62,
    "start_time": "2024-06-18T17:59:57.648Z"
   },
   {
    "duration": 11,
    "start_time": "2024-06-18T17:59:57.713Z"
   },
   {
    "duration": 5063,
    "start_time": "2024-06-18T17:59:57.727Z"
   },
   {
    "duration": 4,
    "start_time": "2024-06-18T18:00:02.793Z"
   },
   {
    "duration": 7,
    "start_time": "2024-06-18T18:00:02.800Z"
   },
   {
    "duration": 15,
    "start_time": "2024-06-18T18:00:02.810Z"
   },
   {
    "duration": 132,
    "start_time": "2024-06-18T18:00:02.827Z"
   },
   {
    "duration": 19,
    "start_time": "2024-06-18T18:00:02.963Z"
   },
   {
    "duration": 19,
    "start_time": "2024-06-18T18:00:03.001Z"
   },
   {
    "duration": 34,
    "start_time": "2024-06-18T18:00:03.023Z"
   },
   {
    "duration": 66,
    "start_time": "2024-06-18T18:00:03.060Z"
   },
   {
    "duration": 9,
    "start_time": "2024-06-18T18:00:03.129Z"
   },
   {
    "duration": 5,
    "start_time": "2024-06-18T18:00:03.146Z"
   },
   {
    "duration": 8,
    "start_time": "2024-06-18T18:00:03.155Z"
   },
   {
    "duration": 9,
    "start_time": "2024-06-18T18:00:03.202Z"
   },
   {
    "duration": 8,
    "start_time": "2024-06-18T18:00:03.215Z"
   },
   {
    "duration": 5,
    "start_time": "2024-06-18T18:00:03.226Z"
   },
   {
    "duration": 12,
    "start_time": "2024-06-18T18:00:03.234Z"
   },
   {
    "duration": 54,
    "start_time": "2024-06-18T18:00:03.250Z"
   },
   {
    "duration": 12,
    "start_time": "2024-06-18T18:00:03.307Z"
   },
   {
    "duration": 1952,
    "start_time": "2024-06-18T18:00:03.322Z"
   },
   {
    "duration": 5,
    "start_time": "2024-06-18T18:00:05.277Z"
   },
   {
    "duration": 19,
    "start_time": "2024-06-18T18:00:05.302Z"
   },
   {
    "duration": 4,
    "start_time": "2024-06-18T18:00:05.324Z"
   },
   {
    "duration": 3,
    "start_time": "2024-06-18T18:00:05.331Z"
   },
   {
    "duration": 4,
    "start_time": "2024-06-18T18:00:05.338Z"
   },
   {
    "duration": 6,
    "start_time": "2024-06-18T18:00:05.345Z"
   },
   {
    "duration": 6,
    "start_time": "2024-06-18T18:00:05.402Z"
   },
   {
    "duration": 16,
    "start_time": "2024-06-18T18:00:05.411Z"
   },
   {
    "duration": 72,
    "start_time": "2024-06-18T18:00:05.430Z"
   },
   {
    "duration": 7,
    "start_time": "2024-06-18T18:00:05.505Z"
   },
   {
    "duration": 5,
    "start_time": "2024-06-18T18:00:05.516Z"
   },
   {
    "duration": 79,
    "start_time": "2024-06-18T18:00:05.524Z"
   },
   {
    "duration": 9,
    "start_time": "2024-06-18T18:00:05.607Z"
   },
   {
    "duration": 5,
    "start_time": "2024-06-18T18:00:05.619Z"
   },
   {
    "duration": 76,
    "start_time": "2024-06-18T18:00:05.627Z"
   },
   {
    "duration": 4,
    "start_time": "2024-06-18T18:00:05.708Z"
   },
   {
    "duration": 7,
    "start_time": "2024-06-18T18:00:05.716Z"
   },
   {
    "duration": 74,
    "start_time": "2024-06-18T18:00:05.727Z"
   },
   {
    "duration": 561,
    "start_time": "2024-06-18T18:00:05.805Z"
   },
   {
    "duration": 1576,
    "start_time": "2024-06-18T18:00:59.535Z"
   },
   {
    "duration": 10,
    "start_time": "2024-06-18T18:01:01.115Z"
   },
   {
    "duration": 22,
    "start_time": "2024-06-18T18:01:01.128Z"
   },
   {
    "duration": 5,
    "start_time": "2024-06-18T18:01:01.154Z"
   },
   {
    "duration": 13,
    "start_time": "2024-06-18T18:01:01.201Z"
   },
   {
    "duration": 16,
    "start_time": "2024-06-18T18:01:01.217Z"
   },
   {
    "duration": 4,
    "start_time": "2024-06-18T18:01:01.236Z"
   },
   {
    "duration": 6,
    "start_time": "2024-06-18T18:01:01.243Z"
   },
   {
    "duration": 3,
    "start_time": "2024-06-18T18:01:01.252Z"
   },
   {
    "duration": 58,
    "start_time": "2024-06-18T18:01:01.257Z"
   },
   {
    "duration": 9,
    "start_time": "2024-06-18T18:01:01.317Z"
   },
   {
    "duration": 8,
    "start_time": "2024-06-18T18:01:01.330Z"
   },
   {
    "duration": 4,
    "start_time": "2024-06-18T18:01:01.340Z"
   },
   {
    "duration": 59,
    "start_time": "2024-06-18T18:01:01.351Z"
   },
   {
    "duration": 11,
    "start_time": "2024-06-18T18:01:01.413Z"
   },
   {
    "duration": 11,
    "start_time": "2024-06-18T18:01:01.427Z"
   },
   {
    "duration": 10,
    "start_time": "2024-06-18T18:01:01.441Z"
   },
   {
    "duration": 5004,
    "start_time": "2024-06-18T18:01:01.454Z"
   },
   {
    "duration": 7,
    "start_time": "2024-06-18T18:01:06.462Z"
   },
   {
    "duration": 6,
    "start_time": "2024-06-18T18:01:06.472Z"
   },
   {
    "duration": 442,
    "start_time": "2024-06-18T18:01:06.481Z"
   },
   {
    "duration": 0,
    "start_time": "2024-06-18T18:01:06.927Z"
   },
   {
    "duration": 0,
    "start_time": "2024-06-18T18:01:06.929Z"
   },
   {
    "duration": 0,
    "start_time": "2024-06-18T18:01:06.932Z"
   },
   {
    "duration": 0,
    "start_time": "2024-06-18T18:01:06.934Z"
   },
   {
    "duration": 0,
    "start_time": "2024-06-18T18:01:06.936Z"
   },
   {
    "duration": 0,
    "start_time": "2024-06-18T18:01:06.939Z"
   },
   {
    "duration": 0,
    "start_time": "2024-06-18T18:01:06.941Z"
   },
   {
    "duration": 0,
    "start_time": "2024-06-18T18:01:06.944Z"
   },
   {
    "duration": 0,
    "start_time": "2024-06-18T18:01:06.947Z"
   },
   {
    "duration": 0,
    "start_time": "2024-06-18T18:01:06.948Z"
   },
   {
    "duration": 0,
    "start_time": "2024-06-18T18:01:06.951Z"
   },
   {
    "duration": 0,
    "start_time": "2024-06-18T18:01:06.952Z"
   },
   {
    "duration": 0,
    "start_time": "2024-06-18T18:01:06.955Z"
   },
   {
    "duration": 0,
    "start_time": "2024-06-18T18:01:07.005Z"
   },
   {
    "duration": 1,
    "start_time": "2024-06-18T18:01:07.007Z"
   },
   {
    "duration": 0,
    "start_time": "2024-06-18T18:01:07.010Z"
   },
   {
    "duration": 0,
    "start_time": "2024-06-18T18:01:07.012Z"
   },
   {
    "duration": 0,
    "start_time": "2024-06-18T18:01:07.014Z"
   },
   {
    "duration": 0,
    "start_time": "2024-06-18T18:01:07.016Z"
   },
   {
    "duration": 0,
    "start_time": "2024-06-18T18:01:07.018Z"
   },
   {
    "duration": 0,
    "start_time": "2024-06-18T18:01:07.020Z"
   },
   {
    "duration": 0,
    "start_time": "2024-06-18T18:01:07.022Z"
   },
   {
    "duration": 0,
    "start_time": "2024-06-18T18:01:07.025Z"
   },
   {
    "duration": 0,
    "start_time": "2024-06-18T18:01:07.027Z"
   },
   {
    "duration": 0,
    "start_time": "2024-06-18T18:01:07.030Z"
   },
   {
    "duration": 0,
    "start_time": "2024-06-18T18:01:07.033Z"
   },
   {
    "duration": 0,
    "start_time": "2024-06-18T18:01:07.035Z"
   },
   {
    "duration": 0,
    "start_time": "2024-06-18T18:01:07.037Z"
   },
   {
    "duration": 0,
    "start_time": "2024-06-18T18:01:07.038Z"
   },
   {
    "duration": 0,
    "start_time": "2024-06-18T18:01:07.100Z"
   },
   {
    "duration": 0,
    "start_time": "2024-06-18T18:01:07.103Z"
   },
   {
    "duration": 0,
    "start_time": "2024-06-18T18:01:07.105Z"
   },
   {
    "duration": 0,
    "start_time": "2024-06-18T18:01:07.108Z"
   },
   {
    "duration": 0,
    "start_time": "2024-06-18T18:01:07.110Z"
   },
   {
    "duration": 15,
    "start_time": "2024-06-18T18:03:02.803Z"
   },
   {
    "duration": 14,
    "start_time": "2024-06-18T18:03:07.392Z"
   },
   {
    "duration": 18,
    "start_time": "2024-06-18T18:03:08.311Z"
   },
   {
    "duration": 19,
    "start_time": "2024-06-18T18:03:08.714Z"
   },
   {
    "duration": 34,
    "start_time": "2024-06-18T18:03:09.123Z"
   },
   {
    "duration": 1583,
    "start_time": "2024-06-18T18:03:14.743Z"
   },
   {
    "duration": 12,
    "start_time": "2024-06-18T18:03:16.329Z"
   },
   {
    "duration": 23,
    "start_time": "2024-06-18T18:03:16.343Z"
   },
   {
    "duration": 30,
    "start_time": "2024-06-18T18:03:16.371Z"
   },
   {
    "duration": 16,
    "start_time": "2024-06-18T18:03:16.404Z"
   },
   {
    "duration": 15,
    "start_time": "2024-06-18T18:03:16.424Z"
   },
   {
    "duration": 4,
    "start_time": "2024-06-18T18:03:16.442Z"
   },
   {
    "duration": 51,
    "start_time": "2024-06-18T18:03:16.450Z"
   },
   {
    "duration": 4,
    "start_time": "2024-06-18T18:03:16.505Z"
   },
   {
    "duration": 16,
    "start_time": "2024-06-18T18:03:16.516Z"
   },
   {
    "duration": 9,
    "start_time": "2024-06-18T18:03:16.535Z"
   },
   {
    "duration": 8,
    "start_time": "2024-06-18T18:03:16.547Z"
   },
   {
    "duration": 45,
    "start_time": "2024-06-18T18:03:16.558Z"
   },
   {
    "duration": 14,
    "start_time": "2024-06-18T18:03:16.607Z"
   },
   {
    "duration": 11,
    "start_time": "2024-06-18T18:03:16.624Z"
   },
   {
    "duration": 11,
    "start_time": "2024-06-18T18:03:16.638Z"
   },
   {
    "duration": 59,
    "start_time": "2024-06-18T18:03:16.652Z"
   },
   {
    "duration": 4924,
    "start_time": "2024-06-18T18:03:16.714Z"
   },
   {
    "duration": 3,
    "start_time": "2024-06-18T18:03:21.642Z"
   },
   {
    "duration": 8,
    "start_time": "2024-06-18T18:03:21.648Z"
   },
   {
    "duration": 14,
    "start_time": "2024-06-18T18:03:21.659Z"
   },
   {
    "duration": 35,
    "start_time": "2024-06-18T18:03:21.676Z"
   },
   {
    "duration": 19,
    "start_time": "2024-06-18T18:03:21.714Z"
   },
   {
    "duration": 19,
    "start_time": "2024-06-18T18:03:21.736Z"
   },
   {
    "duration": 66,
    "start_time": "2024-06-18T18:03:21.758Z"
   },
   {
    "duration": 33,
    "start_time": "2024-06-18T18:03:21.827Z"
   },
   {
    "duration": 9,
    "start_time": "2024-06-18T18:03:21.863Z"
   },
   {
    "duration": 6,
    "start_time": "2024-06-18T18:03:21.909Z"
   },
   {
    "duration": 8,
    "start_time": "2024-06-18T18:03:21.918Z"
   },
   {
    "duration": 7,
    "start_time": "2024-06-18T18:03:21.929Z"
   },
   {
    "duration": 8,
    "start_time": "2024-06-18T18:03:21.939Z"
   },
   {
    "duration": 52,
    "start_time": "2024-06-18T18:03:21.949Z"
   },
   {
    "duration": 11,
    "start_time": "2024-06-18T18:03:22.004Z"
   },
   {
    "duration": 8,
    "start_time": "2024-06-18T18:03:22.018Z"
   },
   {
    "duration": 12,
    "start_time": "2024-06-18T18:03:22.029Z"
   },
   {
    "duration": 2080,
    "start_time": "2024-06-18T18:03:22.044Z"
   },
   {
    "duration": 5,
    "start_time": "2024-06-18T18:03:24.127Z"
   },
   {
    "duration": 17,
    "start_time": "2024-06-18T18:03:24.135Z"
   },
   {
    "duration": 3,
    "start_time": "2024-06-18T18:03:24.156Z"
   },
   {
    "duration": 40,
    "start_time": "2024-06-18T18:03:24.162Z"
   },
   {
    "duration": 4,
    "start_time": "2024-06-18T18:03:24.206Z"
   },
   {
    "duration": 8,
    "start_time": "2024-06-18T18:03:24.214Z"
   },
   {
    "duration": 4,
    "start_time": "2024-06-18T18:03:24.225Z"
   },
   {
    "duration": 590,
    "start_time": "2024-06-18T18:03:24.232Z"
   },
   {
    "duration": 0,
    "start_time": "2024-06-18T18:03:24.825Z"
   },
   {
    "duration": 0,
    "start_time": "2024-06-18T18:03:24.828Z"
   },
   {
    "duration": 0,
    "start_time": "2024-06-18T18:03:24.830Z"
   },
   {
    "duration": 0,
    "start_time": "2024-06-18T18:03:24.832Z"
   },
   {
    "duration": 0,
    "start_time": "2024-06-18T18:03:24.835Z"
   },
   {
    "duration": 0,
    "start_time": "2024-06-18T18:03:24.838Z"
   },
   {
    "duration": 0,
    "start_time": "2024-06-18T18:03:24.842Z"
   },
   {
    "duration": 0,
    "start_time": "2024-06-18T18:03:24.844Z"
   },
   {
    "duration": 0,
    "start_time": "2024-06-18T18:03:24.847Z"
   },
   {
    "duration": 0,
    "start_time": "2024-06-18T18:03:24.849Z"
   },
   {
    "duration": 0,
    "start_time": "2024-06-18T18:03:24.851Z"
   },
   {
    "duration": 5,
    "start_time": "2024-06-18T18:05:03.245Z"
   },
   {
    "duration": 127,
    "start_time": "2024-06-18T18:05:03.780Z"
   },
   {
    "duration": 5,
    "start_time": "2024-06-18T18:05:16.575Z"
   },
   {
    "duration": 178,
    "start_time": "2024-06-18T18:05:19.926Z"
   },
   {
    "duration": 5,
    "start_time": "2024-06-18T18:05:20.475Z"
   },
   {
    "duration": 1597,
    "start_time": "2024-06-18T18:05:51.683Z"
   },
   {
    "duration": 20,
    "start_time": "2024-06-18T18:05:53.284Z"
   },
   {
    "duration": 23,
    "start_time": "2024-06-18T18:05:53.306Z"
   },
   {
    "duration": 7,
    "start_time": "2024-06-18T18:05:53.332Z"
   },
   {
    "duration": 15,
    "start_time": "2024-06-18T18:05:53.345Z"
   },
   {
    "duration": 51,
    "start_time": "2024-06-18T18:05:53.363Z"
   },
   {
    "duration": 3,
    "start_time": "2024-06-18T18:05:53.417Z"
   },
   {
    "duration": 5,
    "start_time": "2024-06-18T18:05:53.423Z"
   },
   {
    "duration": 4,
    "start_time": "2024-06-18T18:05:53.431Z"
   },
   {
    "duration": 14,
    "start_time": "2024-06-18T18:05:53.439Z"
   },
   {
    "duration": 8,
    "start_time": "2024-06-18T18:05:53.503Z"
   },
   {
    "duration": 8,
    "start_time": "2024-06-18T18:05:53.514Z"
   },
   {
    "duration": 3,
    "start_time": "2024-06-18T18:05:53.525Z"
   },
   {
    "duration": 11,
    "start_time": "2024-06-18T18:05:53.535Z"
   },
   {
    "duration": 60,
    "start_time": "2024-06-18T18:05:53.548Z"
   },
   {
    "duration": 10,
    "start_time": "2024-06-18T18:05:53.611Z"
   },
   {
    "duration": 11,
    "start_time": "2024-06-18T18:05:53.624Z"
   },
   {
    "duration": 5024,
    "start_time": "2024-06-18T18:05:53.638Z"
   },
   {
    "duration": 4,
    "start_time": "2024-06-18T18:05:58.668Z"
   },
   {
    "duration": 8,
    "start_time": "2024-06-18T18:05:58.675Z"
   },
   {
    "duration": 25,
    "start_time": "2024-06-18T18:05:58.685Z"
   },
   {
    "duration": 16,
    "start_time": "2024-06-18T18:05:58.713Z"
   },
   {
    "duration": 19,
    "start_time": "2024-06-18T18:05:58.732Z"
   },
   {
    "duration": 56,
    "start_time": "2024-06-18T18:05:58.754Z"
   },
   {
    "duration": 33,
    "start_time": "2024-06-18T18:05:58.813Z"
   },
   {
    "duration": 58,
    "start_time": "2024-06-18T18:05:58.849Z"
   },
   {
    "duration": 9,
    "start_time": "2024-06-18T18:05:58.911Z"
   },
   {
    "duration": 7,
    "start_time": "2024-06-18T18:05:58.924Z"
   },
   {
    "duration": 8,
    "start_time": "2024-06-18T18:05:58.934Z"
   },
   {
    "duration": 8,
    "start_time": "2024-06-18T18:05:58.945Z"
   },
   {
    "duration": 8,
    "start_time": "2024-06-18T18:05:59.003Z"
   },
   {
    "duration": 5,
    "start_time": "2024-06-18T18:05:59.014Z"
   },
   {
    "duration": 11,
    "start_time": "2024-06-18T18:05:59.022Z"
   },
   {
    "duration": 8,
    "start_time": "2024-06-18T18:05:59.036Z"
   },
   {
    "duration": 56,
    "start_time": "2024-06-18T18:05:59.047Z"
   },
   {
    "duration": 2095,
    "start_time": "2024-06-18T18:05:59.106Z"
   },
   {
    "duration": 7,
    "start_time": "2024-06-18T18:06:01.205Z"
   },
   {
    "duration": 20,
    "start_time": "2024-06-18T18:06:01.215Z"
   },
   {
    "duration": 4,
    "start_time": "2024-06-18T18:06:01.239Z"
   },
   {
    "duration": 4,
    "start_time": "2024-06-18T18:06:01.245Z"
   },
   {
    "duration": 43,
    "start_time": "2024-06-18T18:06:01.258Z"
   },
   {
    "duration": 8,
    "start_time": "2024-06-18T18:06:01.305Z"
   },
   {
    "duration": 6,
    "start_time": "2024-06-18T18:06:01.316Z"
   },
   {
    "duration": 592,
    "start_time": "2024-06-18T18:06:01.325Z"
   },
   {
    "duration": 0,
    "start_time": "2024-06-18T18:06:01.921Z"
   },
   {
    "duration": 0,
    "start_time": "2024-06-18T18:06:01.923Z"
   },
   {
    "duration": 0,
    "start_time": "2024-06-18T18:06:01.924Z"
   },
   {
    "duration": 0,
    "start_time": "2024-06-18T18:06:01.926Z"
   },
   {
    "duration": 0,
    "start_time": "2024-06-18T18:06:01.928Z"
   },
   {
    "duration": 0,
    "start_time": "2024-06-18T18:06:01.930Z"
   },
   {
    "duration": 0,
    "start_time": "2024-06-18T18:06:01.932Z"
   },
   {
    "duration": 0,
    "start_time": "2024-06-18T18:06:01.934Z"
   },
   {
    "duration": 0,
    "start_time": "2024-06-18T18:06:01.935Z"
   },
   {
    "duration": 0,
    "start_time": "2024-06-18T18:06:01.937Z"
   },
   {
    "duration": 0,
    "start_time": "2024-06-18T18:06:01.938Z"
   },
   {
    "duration": 1627,
    "start_time": "2024-06-18T18:07:56.069Z"
   },
   {
    "duration": 11,
    "start_time": "2024-06-18T18:07:57.701Z"
   },
   {
    "duration": 21,
    "start_time": "2024-06-18T18:07:57.715Z"
   },
   {
    "duration": 6,
    "start_time": "2024-06-18T18:07:57.741Z"
   },
   {
    "duration": 52,
    "start_time": "2024-06-18T18:07:57.751Z"
   },
   {
    "duration": 16,
    "start_time": "2024-06-18T18:07:57.806Z"
   },
   {
    "duration": 3,
    "start_time": "2024-06-18T18:07:57.825Z"
   },
   {
    "duration": 5,
    "start_time": "2024-06-18T18:07:57.831Z"
   },
   {
    "duration": 3,
    "start_time": "2024-06-18T18:07:57.839Z"
   },
   {
    "duration": 60,
    "start_time": "2024-06-18T18:07:57.849Z"
   },
   {
    "duration": 9,
    "start_time": "2024-06-18T18:07:57.912Z"
   },
   {
    "duration": 8,
    "start_time": "2024-06-18T18:07:57.925Z"
   },
   {
    "duration": 4,
    "start_time": "2024-06-18T18:07:57.935Z"
   },
   {
    "duration": 11,
    "start_time": "2024-06-18T18:07:57.942Z"
   },
   {
    "duration": 14,
    "start_time": "2024-06-18T18:07:58.001Z"
   },
   {
    "duration": 12,
    "start_time": "2024-06-18T18:07:58.020Z"
   },
   {
    "duration": 13,
    "start_time": "2024-06-18T18:07:58.035Z"
   },
   {
    "duration": 5031,
    "start_time": "2024-06-18T18:07:58.051Z"
   },
   {
    "duration": 4,
    "start_time": "2024-06-18T18:08:03.085Z"
   },
   {
    "duration": 9,
    "start_time": "2024-06-18T18:08:03.093Z"
   },
   {
    "duration": 15,
    "start_time": "2024-06-18T18:08:03.105Z"
   },
   {
    "duration": 15,
    "start_time": "2024-06-18T18:08:03.122Z"
   },
   {
    "duration": 19,
    "start_time": "2024-06-18T18:08:03.140Z"
   },
   {
    "duration": 55,
    "start_time": "2024-06-18T18:08:03.162Z"
   },
   {
    "duration": 35,
    "start_time": "2024-06-18T18:08:03.219Z"
   },
   {
    "duration": 62,
    "start_time": "2024-06-18T18:08:03.257Z"
   },
   {
    "duration": 9,
    "start_time": "2024-06-18T18:08:03.322Z"
   },
   {
    "duration": 5,
    "start_time": "2024-06-18T18:08:03.340Z"
   },
   {
    "duration": 8,
    "start_time": "2024-06-18T18:08:03.348Z"
   },
   {
    "duration": 45,
    "start_time": "2024-06-18T18:08:03.359Z"
   },
   {
    "duration": 8,
    "start_time": "2024-06-18T18:08:03.408Z"
   },
   {
    "duration": 5,
    "start_time": "2024-06-18T18:08:03.420Z"
   },
   {
    "duration": 17,
    "start_time": "2024-06-18T18:08:03.438Z"
   },
   {
    "duration": 8,
    "start_time": "2024-06-18T18:08:03.459Z"
   },
   {
    "duration": 12,
    "start_time": "2024-06-18T18:08:03.503Z"
   },
   {
    "duration": 2197,
    "start_time": "2024-06-18T18:08:03.518Z"
   },
   {
    "duration": 5,
    "start_time": "2024-06-18T18:08:05.719Z"
   },
   {
    "duration": 17,
    "start_time": "2024-06-18T18:08:05.727Z"
   },
   {
    "duration": 4,
    "start_time": "2024-06-18T18:08:05.747Z"
   },
   {
    "duration": 3,
    "start_time": "2024-06-18T18:08:05.755Z"
   },
   {
    "duration": 41,
    "start_time": "2024-06-18T18:08:05.761Z"
   },
   {
    "duration": 7,
    "start_time": "2024-06-18T18:08:05.804Z"
   },
   {
    "duration": 6,
    "start_time": "2024-06-18T18:08:05.814Z"
   },
   {
    "duration": 5,
    "start_time": "2024-06-18T18:08:05.822Z"
   },
   {
    "duration": 592,
    "start_time": "2024-06-18T18:08:05.832Z"
   },
   {
    "duration": 0,
    "start_time": "2024-06-18T18:08:06.427Z"
   },
   {
    "duration": 0,
    "start_time": "2024-06-18T18:08:06.429Z"
   },
   {
    "duration": 0,
    "start_time": "2024-06-18T18:08:06.431Z"
   },
   {
    "duration": 0,
    "start_time": "2024-06-18T18:08:06.434Z"
   },
   {
    "duration": 0,
    "start_time": "2024-06-18T18:08:06.436Z"
   },
   {
    "duration": 0,
    "start_time": "2024-06-18T18:08:06.439Z"
   },
   {
    "duration": 0,
    "start_time": "2024-06-18T18:08:06.441Z"
   },
   {
    "duration": 0,
    "start_time": "2024-06-18T18:08:06.442Z"
   },
   {
    "duration": 0,
    "start_time": "2024-06-18T18:08:06.444Z"
   },
   {
    "duration": 0,
    "start_time": "2024-06-18T18:08:06.446Z"
   },
   {
    "duration": 0,
    "start_time": "2024-06-18T18:08:06.448Z"
   },
   {
    "duration": 1624,
    "start_time": "2024-06-18T18:08:58.388Z"
   },
   {
    "duration": 10,
    "start_time": "2024-06-18T18:09:00.017Z"
   },
   {
    "duration": 23,
    "start_time": "2024-06-18T18:09:00.030Z"
   },
   {
    "duration": 5,
    "start_time": "2024-06-18T18:09:00.057Z"
   },
   {
    "duration": 46,
    "start_time": "2024-06-18T18:09:00.065Z"
   },
   {
    "duration": 15,
    "start_time": "2024-06-18T18:09:00.114Z"
   },
   {
    "duration": 4,
    "start_time": "2024-06-18T18:09:00.132Z"
   },
   {
    "duration": 5,
    "start_time": "2024-06-18T18:09:00.139Z"
   },
   {
    "duration": 4,
    "start_time": "2024-06-18T18:09:00.148Z"
   },
   {
    "duration": 15,
    "start_time": "2024-06-18T18:09:00.203Z"
   },
   {
    "duration": 9,
    "start_time": "2024-06-18T18:09:00.221Z"
   },
   {
    "duration": 9,
    "start_time": "2024-06-18T18:09:00.233Z"
   },
   {
    "duration": 4,
    "start_time": "2024-06-18T18:09:00.244Z"
   },
   {
    "duration": 60,
    "start_time": "2024-06-18T18:09:00.251Z"
   },
   {
    "duration": 11,
    "start_time": "2024-06-18T18:09:00.314Z"
   },
   {
    "duration": 10,
    "start_time": "2024-06-18T18:09:00.329Z"
   },
   {
    "duration": 11,
    "start_time": "2024-06-18T18:09:00.342Z"
   },
   {
    "duration": 4931,
    "start_time": "2024-06-18T18:09:00.356Z"
   },
   {
    "duration": 4,
    "start_time": "2024-06-18T18:09:05.290Z"
   },
   {
    "duration": 8,
    "start_time": "2024-06-18T18:09:05.298Z"
   },
   {
    "duration": 18,
    "start_time": "2024-06-18T18:09:05.310Z"
   },
   {
    "duration": 17,
    "start_time": "2024-06-18T18:09:05.332Z"
   },
   {
    "duration": 53,
    "start_time": "2024-06-18T18:09:05.353Z"
   },
   {
    "duration": 19,
    "start_time": "2024-06-18T18:09:05.409Z"
   },
   {
    "duration": 35,
    "start_time": "2024-06-18T18:09:05.430Z"
   },
   {
    "duration": 63,
    "start_time": "2024-06-18T18:09:05.468Z"
   },
   {
    "duration": 9,
    "start_time": "2024-06-18T18:09:05.534Z"
   },
   {
    "duration": 6,
    "start_time": "2024-06-18T18:09:05.552Z"
   },
   {
    "duration": 42,
    "start_time": "2024-06-18T18:09:05.561Z"
   },
   {
    "duration": 9,
    "start_time": "2024-06-18T18:09:05.606Z"
   },
   {
    "duration": 8,
    "start_time": "2024-06-18T18:09:05.618Z"
   },
   {
    "duration": 5,
    "start_time": "2024-06-18T18:09:05.629Z"
   },
   {
    "duration": 12,
    "start_time": "2024-06-18T18:09:05.636Z"
   },
   {
    "duration": 54,
    "start_time": "2024-06-18T18:09:05.652Z"
   },
   {
    "duration": 12,
    "start_time": "2024-06-18T18:09:05.709Z"
   },
   {
    "duration": 2027,
    "start_time": "2024-06-18T18:09:05.724Z"
   },
   {
    "duration": 5,
    "start_time": "2024-06-18T18:09:07.754Z"
   },
   {
    "duration": 39,
    "start_time": "2024-06-18T18:09:07.762Z"
   },
   {
    "duration": 3,
    "start_time": "2024-06-18T18:09:07.805Z"
   },
   {
    "duration": 4,
    "start_time": "2024-06-18T18:09:07.811Z"
   },
   {
    "duration": 3,
    "start_time": "2024-06-18T18:09:07.818Z"
   },
   {
    "duration": 6,
    "start_time": "2024-06-18T18:09:07.824Z"
   },
   {
    "duration": 3,
    "start_time": "2024-06-18T18:09:07.834Z"
   },
   {
    "duration": 5,
    "start_time": "2024-06-18T18:09:07.841Z"
   },
   {
    "duration": 652,
    "start_time": "2024-06-18T18:09:07.849Z"
   },
   {
    "duration": 0,
    "start_time": "2024-06-18T18:09:08.504Z"
   },
   {
    "duration": 0,
    "start_time": "2024-06-18T18:09:08.507Z"
   },
   {
    "duration": 0,
    "start_time": "2024-06-18T18:09:08.510Z"
   },
   {
    "duration": 0,
    "start_time": "2024-06-18T18:09:08.512Z"
   },
   {
    "duration": 0,
    "start_time": "2024-06-18T18:09:08.515Z"
   },
   {
    "duration": 0,
    "start_time": "2024-06-18T18:09:08.517Z"
   },
   {
    "duration": 0,
    "start_time": "2024-06-18T18:09:08.519Z"
   },
   {
    "duration": 0,
    "start_time": "2024-06-18T18:09:08.522Z"
   },
   {
    "duration": 0,
    "start_time": "2024-06-18T18:09:08.525Z"
   },
   {
    "duration": 0,
    "start_time": "2024-06-18T18:09:08.528Z"
   },
   {
    "duration": 0,
    "start_time": "2024-06-18T18:09:08.530Z"
   },
   {
    "duration": 5,
    "start_time": "2024-06-18T18:12:20.755Z"
   },
   {
    "duration": 190,
    "start_time": "2024-06-18T18:12:21.913Z"
   },
   {
    "duration": 1552,
    "start_time": "2024-06-18T18:12:41.064Z"
   },
   {
    "duration": 16,
    "start_time": "2024-06-18T18:12:42.623Z"
   },
   {
    "duration": 26,
    "start_time": "2024-06-18T18:12:42.642Z"
   },
   {
    "duration": 6,
    "start_time": "2024-06-18T18:12:42.674Z"
   },
   {
    "duration": 14,
    "start_time": "2024-06-18T18:12:42.703Z"
   },
   {
    "duration": 16,
    "start_time": "2024-06-18T18:12:42.720Z"
   },
   {
    "duration": 3,
    "start_time": "2024-06-18T18:12:42.739Z"
   },
   {
    "duration": 5,
    "start_time": "2024-06-18T18:12:42.745Z"
   },
   {
    "duration": 48,
    "start_time": "2024-06-18T18:12:42.753Z"
   },
   {
    "duration": 14,
    "start_time": "2024-06-18T18:12:42.808Z"
   },
   {
    "duration": 9,
    "start_time": "2024-06-18T18:12:42.825Z"
   },
   {
    "duration": 9,
    "start_time": "2024-06-18T18:12:42.837Z"
   },
   {
    "duration": 3,
    "start_time": "2024-06-18T18:12:42.849Z"
   },
   {
    "duration": 12,
    "start_time": "2024-06-18T18:12:42.902Z"
   },
   {
    "duration": 12,
    "start_time": "2024-06-18T18:12:42.917Z"
   },
   {
    "duration": 12,
    "start_time": "2024-06-18T18:12:42.931Z"
   },
   {
    "duration": 60,
    "start_time": "2024-06-18T18:12:42.946Z"
   },
   {
    "duration": 4933,
    "start_time": "2024-06-18T18:12:43.009Z"
   },
   {
    "duration": 4,
    "start_time": "2024-06-18T18:12:47.945Z"
   },
   {
    "duration": 6,
    "start_time": "2024-06-18T18:12:47.953Z"
   },
   {
    "duration": 17,
    "start_time": "2024-06-18T18:12:47.962Z"
   },
   {
    "duration": 16,
    "start_time": "2024-06-18T18:12:48.002Z"
   },
   {
    "duration": 18,
    "start_time": "2024-06-18T18:12:48.021Z"
   },
   {
    "duration": 19,
    "start_time": "2024-06-18T18:12:48.042Z"
   },
   {
    "duration": 66,
    "start_time": "2024-06-18T18:12:48.064Z"
   },
   {
    "duration": 37,
    "start_time": "2024-06-18T18:12:48.133Z"
   },
   {
    "duration": 45,
    "start_time": "2024-06-18T18:12:48.173Z"
   },
   {
    "duration": 6,
    "start_time": "2024-06-18T18:12:48.228Z"
   },
   {
    "duration": 7,
    "start_time": "2024-06-18T18:12:48.237Z"
   },
   {
    "duration": 9,
    "start_time": "2024-06-18T18:12:48.247Z"
   },
   {
    "duration": 45,
    "start_time": "2024-06-18T18:12:48.258Z"
   },
   {
    "duration": 5,
    "start_time": "2024-06-18T18:12:48.306Z"
   },
   {
    "duration": 12,
    "start_time": "2024-06-18T18:12:48.314Z"
   },
   {
    "duration": 8,
    "start_time": "2024-06-18T18:12:48.329Z"
   },
   {
    "duration": 12,
    "start_time": "2024-06-18T18:12:48.340Z"
   },
   {
    "duration": 2157,
    "start_time": "2024-06-18T18:12:48.355Z"
   },
   {
    "duration": 5,
    "start_time": "2024-06-18T18:12:50.515Z"
   },
   {
    "duration": 16,
    "start_time": "2024-06-18T18:12:50.523Z"
   },
   {
    "duration": 4,
    "start_time": "2024-06-18T18:12:50.542Z"
   },
   {
    "duration": 4,
    "start_time": "2024-06-18T18:12:50.549Z"
   },
   {
    "duration": 47,
    "start_time": "2024-06-18T18:12:50.556Z"
   },
   {
    "duration": 7,
    "start_time": "2024-06-18T18:12:50.606Z"
   },
   {
    "duration": 3,
    "start_time": "2024-06-18T18:12:50.617Z"
   },
   {
    "duration": 4,
    "start_time": "2024-06-18T18:12:50.624Z"
   },
   {
    "duration": 588,
    "start_time": "2024-06-18T18:12:50.631Z"
   },
   {
    "duration": 0,
    "start_time": "2024-06-18T18:12:51.222Z"
   },
   {
    "duration": 0,
    "start_time": "2024-06-18T18:12:51.224Z"
   },
   {
    "duration": 0,
    "start_time": "2024-06-18T18:12:51.226Z"
   },
   {
    "duration": 0,
    "start_time": "2024-06-18T18:12:51.229Z"
   },
   {
    "duration": 0,
    "start_time": "2024-06-18T18:12:51.231Z"
   },
   {
    "duration": 0,
    "start_time": "2024-06-18T18:12:51.234Z"
   },
   {
    "duration": 0,
    "start_time": "2024-06-18T18:12:51.237Z"
   },
   {
    "duration": 0,
    "start_time": "2024-06-18T18:12:51.239Z"
   },
   {
    "duration": 0,
    "start_time": "2024-06-18T18:12:51.241Z"
   },
   {
    "duration": 0,
    "start_time": "2024-06-18T18:12:51.243Z"
   },
   {
    "duration": 0,
    "start_time": "2024-06-18T18:12:51.246Z"
   },
   {
    "duration": 5,
    "start_time": "2024-06-18T18:16:39.161Z"
   },
   {
    "duration": 15,
    "start_time": "2024-06-18T18:16:39.676Z"
   },
   {
    "duration": 6,
    "start_time": "2024-06-18T18:16:41.746Z"
   },
   {
    "duration": 10,
    "start_time": "2024-06-18T18:16:42.123Z"
   },
   {
    "duration": 4,
    "start_time": "2024-06-18T18:16:46.249Z"
   },
   {
    "duration": 3,
    "start_time": "2024-06-18T18:16:46.653Z"
   },
   {
    "duration": 4,
    "start_time": "2024-06-18T18:16:47.487Z"
   },
   {
    "duration": 4,
    "start_time": "2024-06-18T18:16:48.389Z"
   },
   {
    "duration": 4,
    "start_time": "2024-06-18T18:16:49.210Z"
   },
   {
    "duration": 7,
    "start_time": "2024-06-18T18:16:50.031Z"
   },
   {
    "duration": 1576,
    "start_time": "2024-06-18T18:16:56.342Z"
   },
   {
    "duration": 11,
    "start_time": "2024-06-18T18:16:57.922Z"
   },
   {
    "duration": 22,
    "start_time": "2024-06-18T18:16:57.936Z"
   },
   {
    "duration": 5,
    "start_time": "2024-06-18T18:16:57.963Z"
   },
   {
    "duration": 14,
    "start_time": "2024-06-18T18:16:58.001Z"
   },
   {
    "duration": 15,
    "start_time": "2024-06-18T18:16:58.020Z"
   },
   {
    "duration": 4,
    "start_time": "2024-06-18T18:16:58.038Z"
   },
   {
    "duration": 5,
    "start_time": "2024-06-18T18:16:58.045Z"
   },
   {
    "duration": 4,
    "start_time": "2024-06-18T18:16:58.053Z"
   },
   {
    "duration": 18,
    "start_time": "2024-06-18T18:16:58.105Z"
   },
   {
    "duration": 9,
    "start_time": "2024-06-18T18:16:58.127Z"
   },
   {
    "duration": 10,
    "start_time": "2024-06-18T18:16:58.139Z"
   },
   {
    "duration": 6,
    "start_time": "2024-06-18T18:16:58.152Z"
   },
   {
    "duration": 58,
    "start_time": "2024-06-18T18:16:58.161Z"
   },
   {
    "duration": 13,
    "start_time": "2024-06-18T18:16:58.223Z"
   },
   {
    "duration": 11,
    "start_time": "2024-06-18T18:16:58.239Z"
   },
   {
    "duration": 51,
    "start_time": "2024-06-18T18:16:58.254Z"
   },
   {
    "duration": 4967,
    "start_time": "2024-06-18T18:16:58.307Z"
   },
   {
    "duration": 4,
    "start_time": "2024-06-18T18:17:03.278Z"
   },
   {
    "duration": 7,
    "start_time": "2024-06-18T18:17:03.285Z"
   },
   {
    "duration": 15,
    "start_time": "2024-06-18T18:17:03.302Z"
   },
   {
    "duration": 14,
    "start_time": "2024-06-18T18:17:03.320Z"
   },
   {
    "duration": 19,
    "start_time": "2024-06-18T18:17:03.337Z"
   },
   {
    "duration": 54,
    "start_time": "2024-06-18T18:17:03.359Z"
   },
   {
    "duration": 34,
    "start_time": "2024-06-18T18:17:03.416Z"
   },
   {
    "duration": 63,
    "start_time": "2024-06-18T18:17:03.453Z"
   },
   {
    "duration": 9,
    "start_time": "2024-06-18T18:17:03.520Z"
   },
   {
    "duration": 5,
    "start_time": "2024-06-18T18:17:03.538Z"
   },
   {
    "duration": 9,
    "start_time": "2024-06-18T18:17:03.546Z"
   },
   {
    "duration": 48,
    "start_time": "2024-06-18T18:17:03.557Z"
   },
   {
    "duration": 8,
    "start_time": "2024-06-18T18:17:03.608Z"
   },
   {
    "duration": 6,
    "start_time": "2024-06-18T18:17:03.619Z"
   },
   {
    "duration": 11,
    "start_time": "2024-06-18T18:17:03.628Z"
   },
   {
    "duration": 8,
    "start_time": "2024-06-18T18:17:03.642Z"
   },
   {
    "duration": 11,
    "start_time": "2024-06-18T18:17:03.701Z"
   },
   {
    "duration": 2379,
    "start_time": "2024-06-18T18:17:03.714Z"
   },
   {
    "duration": 9,
    "start_time": "2024-06-18T18:17:06.101Z"
   },
   {
    "duration": 19,
    "start_time": "2024-06-18T18:17:06.114Z"
   },
   {
    "duration": 4,
    "start_time": "2024-06-18T18:17:06.136Z"
   },
   {
    "duration": 4,
    "start_time": "2024-06-18T18:17:06.143Z"
   },
   {
    "duration": 4,
    "start_time": "2024-06-18T18:17:06.150Z"
   },
   {
    "duration": 12,
    "start_time": "2024-06-18T18:17:06.201Z"
   },
   {
    "duration": 3,
    "start_time": "2024-06-18T18:17:06.217Z"
   },
   {
    "duration": 4,
    "start_time": "2024-06-18T18:17:06.224Z"
   },
   {
    "duration": 14,
    "start_time": "2024-06-18T18:17:06.232Z"
   },
   {
    "duration": 13,
    "start_time": "2024-06-18T18:17:06.304Z"
   },
   {
    "duration": 75,
    "start_time": "2024-06-18T18:17:06.325Z"
   },
   {
    "duration": 9,
    "start_time": "2024-06-18T18:17:06.405Z"
   },
   {
    "duration": 6,
    "start_time": "2024-06-18T18:17:06.418Z"
   },
   {
    "duration": 75,
    "start_time": "2024-06-18T18:17:06.428Z"
   },
   {
    "duration": 8,
    "start_time": "2024-06-18T18:17:06.507Z"
   },
   {
    "duration": 4,
    "start_time": "2024-06-18T18:17:06.519Z"
   },
   {
    "duration": 7,
    "start_time": "2024-06-18T18:17:06.528Z"
   },
   {
    "duration": 69,
    "start_time": "2024-06-18T18:17:06.538Z"
   },
   {
    "duration": 8,
    "start_time": "2024-06-18T18:17:06.611Z"
   },
   {
    "duration": 96,
    "start_time": "2024-06-18T18:17:06.622Z"
   },
   {
    "duration": 20,
    "start_time": "2024-06-18T18:18:05.690Z"
   },
   {
    "duration": 16,
    "start_time": "2024-06-18T18:18:23.849Z"
   },
   {
    "duration": 17,
    "start_time": "2024-06-18T18:18:31.029Z"
   },
   {
    "duration": 19,
    "start_time": "2024-06-18T18:18:42.579Z"
   },
   {
    "duration": 16,
    "start_time": "2024-06-18T18:19:35.198Z"
   },
   {
    "duration": 15,
    "start_time": "2024-06-18T18:19:41.742Z"
   },
   {
    "duration": 16,
    "start_time": "2024-06-18T18:19:46.405Z"
   },
   {
    "duration": 16,
    "start_time": "2024-06-18T18:19:51.185Z"
   },
   {
    "duration": 17,
    "start_time": "2024-06-18T18:19:58.967Z"
   },
   {
    "duration": 17,
    "start_time": "2024-06-18T18:20:05.384Z"
   },
   {
    "duration": 5,
    "start_time": "2024-06-18T18:36:15.325Z"
   },
   {
    "duration": 4,
    "start_time": "2024-06-18T18:37:38.694Z"
   },
   {
    "duration": 5,
    "start_time": "2024-06-18T18:37:49.440Z"
   },
   {
    "duration": 1720,
    "start_time": "2024-06-18T18:38:02.327Z"
   },
   {
    "duration": 14,
    "start_time": "2024-06-18T18:38:04.052Z"
   },
   {
    "duration": 37,
    "start_time": "2024-06-18T18:38:04.071Z"
   },
   {
    "duration": 5,
    "start_time": "2024-06-18T18:38:04.113Z"
   },
   {
    "duration": 18,
    "start_time": "2024-06-18T18:38:04.121Z"
   },
   {
    "duration": 20,
    "start_time": "2024-06-18T18:38:04.142Z"
   },
   {
    "duration": 4,
    "start_time": "2024-06-18T18:38:04.201Z"
   },
   {
    "duration": 6,
    "start_time": "2024-06-18T18:38:04.211Z"
   },
   {
    "duration": 4,
    "start_time": "2024-06-18T18:38:04.221Z"
   },
   {
    "duration": 17,
    "start_time": "2024-06-18T18:38:04.231Z"
   },
   {
    "duration": 51,
    "start_time": "2024-06-18T18:38:04.253Z"
   },
   {
    "duration": 10,
    "start_time": "2024-06-18T18:38:04.308Z"
   },
   {
    "duration": 4,
    "start_time": "2024-06-18T18:38:04.322Z"
   },
   {
    "duration": 14,
    "start_time": "2024-06-18T18:38:04.329Z"
   },
   {
    "duration": 64,
    "start_time": "2024-06-18T18:38:04.346Z"
   },
   {
    "duration": 22,
    "start_time": "2024-06-18T18:38:04.414Z"
   },
   {
    "duration": 13,
    "start_time": "2024-06-18T18:38:04.440Z"
   },
   {
    "duration": 5462,
    "start_time": "2024-06-18T18:38:04.456Z"
   },
   {
    "duration": 6,
    "start_time": "2024-06-18T18:38:09.921Z"
   },
   {
    "duration": 13,
    "start_time": "2024-06-18T18:38:09.929Z"
   },
   {
    "duration": 17,
    "start_time": "2024-06-18T18:38:09.946Z"
   },
   {
    "duration": 17,
    "start_time": "2024-06-18T18:38:09.966Z"
   },
   {
    "duration": 37,
    "start_time": "2024-06-18T18:38:09.986Z"
   },
   {
    "duration": 22,
    "start_time": "2024-06-18T18:38:10.026Z"
   },
   {
    "duration": 66,
    "start_time": "2024-06-18T18:38:10.051Z"
   },
   {
    "duration": 35,
    "start_time": "2024-06-18T18:38:10.121Z"
   },
   {
    "duration": 10,
    "start_time": "2024-06-18T18:38:10.159Z"
   },
   {
    "duration": 7,
    "start_time": "2024-06-18T18:38:10.209Z"
   },
   {
    "duration": 10,
    "start_time": "2024-06-18T18:38:10.219Z"
   },
   {
    "duration": 9,
    "start_time": "2024-06-18T18:38:10.233Z"
   },
   {
    "duration": 13,
    "start_time": "2024-06-18T18:38:10.245Z"
   },
   {
    "duration": 6,
    "start_time": "2024-06-18T18:38:10.302Z"
   },
   {
    "duration": 13,
    "start_time": "2024-06-18T18:38:10.311Z"
   },
   {
    "duration": 9,
    "start_time": "2024-06-18T18:38:10.328Z"
   },
   {
    "duration": 14,
    "start_time": "2024-06-18T18:38:10.340Z"
   },
   {
    "duration": 2087,
    "start_time": "2024-06-18T18:38:10.402Z"
   },
   {
    "duration": 13,
    "start_time": "2024-06-18T18:38:12.492Z"
   },
   {
    "duration": 19,
    "start_time": "2024-06-18T18:38:12.508Z"
   },
   {
    "duration": 3,
    "start_time": "2024-06-18T18:38:12.531Z"
   },
   {
    "duration": 4,
    "start_time": "2024-06-18T18:38:12.538Z"
   },
   {
    "duration": 4,
    "start_time": "2024-06-18T18:38:12.546Z"
   },
   {
    "duration": 7,
    "start_time": "2024-06-18T18:38:12.601Z"
   },
   {
    "duration": 4,
    "start_time": "2024-06-18T18:38:12.613Z"
   },
   {
    "duration": 6,
    "start_time": "2024-06-18T18:38:12.621Z"
   },
   {
    "duration": 13,
    "start_time": "2024-06-18T18:38:12.630Z"
   },
   {
    "duration": 5,
    "start_time": "2024-06-18T18:38:12.647Z"
   },
   {
    "duration": 52,
    "start_time": "2024-06-18T18:38:12.656Z"
   },
   {
    "duration": 14,
    "start_time": "2024-06-18T18:38:12.711Z"
   },
   {
    "duration": 4,
    "start_time": "2024-06-18T18:38:12.728Z"
   },
   {
    "duration": 6,
    "start_time": "2024-06-18T18:38:12.736Z"
   },
   {
    "duration": 57,
    "start_time": "2024-06-18T18:38:12.745Z"
   },
   {
    "duration": 15,
    "start_time": "2024-06-18T18:38:12.806Z"
   },
   {
    "duration": 4,
    "start_time": "2024-06-18T18:38:12.826Z"
   },
   {
    "duration": 68,
    "start_time": "2024-06-18T18:38:12.835Z"
   },
   {
    "duration": 7,
    "start_time": "2024-06-18T18:38:12.907Z"
   },
   {
    "duration": 93,
    "start_time": "2024-06-18T18:38:12.919Z"
   },
   {
    "duration": 6,
    "start_time": "2024-06-18T18:38:13.016Z"
   },
   {
    "duration": 4,
    "start_time": "2024-06-18T18:38:26.791Z"
   },
   {
    "duration": 1615,
    "start_time": "2024-06-18T18:39:36.070Z"
   },
   {
    "duration": 15,
    "start_time": "2024-06-18T18:39:37.690Z"
   },
   {
    "duration": 21,
    "start_time": "2024-06-18T18:39:37.712Z"
   },
   {
    "duration": 4,
    "start_time": "2024-06-18T18:39:37.739Z"
   },
   {
    "duration": 15,
    "start_time": "2024-06-18T18:39:37.746Z"
   },
   {
    "duration": 14,
    "start_time": "2024-06-18T18:39:37.803Z"
   },
   {
    "duration": 4,
    "start_time": "2024-06-18T18:39:37.820Z"
   },
   {
    "duration": 5,
    "start_time": "2024-06-18T18:39:37.828Z"
   },
   {
    "duration": 3,
    "start_time": "2024-06-18T18:39:37.836Z"
   },
   {
    "duration": 59,
    "start_time": "2024-06-18T18:39:37.842Z"
   },
   {
    "duration": 9,
    "start_time": "2024-06-18T18:39:37.905Z"
   },
   {
    "duration": 13,
    "start_time": "2024-06-18T18:39:37.916Z"
   },
   {
    "duration": 3,
    "start_time": "2024-06-18T18:39:37.936Z"
   },
   {
    "duration": 11,
    "start_time": "2024-06-18T18:39:37.943Z"
   },
   {
    "duration": 11,
    "start_time": "2024-06-18T18:39:38.001Z"
   },
   {
    "duration": 11,
    "start_time": "2024-06-18T18:39:38.015Z"
   },
   {
    "duration": 11,
    "start_time": "2024-06-18T18:39:38.029Z"
   },
   {
    "duration": 4995,
    "start_time": "2024-06-18T18:39:38.043Z"
   },
   {
    "duration": 4,
    "start_time": "2024-06-18T18:39:43.042Z"
   },
   {
    "duration": 7,
    "start_time": "2024-06-18T18:39:43.049Z"
   },
   {
    "duration": 15,
    "start_time": "2024-06-18T18:39:43.059Z"
   },
   {
    "duration": 31,
    "start_time": "2024-06-18T18:39:43.077Z"
   },
   {
    "duration": 21,
    "start_time": "2024-06-18T18:39:43.112Z"
   },
   {
    "duration": 20,
    "start_time": "2024-06-18T18:39:43.137Z"
   },
   {
    "duration": 71,
    "start_time": "2024-06-18T18:39:43.160Z"
   },
   {
    "duration": 33,
    "start_time": "2024-06-18T18:39:43.234Z"
   },
   {
    "duration": 37,
    "start_time": "2024-06-18T18:39:43.270Z"
   },
   {
    "duration": 7,
    "start_time": "2024-06-18T18:39:43.310Z"
   },
   {
    "duration": 7,
    "start_time": "2024-06-18T18:39:43.320Z"
   },
   {
    "duration": 7,
    "start_time": "2024-06-18T18:39:43.331Z"
   },
   {
    "duration": 7,
    "start_time": "2024-06-18T18:39:43.341Z"
   },
   {
    "duration": 54,
    "start_time": "2024-06-18T18:39:43.351Z"
   },
   {
    "duration": 11,
    "start_time": "2024-06-18T18:39:43.409Z"
   },
   {
    "duration": 8,
    "start_time": "2024-06-18T18:39:43.423Z"
   },
   {
    "duration": 13,
    "start_time": "2024-06-18T18:39:43.434Z"
   },
   {
    "duration": 2407,
    "start_time": "2024-06-18T18:39:43.450Z"
   },
   {
    "duration": 5,
    "start_time": "2024-06-18T18:39:45.860Z"
   },
   {
    "duration": 17,
    "start_time": "2024-06-18T18:39:45.903Z"
   },
   {
    "duration": 6,
    "start_time": "2024-06-18T18:39:45.926Z"
   },
   {
    "duration": 7,
    "start_time": "2024-06-18T18:39:45.946Z"
   },
   {
    "duration": 13,
    "start_time": "2024-06-18T18:39:45.956Z"
   },
   {
    "duration": 15,
    "start_time": "2024-06-18T18:39:45.972Z"
   },
   {
    "duration": 14,
    "start_time": "2024-06-18T18:39:45.990Z"
   },
   {
    "duration": 5,
    "start_time": "2024-06-18T18:39:46.012Z"
   },
   {
    "duration": 16,
    "start_time": "2024-06-18T18:39:46.021Z"
   },
   {
    "duration": 62,
    "start_time": "2024-06-18T18:39:46.040Z"
   },
   {
    "duration": 11,
    "start_time": "2024-06-18T18:39:46.105Z"
   },
   {
    "duration": 8,
    "start_time": "2024-06-18T18:39:46.121Z"
   },
   {
    "duration": 4,
    "start_time": "2024-06-18T18:39:46.203Z"
   },
   {
    "duration": 7,
    "start_time": "2024-06-18T18:39:46.211Z"
   },
   {
    "duration": 80,
    "start_time": "2024-06-18T18:39:46.221Z"
   },
   {
    "duration": 4,
    "start_time": "2024-06-18T18:39:46.304Z"
   },
   {
    "duration": 5,
    "start_time": "2024-06-18T18:39:46.312Z"
   },
   {
    "duration": 14,
    "start_time": "2024-06-18T18:39:46.320Z"
   },
   {
    "duration": 66,
    "start_time": "2024-06-18T18:39:46.337Z"
   },
   {
    "duration": 24,
    "start_time": "2024-06-18T18:39:46.407Z"
   },
   {
    "duration": 66,
    "start_time": "2024-06-18T18:39:46.436Z"
   },
   {
    "duration": 1561,
    "start_time": "2024-06-18T18:43:05.257Z"
   },
   {
    "duration": 11,
    "start_time": "2024-06-18T18:43:06.822Z"
   },
   {
    "duration": 20,
    "start_time": "2024-06-18T18:43:06.836Z"
   },
   {
    "duration": 5,
    "start_time": "2024-06-18T18:43:06.862Z"
   },
   {
    "duration": 16,
    "start_time": "2024-06-18T18:43:06.902Z"
   },
   {
    "duration": 17,
    "start_time": "2024-06-18T18:43:06.921Z"
   },
   {
    "duration": 3,
    "start_time": "2024-06-18T18:43:06.941Z"
   },
   {
    "duration": 5,
    "start_time": "2024-06-18T18:43:06.948Z"
   },
   {
    "duration": 46,
    "start_time": "2024-06-18T18:43:06.956Z"
   },
   {
    "duration": 14,
    "start_time": "2024-06-18T18:43:07.011Z"
   },
   {
    "duration": 10,
    "start_time": "2024-06-18T18:43:07.028Z"
   },
   {
    "duration": 10,
    "start_time": "2024-06-18T18:43:07.040Z"
   },
   {
    "duration": 3,
    "start_time": "2024-06-18T18:43:07.053Z"
   },
   {
    "duration": 13,
    "start_time": "2024-06-18T18:43:07.101Z"
   },
   {
    "duration": 11,
    "start_time": "2024-06-18T18:43:07.117Z"
   },
   {
    "duration": 11,
    "start_time": "2024-06-18T18:43:07.131Z"
   },
   {
    "duration": 59,
    "start_time": "2024-06-18T18:43:07.145Z"
   },
   {
    "duration": 4984,
    "start_time": "2024-06-18T18:43:07.207Z"
   },
   {
    "duration": 7,
    "start_time": "2024-06-18T18:43:12.195Z"
   },
   {
    "duration": 9,
    "start_time": "2024-06-18T18:43:12.209Z"
   },
   {
    "duration": 17,
    "start_time": "2024-06-18T18:43:12.222Z"
   },
   {
    "duration": 17,
    "start_time": "2024-06-18T18:43:12.242Z"
   },
   {
    "duration": 48,
    "start_time": "2024-06-18T18:43:12.263Z"
   },
   {
    "duration": 21,
    "start_time": "2024-06-18T18:43:12.314Z"
   },
   {
    "duration": 64,
    "start_time": "2024-06-18T18:43:12.338Z"
   },
   {
    "duration": 33,
    "start_time": "2024-06-18T18:43:12.405Z"
   },
   {
    "duration": 9,
    "start_time": "2024-06-18T18:43:12.442Z"
   },
   {
    "duration": 41,
    "start_time": "2024-06-18T18:43:12.461Z"
   },
   {
    "duration": 9,
    "start_time": "2024-06-18T18:43:12.505Z"
   },
   {
    "duration": 7,
    "start_time": "2024-06-18T18:43:12.517Z"
   },
   {
    "duration": 7,
    "start_time": "2024-06-18T18:43:12.529Z"
   },
   {
    "duration": 5,
    "start_time": "2024-06-18T18:43:12.539Z"
   },
   {
    "duration": 55,
    "start_time": "2024-06-18T18:43:12.548Z"
   },
   {
    "duration": 8,
    "start_time": "2024-06-18T18:43:12.606Z"
   },
   {
    "duration": 17,
    "start_time": "2024-06-18T18:43:12.617Z"
   },
   {
    "duration": 2360,
    "start_time": "2024-06-18T18:43:12.641Z"
   },
   {
    "duration": 5,
    "start_time": "2024-06-18T18:43:15.005Z"
   },
   {
    "duration": 18,
    "start_time": "2024-06-18T18:43:15.013Z"
   },
   {
    "duration": 4,
    "start_time": "2024-06-18T18:43:15.034Z"
   },
   {
    "duration": 4,
    "start_time": "2024-06-18T18:43:15.041Z"
   },
   {
    "duration": 4,
    "start_time": "2024-06-18T18:43:15.049Z"
   },
   {
    "duration": 7,
    "start_time": "2024-06-18T18:43:15.102Z"
   },
   {
    "duration": 3,
    "start_time": "2024-06-18T18:43:15.113Z"
   },
   {
    "duration": 6,
    "start_time": "2024-06-18T18:43:15.118Z"
   },
   {
    "duration": 16,
    "start_time": "2024-06-18T18:43:15.128Z"
   },
   {
    "duration": 58,
    "start_time": "2024-06-18T18:43:15.146Z"
   },
   {
    "duration": 7,
    "start_time": "2024-06-18T18:43:15.206Z"
   },
   {
    "duration": 6,
    "start_time": "2024-06-18T18:43:15.216Z"
   },
   {
    "duration": 77,
    "start_time": "2024-06-18T18:43:15.226Z"
   },
   {
    "duration": 4,
    "start_time": "2024-06-18T18:43:15.306Z"
   },
   {
    "duration": 4,
    "start_time": "2024-06-18T18:43:15.313Z"
   },
   {
    "duration": 3,
    "start_time": "2024-06-18T18:43:15.320Z"
   },
   {
    "duration": 76,
    "start_time": "2024-06-18T18:43:15.326Z"
   },
   {
    "duration": 9,
    "start_time": "2024-06-18T18:43:15.405Z"
   },
   {
    "duration": 8,
    "start_time": "2024-06-18T18:43:15.416Z"
   },
   {
    "duration": 473,
    "start_time": "2024-06-18T18:43:15.503Z"
   },
   {
    "duration": 0,
    "start_time": "2024-06-18T18:43:15.979Z"
   },
   {
    "duration": 1622,
    "start_time": "2024-06-18T18:44:01.889Z"
   },
   {
    "duration": 11,
    "start_time": "2024-06-18T18:44:03.514Z"
   },
   {
    "duration": 22,
    "start_time": "2024-06-18T18:44:03.528Z"
   },
   {
    "duration": 7,
    "start_time": "2024-06-18T18:44:03.553Z"
   },
   {
    "duration": 53,
    "start_time": "2024-06-18T18:44:03.563Z"
   },
   {
    "duration": 22,
    "start_time": "2024-06-18T18:44:03.620Z"
   },
   {
    "duration": 4,
    "start_time": "2024-06-18T18:44:03.645Z"
   },
   {
    "duration": 5,
    "start_time": "2024-06-18T18:44:03.656Z"
   },
   {
    "duration": 40,
    "start_time": "2024-06-18T18:44:03.664Z"
   },
   {
    "duration": 15,
    "start_time": "2024-06-18T18:44:03.712Z"
   },
   {
    "duration": 8,
    "start_time": "2024-06-18T18:44:03.731Z"
   },
   {
    "duration": 9,
    "start_time": "2024-06-18T18:44:03.743Z"
   },
   {
    "duration": 46,
    "start_time": "2024-06-18T18:44:03.756Z"
   },
   {
    "duration": 12,
    "start_time": "2024-06-18T18:44:03.807Z"
   },
   {
    "duration": 10,
    "start_time": "2024-06-18T18:44:03.824Z"
   },
   {
    "duration": 11,
    "start_time": "2024-06-18T18:44:03.837Z"
   },
   {
    "duration": 55,
    "start_time": "2024-06-18T18:44:03.851Z"
   },
   {
    "duration": 5001,
    "start_time": "2024-06-18T18:44:03.909Z"
   },
   {
    "duration": 3,
    "start_time": "2024-06-18T18:44:08.914Z"
   },
   {
    "duration": 6,
    "start_time": "2024-06-18T18:44:08.921Z"
   },
   {
    "duration": 15,
    "start_time": "2024-06-18T18:44:08.931Z"
   },
   {
    "duration": 15,
    "start_time": "2024-06-18T18:44:08.948Z"
   },
   {
    "duration": 52,
    "start_time": "2024-06-18T18:44:08.966Z"
   },
   {
    "duration": 18,
    "start_time": "2024-06-18T18:44:09.021Z"
   },
   {
    "duration": 62,
    "start_time": "2024-06-18T18:44:09.042Z"
   },
   {
    "duration": 34,
    "start_time": "2024-06-18T18:44:09.107Z"
   },
   {
    "duration": 13,
    "start_time": "2024-06-18T18:44:09.144Z"
   },
   {
    "duration": 35,
    "start_time": "2024-06-18T18:44:09.167Z"
   },
   {
    "duration": 10,
    "start_time": "2024-06-18T18:44:09.206Z"
   },
   {
    "duration": 7,
    "start_time": "2024-06-18T18:44:09.219Z"
   },
   {
    "duration": 8,
    "start_time": "2024-06-18T18:44:09.231Z"
   },
   {
    "duration": 8,
    "start_time": "2024-06-18T18:44:09.242Z"
   },
   {
    "duration": 57,
    "start_time": "2024-06-18T18:44:09.253Z"
   },
   {
    "duration": 10,
    "start_time": "2024-06-18T18:44:09.313Z"
   },
   {
    "duration": 12,
    "start_time": "2024-06-18T18:44:09.326Z"
   },
   {
    "duration": 2042,
    "start_time": "2024-06-18T18:44:09.341Z"
   },
   {
    "duration": 16,
    "start_time": "2024-06-18T18:44:11.387Z"
   },
   {
    "duration": 19,
    "start_time": "2024-06-18T18:44:11.407Z"
   },
   {
    "duration": 7,
    "start_time": "2024-06-18T18:44:11.429Z"
   },
   {
    "duration": 4,
    "start_time": "2024-06-18T18:44:11.439Z"
   },
   {
    "duration": 4,
    "start_time": "2024-06-18T18:44:11.448Z"
   },
   {
    "duration": 52,
    "start_time": "2024-06-18T18:44:11.456Z"
   },
   {
    "duration": 3,
    "start_time": "2024-06-18T18:44:11.513Z"
   },
   {
    "duration": 6,
    "start_time": "2024-06-18T18:44:11.521Z"
   },
   {
    "duration": 15,
    "start_time": "2024-06-18T18:44:11.530Z"
   },
   {
    "duration": 9,
    "start_time": "2024-06-18T18:44:11.605Z"
   },
   {
    "duration": 84,
    "start_time": "2024-06-18T18:44:11.620Z"
   },
   {
    "duration": 5,
    "start_time": "2024-06-18T18:44:11.707Z"
   },
   {
    "duration": 5,
    "start_time": "2024-06-18T18:44:11.715Z"
   },
   {
    "duration": 76,
    "start_time": "2024-06-18T18:44:11.726Z"
   },
   {
    "duration": 5,
    "start_time": "2024-06-18T18:44:11.805Z"
   },
   {
    "duration": 4,
    "start_time": "2024-06-18T18:44:11.813Z"
   },
   {
    "duration": 4,
    "start_time": "2024-06-18T18:44:11.820Z"
   },
   {
    "duration": 71,
    "start_time": "2024-06-18T18:44:11.830Z"
   },
   {
    "duration": 6,
    "start_time": "2024-06-18T18:44:11.905Z"
   },
   {
    "duration": 88,
    "start_time": "2024-06-18T18:44:11.914Z"
   },
   {
    "duration": 5,
    "start_time": "2024-06-18T18:44:12.005Z"
   },
   {
    "duration": 12,
    "start_time": "2024-06-18T18:47:01.495Z"
   },
   {
    "duration": 13,
    "start_time": "2024-06-18T18:47:08.570Z"
   },
   {
    "duration": 12,
    "start_time": "2024-06-18T18:48:00.290Z"
   },
   {
    "duration": 12,
    "start_time": "2024-06-18T18:49:08.841Z"
   },
   {
    "duration": 14,
    "start_time": "2024-06-18T18:50:04.973Z"
   },
   {
    "duration": 1607,
    "start_time": "2024-06-18T18:50:11.219Z"
   },
   {
    "duration": 11,
    "start_time": "2024-06-18T18:50:12.829Z"
   },
   {
    "duration": 21,
    "start_time": "2024-06-18T18:50:12.843Z"
   },
   {
    "duration": 5,
    "start_time": "2024-06-18T18:50:12.867Z"
   },
   {
    "duration": 14,
    "start_time": "2024-06-18T18:50:12.904Z"
   },
   {
    "duration": 16,
    "start_time": "2024-06-18T18:50:12.921Z"
   },
   {
    "duration": 3,
    "start_time": "2024-06-18T18:50:12.940Z"
   },
   {
    "duration": 5,
    "start_time": "2024-06-18T18:50:12.947Z"
   },
   {
    "duration": 49,
    "start_time": "2024-06-18T18:50:12.955Z"
   },
   {
    "duration": 15,
    "start_time": "2024-06-18T18:50:13.007Z"
   },
   {
    "duration": 8,
    "start_time": "2024-06-18T18:50:13.026Z"
   },
   {
    "duration": 8,
    "start_time": "2024-06-18T18:50:13.038Z"
   },
   {
    "duration": 3,
    "start_time": "2024-06-18T18:50:13.049Z"
   },
   {
    "duration": 14,
    "start_time": "2024-06-18T18:50:13.106Z"
   },
   {
    "duration": 11,
    "start_time": "2024-06-18T18:50:13.123Z"
   },
   {
    "duration": 11,
    "start_time": "2024-06-18T18:50:13.137Z"
   },
   {
    "duration": 53,
    "start_time": "2024-06-18T18:50:13.151Z"
   },
   {
    "duration": 5172,
    "start_time": "2024-06-18T18:50:13.206Z"
   },
   {
    "duration": 3,
    "start_time": "2024-06-18T18:50:18.382Z"
   },
   {
    "duration": 6,
    "start_time": "2024-06-18T18:50:18.389Z"
   },
   {
    "duration": 15,
    "start_time": "2024-06-18T18:50:18.398Z"
   },
   {
    "duration": 14,
    "start_time": "2024-06-18T18:50:18.417Z"
   },
   {
    "duration": 18,
    "start_time": "2024-06-18T18:50:18.434Z"
   },
   {
    "duration": 55,
    "start_time": "2024-06-18T18:50:18.455Z"
   },
   {
    "duration": 33,
    "start_time": "2024-06-18T18:50:18.513Z"
   },
   {
    "duration": 57,
    "start_time": "2024-06-18T18:50:18.549Z"
   },
   {
    "duration": 10,
    "start_time": "2024-06-18T18:50:18.609Z"
   },
   {
    "duration": 6,
    "start_time": "2024-06-18T18:50:18.622Z"
   },
   {
    "duration": 9,
    "start_time": "2024-06-18T18:50:18.631Z"
   },
   {
    "duration": 6,
    "start_time": "2024-06-18T18:50:18.643Z"
   },
   {
    "duration": 53,
    "start_time": "2024-06-18T18:50:18.652Z"
   },
   {
    "duration": 5,
    "start_time": "2024-06-18T18:50:18.708Z"
   },
   {
    "duration": 11,
    "start_time": "2024-06-18T18:50:18.717Z"
   },
   {
    "duration": 8,
    "start_time": "2024-06-18T18:50:18.731Z"
   },
   {
    "duration": 59,
    "start_time": "2024-06-18T18:50:18.742Z"
   },
   {
    "duration": 1994,
    "start_time": "2024-06-18T18:50:18.804Z"
   },
   {
    "duration": 4,
    "start_time": "2024-06-18T18:50:20.804Z"
   },
   {
    "duration": 16,
    "start_time": "2024-06-18T18:50:20.812Z"
   },
   {
    "duration": 3,
    "start_time": "2024-06-18T18:50:20.832Z"
   },
   {
    "duration": 4,
    "start_time": "2024-06-18T18:50:20.838Z"
   },
   {
    "duration": 49,
    "start_time": "2024-06-18T18:50:20.852Z"
   },
   {
    "duration": 7,
    "start_time": "2024-06-18T18:50:20.904Z"
   },
   {
    "duration": 3,
    "start_time": "2024-06-18T18:50:20.914Z"
   },
   {
    "duration": 5,
    "start_time": "2024-06-18T18:50:20.920Z"
   },
   {
    "duration": 74,
    "start_time": "2024-06-18T18:50:20.928Z"
   },
   {
    "duration": 4,
    "start_time": "2024-06-18T18:50:21.005Z"
   },
   {
    "duration": 8,
    "start_time": "2024-06-18T18:50:21.012Z"
   },
   {
    "duration": 79,
    "start_time": "2024-06-18T18:50:21.023Z"
   },
   {
    "duration": 4,
    "start_time": "2024-06-18T18:50:21.105Z"
   },
   {
    "duration": 5,
    "start_time": "2024-06-18T18:50:21.112Z"
   },
   {
    "duration": 4,
    "start_time": "2024-06-18T18:50:21.120Z"
   },
   {
    "duration": 4,
    "start_time": "2024-06-18T18:50:21.202Z"
   },
   {
    "duration": 4,
    "start_time": "2024-06-18T18:50:21.210Z"
   },
   {
    "duration": 7,
    "start_time": "2024-06-18T18:50:21.217Z"
   },
   {
    "duration": 76,
    "start_time": "2024-06-18T18:50:21.226Z"
   },
   {
    "duration": 101,
    "start_time": "2024-06-18T18:50:21.304Z"
   },
   {
    "duration": 6,
    "start_time": "2024-06-18T18:50:21.409Z"
   },
   {
    "duration": 1607,
    "start_time": "2024-06-18T18:51:12.590Z"
   },
   {
    "duration": 10,
    "start_time": "2024-06-18T18:51:14.201Z"
   },
   {
    "duration": 22,
    "start_time": "2024-06-18T18:51:14.214Z"
   },
   {
    "duration": 5,
    "start_time": "2024-06-18T18:51:14.239Z"
   },
   {
    "duration": 14,
    "start_time": "2024-06-18T18:51:14.251Z"
   },
   {
    "duration": 16,
    "start_time": "2024-06-18T18:51:14.303Z"
   },
   {
    "duration": 3,
    "start_time": "2024-06-18T18:51:14.323Z"
   },
   {
    "duration": 6,
    "start_time": "2024-06-18T18:51:14.329Z"
   },
   {
    "duration": 4,
    "start_time": "2024-06-18T18:51:14.338Z"
   },
   {
    "duration": 61,
    "start_time": "2024-06-18T18:51:14.345Z"
   },
   {
    "duration": 10,
    "start_time": "2024-06-18T18:51:14.410Z"
   },
   {
    "duration": 9,
    "start_time": "2024-06-18T18:51:14.422Z"
   },
   {
    "duration": 4,
    "start_time": "2024-06-18T18:51:14.434Z"
   },
   {
    "duration": 59,
    "start_time": "2024-06-18T18:51:14.446Z"
   },
   {
    "duration": 11,
    "start_time": "2024-06-18T18:51:14.508Z"
   },
   {
    "duration": 10,
    "start_time": "2024-06-18T18:51:14.522Z"
   },
   {
    "duration": 11,
    "start_time": "2024-06-18T18:51:14.538Z"
   },
   {
    "duration": 5015,
    "start_time": "2024-06-18T18:51:14.551Z"
   },
   {
    "duration": 4,
    "start_time": "2024-06-18T18:51:19.569Z"
   },
   {
    "duration": 7,
    "start_time": "2024-06-18T18:51:19.576Z"
   },
   {
    "duration": 23,
    "start_time": "2024-06-18T18:51:19.586Z"
   },
   {
    "duration": 15,
    "start_time": "2024-06-18T18:51:19.613Z"
   },
   {
    "duration": 19,
    "start_time": "2024-06-18T18:51:19.632Z"
   },
   {
    "duration": 57,
    "start_time": "2024-06-18T18:51:19.655Z"
   },
   {
    "duration": 34,
    "start_time": "2024-06-18T18:51:19.715Z"
   },
   {
    "duration": 63,
    "start_time": "2024-06-18T18:51:19.752Z"
   },
   {
    "duration": 9,
    "start_time": "2024-06-18T18:51:19.818Z"
   },
   {
    "duration": 6,
    "start_time": "2024-06-18T18:51:19.830Z"
   },
   {
    "duration": 7,
    "start_time": "2024-06-18T18:51:19.840Z"
   },
   {
    "duration": 52,
    "start_time": "2024-06-18T18:51:19.850Z"
   },
   {
    "duration": 8,
    "start_time": "2024-06-18T18:51:19.904Z"
   },
   {
    "duration": 6,
    "start_time": "2024-06-18T18:51:19.914Z"
   },
   {
    "duration": 11,
    "start_time": "2024-06-18T18:51:19.923Z"
   },
   {
    "duration": 8,
    "start_time": "2024-06-18T18:51:19.937Z"
   },
   {
    "duration": 59,
    "start_time": "2024-06-18T18:51:19.948Z"
   },
   {
    "duration": 2072,
    "start_time": "2024-06-18T18:51:20.010Z"
   },
   {
    "duration": 17,
    "start_time": "2024-06-18T18:51:22.086Z"
   },
   {
    "duration": 16,
    "start_time": "2024-06-18T18:51:22.106Z"
   },
   {
    "duration": 4,
    "start_time": "2024-06-18T18:51:22.125Z"
   },
   {
    "duration": 5,
    "start_time": "2024-06-18T18:51:22.132Z"
   },
   {
    "duration": 3,
    "start_time": "2024-06-18T18:51:22.147Z"
   },
   {
    "duration": 49,
    "start_time": "2024-06-18T18:51:22.153Z"
   },
   {
    "duration": 3,
    "start_time": "2024-06-18T18:51:22.206Z"
   },
   {
    "duration": 4,
    "start_time": "2024-06-18T18:51:22.213Z"
   },
   {
    "duration": 14,
    "start_time": "2024-06-18T18:51:22.220Z"
   },
   {
    "duration": 67,
    "start_time": "2024-06-18T18:51:22.237Z"
   },
   {
    "duration": 12,
    "start_time": "2024-06-18T18:51:22.306Z"
   },
   {
    "duration": 5,
    "start_time": "2024-06-18T18:51:22.321Z"
   },
   {
    "duration": 4,
    "start_time": "2024-06-18T18:51:22.406Z"
   },
   {
    "duration": 4,
    "start_time": "2024-06-18T18:51:22.414Z"
   },
   {
    "duration": 80,
    "start_time": "2024-06-18T18:51:22.422Z"
   },
   {
    "duration": 4,
    "start_time": "2024-06-18T18:51:22.505Z"
   },
   {
    "duration": 4,
    "start_time": "2024-06-18T18:51:22.513Z"
   },
   {
    "duration": 76,
    "start_time": "2024-06-18T18:51:22.526Z"
   },
   {
    "duration": 6,
    "start_time": "2024-06-18T18:51:22.605Z"
   },
   {
    "duration": 93,
    "start_time": "2024-06-18T18:51:22.614Z"
   },
   {
    "duration": 4,
    "start_time": "2024-06-18T18:51:22.711Z"
   },
   {
    "duration": 1592,
    "start_time": "2024-06-18T18:53:11.324Z"
   },
   {
    "duration": 12,
    "start_time": "2024-06-18T18:53:12.919Z"
   },
   {
    "duration": 23,
    "start_time": "2024-06-18T18:53:12.934Z"
   },
   {
    "duration": 5,
    "start_time": "2024-06-18T18:53:12.963Z"
   },
   {
    "duration": 15,
    "start_time": "2024-06-18T18:53:13.005Z"
   },
   {
    "duration": 15,
    "start_time": "2024-06-18T18:53:13.023Z"
   },
   {
    "duration": 3,
    "start_time": "2024-06-18T18:53:13.042Z"
   },
   {
    "duration": 5,
    "start_time": "2024-06-18T18:53:13.048Z"
   },
   {
    "duration": 47,
    "start_time": "2024-06-18T18:53:13.056Z"
   },
   {
    "duration": 15,
    "start_time": "2024-06-18T18:53:13.106Z"
   },
   {
    "duration": 9,
    "start_time": "2024-06-18T18:53:13.124Z"
   },
   {
    "duration": 9,
    "start_time": "2024-06-18T18:53:13.135Z"
   },
   {
    "duration": 4,
    "start_time": "2024-06-18T18:53:13.146Z"
   },
   {
    "duration": 10,
    "start_time": "2024-06-18T18:53:13.206Z"
   },
   {
    "duration": 12,
    "start_time": "2024-06-18T18:53:13.219Z"
   },
   {
    "duration": 11,
    "start_time": "2024-06-18T18:53:13.233Z"
   },
   {
    "duration": 55,
    "start_time": "2024-06-18T18:53:13.250Z"
   },
   {
    "duration": 5018,
    "start_time": "2024-06-18T18:53:13.308Z"
   },
   {
    "duration": 4,
    "start_time": "2024-06-18T18:53:18.329Z"
   },
   {
    "duration": 8,
    "start_time": "2024-06-18T18:53:18.336Z"
   },
   {
    "duration": 15,
    "start_time": "2024-06-18T18:53:18.347Z"
   },
   {
    "duration": 39,
    "start_time": "2024-06-18T18:53:18.365Z"
   },
   {
    "duration": 18,
    "start_time": "2024-06-18T18:53:18.408Z"
   },
   {
    "duration": 19,
    "start_time": "2024-06-18T18:53:18.429Z"
   },
   {
    "duration": 70,
    "start_time": "2024-06-18T18:53:18.451Z"
   },
   {
    "duration": 38,
    "start_time": "2024-06-18T18:53:18.525Z"
   },
   {
    "duration": 34,
    "start_time": "2024-06-18T18:53:18.567Z"
   },
   {
    "duration": 7,
    "start_time": "2024-06-18T18:53:18.604Z"
   },
   {
    "duration": 7,
    "start_time": "2024-06-18T18:53:18.615Z"
   },
   {
    "duration": 7,
    "start_time": "2024-06-18T18:53:18.625Z"
   },
   {
    "duration": 8,
    "start_time": "2024-06-18T18:53:18.635Z"
   },
   {
    "duration": 5,
    "start_time": "2024-06-18T18:53:18.646Z"
   },
   {
    "duration": 12,
    "start_time": "2024-06-18T18:53:18.703Z"
   },
   {
    "duration": 9,
    "start_time": "2024-06-18T18:53:18.718Z"
   },
   {
    "duration": 12,
    "start_time": "2024-06-18T18:53:18.730Z"
   },
   {
    "duration": 2164,
    "start_time": "2024-06-18T18:53:18.745Z"
   },
   {
    "duration": 4,
    "start_time": "2024-06-18T18:53:20.913Z"
   },
   {
    "duration": 16,
    "start_time": "2024-06-18T18:53:20.921Z"
   },
   {
    "duration": 4,
    "start_time": "2024-06-18T18:53:20.940Z"
   },
   {
    "duration": 3,
    "start_time": "2024-06-18T18:53:20.947Z"
   },
   {
    "duration": 3,
    "start_time": "2024-06-18T18:53:21.001Z"
   },
   {
    "duration": 7,
    "start_time": "2024-06-18T18:53:21.007Z"
   },
   {
    "duration": 4,
    "start_time": "2024-06-18T18:53:21.017Z"
   },
   {
    "duration": 4,
    "start_time": "2024-06-18T18:53:21.024Z"
   },
   {
    "duration": 72,
    "start_time": "2024-06-18T18:53:21.031Z"
   },
   {
    "duration": 6,
    "start_time": "2024-06-18T18:53:21.106Z"
   },
   {
    "duration": 7,
    "start_time": "2024-06-18T18:53:21.115Z"
   },
   {
    "duration": 79,
    "start_time": "2024-06-18T18:53:21.125Z"
   },
   {
    "duration": 4,
    "start_time": "2024-06-18T18:53:21.210Z"
   },
   {
    "duration": 4,
    "start_time": "2024-06-18T18:53:21.218Z"
   },
   {
    "duration": 78,
    "start_time": "2024-06-18T18:53:21.226Z"
   },
   {
    "duration": 4,
    "start_time": "2024-06-18T18:53:21.307Z"
   },
   {
    "duration": 8,
    "start_time": "2024-06-18T18:53:21.314Z"
   },
   {
    "duration": 75,
    "start_time": "2024-06-18T18:53:21.329Z"
   },
   {
    "duration": 6,
    "start_time": "2024-06-18T18:53:21.406Z"
   },
   {
    "duration": 5,
    "start_time": "2024-06-18T18:53:21.415Z"
   },
   {
    "duration": 85,
    "start_time": "2024-06-18T18:53:21.423Z"
   },
   {
    "duration": 5,
    "start_time": "2024-06-18T18:53:21.511Z"
   },
   {
    "duration": 1634,
    "start_time": "2024-06-18T18:53:42.121Z"
   },
   {
    "duration": 10,
    "start_time": "2024-06-18T18:53:43.759Z"
   },
   {
    "duration": 40,
    "start_time": "2024-06-18T18:53:43.773Z"
   },
   {
    "duration": 5,
    "start_time": "2024-06-18T18:53:43.818Z"
   },
   {
    "duration": 14,
    "start_time": "2024-06-18T18:53:43.828Z"
   },
   {
    "duration": 58,
    "start_time": "2024-06-18T18:53:43.846Z"
   },
   {
    "duration": 4,
    "start_time": "2024-06-18T18:53:43.908Z"
   },
   {
    "duration": 4,
    "start_time": "2024-06-18T18:53:43.916Z"
   },
   {
    "duration": 3,
    "start_time": "2024-06-18T18:53:43.924Z"
   },
   {
    "duration": 14,
    "start_time": "2024-06-18T18:53:43.935Z"
   },
   {
    "duration": 55,
    "start_time": "2024-06-18T18:53:43.952Z"
   },
   {
    "duration": 8,
    "start_time": "2024-06-18T18:53:44.010Z"
   },
   {
    "duration": 3,
    "start_time": "2024-06-18T18:53:44.021Z"
   },
   {
    "duration": 10,
    "start_time": "2024-06-18T18:53:44.028Z"
   },
   {
    "duration": 12,
    "start_time": "2024-06-18T18:53:44.041Z"
   },
   {
    "duration": 12,
    "start_time": "2024-06-18T18:53:44.103Z"
   },
   {
    "duration": 11,
    "start_time": "2024-06-18T18:53:44.117Z"
   },
   {
    "duration": 5031,
    "start_time": "2024-06-18T18:53:44.131Z"
   },
   {
    "duration": 4,
    "start_time": "2024-06-18T18:53:49.165Z"
   },
   {
    "duration": 8,
    "start_time": "2024-06-18T18:53:49.171Z"
   },
   {
    "duration": 22,
    "start_time": "2024-06-18T18:53:49.182Z"
   },
   {
    "duration": 15,
    "start_time": "2024-06-18T18:53:49.207Z"
   },
   {
    "duration": 22,
    "start_time": "2024-06-18T18:53:49.224Z"
   },
   {
    "duration": 57,
    "start_time": "2024-06-18T18:53:49.249Z"
   },
   {
    "duration": 35,
    "start_time": "2024-06-18T18:53:49.309Z"
   },
   {
    "duration": 61,
    "start_time": "2024-06-18T18:53:49.347Z"
   },
   {
    "duration": 10,
    "start_time": "2024-06-18T18:53:49.411Z"
   },
   {
    "duration": 8,
    "start_time": "2024-06-18T18:53:49.432Z"
   },
   {
    "duration": 12,
    "start_time": "2024-06-18T18:53:49.444Z"
   },
   {
    "duration": 41,
    "start_time": "2024-06-18T18:53:49.461Z"
   },
   {
    "duration": 7,
    "start_time": "2024-06-18T18:53:49.506Z"
   },
   {
    "duration": 5,
    "start_time": "2024-06-18T18:53:49.516Z"
   },
   {
    "duration": 12,
    "start_time": "2024-06-18T18:53:49.524Z"
   },
   {
    "duration": 8,
    "start_time": "2024-06-18T18:53:49.539Z"
   },
   {
    "duration": 61,
    "start_time": "2024-06-18T18:53:49.550Z"
   },
   {
    "duration": 2290,
    "start_time": "2024-06-18T18:53:49.614Z"
   },
   {
    "duration": 4,
    "start_time": "2024-06-18T18:53:51.908Z"
   },
   {
    "duration": 16,
    "start_time": "2024-06-18T18:53:51.916Z"
   },
   {
    "duration": 4,
    "start_time": "2024-06-18T18:53:51.935Z"
   },
   {
    "duration": 4,
    "start_time": "2024-06-18T18:53:51.941Z"
   },
   {
    "duration": 4,
    "start_time": "2024-06-18T18:53:51.949Z"
   },
   {
    "duration": 6,
    "start_time": "2024-06-18T18:53:52.001Z"
   },
   {
    "duration": 4,
    "start_time": "2024-06-18T18:53:52.010Z"
   },
   {
    "duration": 7,
    "start_time": "2024-06-18T18:53:52.016Z"
   },
   {
    "duration": 16,
    "start_time": "2024-06-18T18:53:52.026Z"
   },
   {
    "duration": 6,
    "start_time": "2024-06-18T18:53:52.103Z"
   },
   {
    "duration": 7,
    "start_time": "2024-06-18T18:53:52.113Z"
   },
   {
    "duration": 79,
    "start_time": "2024-06-18T18:53:52.123Z"
   },
   {
    "duration": 6,
    "start_time": "2024-06-18T18:53:52.207Z"
   },
   {
    "duration": 86,
    "start_time": "2024-06-18T18:53:52.216Z"
   },
   {
    "duration": 4,
    "start_time": "2024-06-18T18:53:52.305Z"
   },
   {
    "duration": 4,
    "start_time": "2024-06-18T18:53:52.313Z"
   },
   {
    "duration": 4,
    "start_time": "2024-06-18T18:53:52.320Z"
   },
   {
    "duration": 7,
    "start_time": "2024-06-18T18:53:52.326Z"
   },
   {
    "duration": 5,
    "start_time": "2024-06-18T18:53:52.403Z"
   },
   {
    "duration": 11,
    "start_time": "2024-06-18T18:53:52.411Z"
   },
   {
    "duration": 11,
    "start_time": "2024-06-18T18:53:52.502Z"
   },
   {
    "duration": 6,
    "start_time": "2024-06-18T18:53:52.516Z"
   },
   {
    "duration": 6,
    "start_time": "2024-06-18T18:53:52.525Z"
   },
   {
    "duration": 5,
    "start_time": "2024-06-18T18:54:11.513Z"
   },
   {
    "duration": 576,
    "start_time": "2024-06-18T19:15:19.800Z"
   },
   {
    "duration": 171,
    "start_time": "2024-06-18T19:15:41.335Z"
   },
   {
    "duration": 8,
    "start_time": "2024-06-18T19:49:03.758Z"
   },
   {
    "duration": 12,
    "start_time": "2024-06-19T15:15:42.145Z"
   },
   {
    "duration": 325,
    "start_time": "2024-06-19T15:16:19.483Z"
   },
   {
    "duration": 5423,
    "start_time": "2024-06-19T15:16:29.003Z"
   },
   {
    "duration": 37,
    "start_time": "2024-06-19T15:16:34.430Z"
   },
   {
    "duration": 23,
    "start_time": "2024-06-19T15:16:34.470Z"
   },
   {
    "duration": 5,
    "start_time": "2024-06-19T15:16:34.497Z"
   },
   {
    "duration": 23,
    "start_time": "2024-06-19T15:16:34.506Z"
   },
   {
    "duration": 16,
    "start_time": "2024-06-19T15:16:34.532Z"
   },
   {
    "duration": 4,
    "start_time": "2024-06-19T15:16:34.550Z"
   },
   {
    "duration": 6,
    "start_time": "2024-06-19T15:16:34.556Z"
   },
   {
    "duration": 3,
    "start_time": "2024-06-19T15:16:34.565Z"
   },
   {
    "duration": 59,
    "start_time": "2024-06-19T15:16:34.575Z"
   },
   {
    "duration": 9,
    "start_time": "2024-06-19T15:16:34.637Z"
   },
   {
    "duration": 8,
    "start_time": "2024-06-19T15:16:34.649Z"
   },
   {
    "duration": 4,
    "start_time": "2024-06-19T15:16:34.660Z"
   },
   {
    "duration": 59,
    "start_time": "2024-06-19T15:16:34.666Z"
   },
   {
    "duration": 11,
    "start_time": "2024-06-19T15:16:34.728Z"
   },
   {
    "duration": 11,
    "start_time": "2024-06-19T15:16:34.741Z"
   },
   {
    "duration": 11,
    "start_time": "2024-06-19T15:16:34.755Z"
   },
   {
    "duration": 55,
    "start_time": "2024-06-19T15:16:34.769Z"
   },
   {
    "duration": 5151,
    "start_time": "2024-06-19T15:16:34.828Z"
   },
   {
    "duration": 4,
    "start_time": "2024-06-19T15:16:39.983Z"
   },
   {
    "duration": 7,
    "start_time": "2024-06-19T15:16:39.990Z"
   },
   {
    "duration": 32,
    "start_time": "2024-06-19T15:16:40.000Z"
   },
   {
    "duration": 14,
    "start_time": "2024-06-19T15:16:40.035Z"
   },
   {
    "duration": 18,
    "start_time": "2024-06-19T15:16:40.053Z"
   },
   {
    "duration": 54,
    "start_time": "2024-06-19T15:16:40.074Z"
   },
   {
    "duration": 35,
    "start_time": "2024-06-19T15:16:40.132Z"
   },
   {
    "duration": 56,
    "start_time": "2024-06-19T15:16:40.170Z"
   },
   {
    "duration": 10,
    "start_time": "2024-06-19T15:16:40.237Z"
   },
   {
    "duration": 6,
    "start_time": "2024-06-19T15:16:40.251Z"
   },
   {
    "duration": 7,
    "start_time": "2024-06-19T15:16:40.260Z"
   },
   {
    "duration": 7,
    "start_time": "2024-06-19T15:16:40.271Z"
   },
   {
    "duration": 47,
    "start_time": "2024-06-19T15:16:40.281Z"
   },
   {
    "duration": 5,
    "start_time": "2024-06-19T15:16:40.332Z"
   },
   {
    "duration": 12,
    "start_time": "2024-06-19T15:16:40.340Z"
   },
   {
    "duration": 8,
    "start_time": "2024-06-19T15:16:40.355Z"
   },
   {
    "duration": 61,
    "start_time": "2024-06-19T15:16:40.366Z"
   },
   {
    "duration": 2131,
    "start_time": "2024-06-19T15:16:40.431Z"
   },
   {
    "duration": 5,
    "start_time": "2024-06-19T15:16:42.566Z"
   },
   {
    "duration": 64,
    "start_time": "2024-06-19T15:16:42.574Z"
   },
   {
    "duration": 5,
    "start_time": "2024-06-19T15:16:42.641Z"
   },
   {
    "duration": 4,
    "start_time": "2024-06-19T15:16:42.649Z"
   },
   {
    "duration": 4,
    "start_time": "2024-06-19T15:16:42.657Z"
   },
   {
    "duration": 7,
    "start_time": "2024-06-19T15:16:42.665Z"
   },
   {
    "duration": 49,
    "start_time": "2024-06-19T15:16:42.677Z"
   },
   {
    "duration": 5,
    "start_time": "2024-06-19T15:16:42.730Z"
   },
   {
    "duration": 17,
    "start_time": "2024-06-19T15:16:42.738Z"
   },
   {
    "duration": 6,
    "start_time": "2024-06-19T15:16:42.827Z"
   },
   {
    "duration": 82,
    "start_time": "2024-06-19T15:16:42.840Z"
   },
   {
    "duration": 5,
    "start_time": "2024-06-19T15:16:42.925Z"
   },
   {
    "duration": 4,
    "start_time": "2024-06-19T15:16:42.933Z"
   },
   {
    "duration": 6,
    "start_time": "2024-06-19T15:16:42.940Z"
   },
   {
    "duration": 7,
    "start_time": "2024-06-19T15:16:43.024Z"
   },
   {
    "duration": 6,
    "start_time": "2024-06-19T15:16:43.036Z"
   },
   {
    "duration": 10,
    "start_time": "2024-06-19T15:16:43.046Z"
   },
   {
    "duration": 64,
    "start_time": "2024-06-19T15:16:43.060Z"
   },
   {
    "duration": 12,
    "start_time": "2024-06-19T15:16:43.127Z"
   },
   {
    "duration": 77,
    "start_time": "2024-06-19T15:16:43.146Z"
   },
   {
    "duration": 12,
    "start_time": "2024-06-19T15:16:43.226Z"
   },
   {
    "duration": 5,
    "start_time": "2024-06-19T15:16:43.240Z"
   },
   {
    "duration": 74,
    "start_time": "2024-06-19T15:16:43.248Z"
   },
   {
    "duration": 309,
    "start_time": "2024-06-19T16:58:40.711Z"
   },
   {
    "duration": 5483,
    "start_time": "2024-06-19T16:58:54.795Z"
   },
   {
    "duration": 22,
    "start_time": "2024-06-19T16:59:00.281Z"
   },
   {
    "duration": 27,
    "start_time": "2024-06-19T16:59:00.309Z"
   },
   {
    "duration": 6,
    "start_time": "2024-06-19T16:59:00.340Z"
   },
   {
    "duration": 17,
    "start_time": "2024-06-19T16:59:00.349Z"
   },
   {
    "duration": 46,
    "start_time": "2024-06-19T16:59:00.370Z"
   },
   {
    "duration": 4,
    "start_time": "2024-06-19T16:59:00.420Z"
   },
   {
    "duration": 5,
    "start_time": "2024-06-19T16:59:00.428Z"
   },
   {
    "duration": 3,
    "start_time": "2024-06-19T16:59:00.436Z"
   },
   {
    "duration": 62,
    "start_time": "2024-06-19T16:59:00.446Z"
   },
   {
    "duration": 10,
    "start_time": "2024-06-19T16:59:00.511Z"
   },
   {
    "duration": 8,
    "start_time": "2024-06-19T16:59:00.524Z"
   },
   {
    "duration": 4,
    "start_time": "2024-06-19T16:59:00.535Z"
   },
   {
    "duration": 59,
    "start_time": "2024-06-19T16:59:00.542Z"
   },
   {
    "duration": 11,
    "start_time": "2024-06-19T16:59:00.604Z"
   },
   {
    "duration": 11,
    "start_time": "2024-06-19T16:59:00.619Z"
   },
   {
    "duration": 16,
    "start_time": "2024-06-19T16:59:00.633Z"
   },
   {
    "duration": 8,
    "start_time": "2024-06-19T16:59:00.651Z"
   },
   {
    "duration": 5023,
    "start_time": "2024-06-19T16:59:00.703Z"
   },
   {
    "duration": 4,
    "start_time": "2024-06-19T16:59:05.730Z"
   },
   {
    "duration": 7,
    "start_time": "2024-06-19T16:59:05.737Z"
   },
   {
    "duration": 465,
    "start_time": "2024-06-19T16:59:05.747Z"
   },
   {
    "duration": 0,
    "start_time": "2024-06-19T16:59:06.218Z"
   },
   {
    "duration": 0,
    "start_time": "2024-06-19T16:59:06.219Z"
   },
   {
    "duration": 0,
    "start_time": "2024-06-19T16:59:06.222Z"
   },
   {
    "duration": 0,
    "start_time": "2024-06-19T16:59:06.224Z"
   },
   {
    "duration": 0,
    "start_time": "2024-06-19T16:59:06.226Z"
   },
   {
    "duration": 0,
    "start_time": "2024-06-19T16:59:06.230Z"
   },
   {
    "duration": 0,
    "start_time": "2024-06-19T16:59:06.232Z"
   },
   {
    "duration": 0,
    "start_time": "2024-06-19T16:59:06.233Z"
   },
   {
    "duration": 0,
    "start_time": "2024-06-19T16:59:06.235Z"
   },
   {
    "duration": 0,
    "start_time": "2024-06-19T16:59:06.238Z"
   },
   {
    "duration": 0,
    "start_time": "2024-06-19T16:59:06.241Z"
   },
   {
    "duration": 0,
    "start_time": "2024-06-19T16:59:06.243Z"
   },
   {
    "duration": 0,
    "start_time": "2024-06-19T16:59:06.244Z"
   },
   {
    "duration": 0,
    "start_time": "2024-06-19T16:59:06.246Z"
   },
   {
    "duration": 0,
    "start_time": "2024-06-19T16:59:06.248Z"
   },
   {
    "duration": 0,
    "start_time": "2024-06-19T16:59:06.250Z"
   },
   {
    "duration": 0,
    "start_time": "2024-06-19T16:59:06.303Z"
   },
   {
    "duration": 0,
    "start_time": "2024-06-19T16:59:06.305Z"
   },
   {
    "duration": 0,
    "start_time": "2024-06-19T16:59:06.307Z"
   },
   {
    "duration": 0,
    "start_time": "2024-06-19T16:59:06.311Z"
   },
   {
    "duration": 0,
    "start_time": "2024-06-19T16:59:06.313Z"
   },
   {
    "duration": 0,
    "start_time": "2024-06-19T16:59:06.315Z"
   },
   {
    "duration": 0,
    "start_time": "2024-06-19T16:59:06.318Z"
   },
   {
    "duration": 0,
    "start_time": "2024-06-19T16:59:06.320Z"
   },
   {
    "duration": 0,
    "start_time": "2024-06-19T16:59:06.323Z"
   },
   {
    "duration": 0,
    "start_time": "2024-06-19T16:59:06.326Z"
   },
   {
    "duration": 0,
    "start_time": "2024-06-19T16:59:06.328Z"
   },
   {
    "duration": 0,
    "start_time": "2024-06-19T16:59:06.330Z"
   },
   {
    "duration": 0,
    "start_time": "2024-06-19T16:59:06.333Z"
   },
   {
    "duration": 0,
    "start_time": "2024-06-19T16:59:06.335Z"
   },
   {
    "duration": 0,
    "start_time": "2024-06-19T16:59:06.337Z"
   },
   {
    "duration": 0,
    "start_time": "2024-06-19T16:59:06.339Z"
   },
   {
    "duration": 0,
    "start_time": "2024-06-19T16:59:06.341Z"
   },
   {
    "duration": 0,
    "start_time": "2024-06-19T16:59:06.343Z"
   },
   {
    "duration": 0,
    "start_time": "2024-06-19T16:59:06.402Z"
   },
   {
    "duration": 0,
    "start_time": "2024-06-19T16:59:06.405Z"
   },
   {
    "duration": 0,
    "start_time": "2024-06-19T16:59:06.407Z"
   },
   {
    "duration": 0,
    "start_time": "2024-06-19T16:59:06.408Z"
   },
   {
    "duration": 0,
    "start_time": "2024-06-19T16:59:06.410Z"
   },
   {
    "duration": 0,
    "start_time": "2024-06-19T16:59:06.415Z"
   },
   {
    "duration": 23,
    "start_time": "2024-06-19T16:59:41.463Z"
   },
   {
    "duration": 23,
    "start_time": "2024-06-19T17:00:34.918Z"
   },
   {
    "duration": 23,
    "start_time": "2024-06-19T17:02:42.545Z"
   },
   {
    "duration": 7,
    "start_time": "2024-06-19T17:02:43.653Z"
   },
   {
    "duration": 27,
    "start_time": "2024-06-19T17:02:44.202Z"
   },
   {
    "duration": 1631,
    "start_time": "2024-06-19T17:03:09.287Z"
   },
   {
    "duration": 10,
    "start_time": "2024-06-19T17:03:10.922Z"
   },
   {
    "duration": 22,
    "start_time": "2024-06-19T17:03:10.936Z"
   },
   {
    "duration": 6,
    "start_time": "2024-06-19T17:03:10.961Z"
   },
   {
    "duration": 14,
    "start_time": "2024-06-19T17:03:11.001Z"
   },
   {
    "duration": 15,
    "start_time": "2024-06-19T17:03:11.018Z"
   },
   {
    "duration": 3,
    "start_time": "2024-06-19T17:03:11.036Z"
   },
   {
    "duration": 5,
    "start_time": "2024-06-19T17:03:11.043Z"
   },
   {
    "duration": 4,
    "start_time": "2024-06-19T17:03:11.051Z"
   },
   {
    "duration": 16,
    "start_time": "2024-06-19T17:03:11.102Z"
   },
   {
    "duration": 9,
    "start_time": "2024-06-19T17:03:11.120Z"
   },
   {
    "duration": 8,
    "start_time": "2024-06-19T17:03:11.132Z"
   },
   {
    "duration": 3,
    "start_time": "2024-06-19T17:03:11.143Z"
   },
   {
    "duration": 10,
    "start_time": "2024-06-19T17:03:11.204Z"
   },
   {
    "duration": 11,
    "start_time": "2024-06-19T17:03:11.218Z"
   },
   {
    "duration": 11,
    "start_time": "2024-06-19T17:03:11.232Z"
   },
   {
    "duration": 57,
    "start_time": "2024-06-19T17:03:11.246Z"
   },
   {
    "duration": 8,
    "start_time": "2024-06-19T17:03:11.306Z"
   },
   {
    "duration": 4945,
    "start_time": "2024-06-19T17:03:11.317Z"
   },
   {
    "duration": 4,
    "start_time": "2024-06-19T17:03:16.265Z"
   },
   {
    "duration": 6,
    "start_time": "2024-06-19T17:03:16.273Z"
   },
   {
    "duration": 31,
    "start_time": "2024-06-19T17:03:16.283Z"
   },
   {
    "duration": 13,
    "start_time": "2024-06-19T17:03:16.317Z"
   },
   {
    "duration": 19,
    "start_time": "2024-06-19T17:03:16.333Z"
   },
   {
    "duration": 56,
    "start_time": "2024-06-19T17:03:16.355Z"
   },
   {
    "duration": 34,
    "start_time": "2024-06-19T17:03:16.414Z"
   },
   {
    "duration": 54,
    "start_time": "2024-06-19T17:03:16.451Z"
   },
   {
    "duration": 10,
    "start_time": "2024-06-19T17:03:16.509Z"
   },
   {
    "duration": 6,
    "start_time": "2024-06-19T17:03:16.522Z"
   },
   {
    "duration": 8,
    "start_time": "2024-06-19T17:03:16.531Z"
   },
   {
    "duration": 7,
    "start_time": "2024-06-19T17:03:16.542Z"
   },
   {
    "duration": 54,
    "start_time": "2024-06-19T17:03:16.552Z"
   },
   {
    "duration": 7,
    "start_time": "2024-06-19T17:03:16.608Z"
   },
   {
    "duration": 13,
    "start_time": "2024-06-19T17:03:16.618Z"
   },
   {
    "duration": 12,
    "start_time": "2024-06-19T17:03:16.634Z"
   },
   {
    "duration": 55,
    "start_time": "2024-06-19T17:03:16.648Z"
   },
   {
    "duration": 2115,
    "start_time": "2024-06-19T17:03:16.709Z"
   },
   {
    "duration": 5,
    "start_time": "2024-06-19T17:03:18.827Z"
   },
   {
    "duration": 17,
    "start_time": "2024-06-19T17:03:18.836Z"
   },
   {
    "duration": 46,
    "start_time": "2024-06-19T17:03:18.856Z"
   },
   {
    "duration": 3,
    "start_time": "2024-06-19T17:03:18.913Z"
   },
   {
    "duration": 4,
    "start_time": "2024-06-19T17:03:18.920Z"
   },
   {
    "duration": 6,
    "start_time": "2024-06-19T17:03:18.928Z"
   },
   {
    "duration": 4,
    "start_time": "2024-06-19T17:03:18.937Z"
   },
   {
    "duration": 5,
    "start_time": "2024-06-19T17:03:18.944Z"
   },
   {
    "duration": 12,
    "start_time": "2024-06-19T17:03:19.002Z"
   },
   {
    "duration": 6,
    "start_time": "2024-06-19T17:03:19.016Z"
   },
   {
    "duration": 78,
    "start_time": "2024-06-19T17:03:19.024Z"
   },
   {
    "duration": 7,
    "start_time": "2024-06-19T17:03:19.105Z"
   },
   {
    "duration": 3,
    "start_time": "2024-06-19T17:03:19.115Z"
   },
   {
    "duration": 5,
    "start_time": "2024-06-19T17:03:19.121Z"
   },
   {
    "duration": 4,
    "start_time": "2024-06-19T17:03:19.203Z"
   },
   {
    "duration": 4,
    "start_time": "2024-06-19T17:03:19.210Z"
   },
   {
    "duration": 8,
    "start_time": "2024-06-19T17:03:19.217Z"
   },
   {
    "duration": 6,
    "start_time": "2024-06-19T17:03:19.302Z"
   },
   {
    "duration": 5,
    "start_time": "2024-06-19T17:03:19.310Z"
   },
   {
    "duration": 5,
    "start_time": "2024-06-19T17:03:19.318Z"
   },
   {
    "duration": 86,
    "start_time": "2024-06-19T17:03:19.326Z"
   },
   {
    "duration": 6,
    "start_time": "2024-06-19T17:03:19.416Z"
   },
   {
    "duration": 6,
    "start_time": "2024-06-19T17:03:19.425Z"
   },
   {
    "duration": 5,
    "start_time": "2024-06-19T17:06:54.908Z"
   },
   {
    "duration": 7,
    "start_time": "2024-06-19T17:06:55.502Z"
   },
   {
    "duration": 14,
    "start_time": "2024-06-19T17:06:57.106Z"
   },
   {
    "duration": 17,
    "start_time": "2024-06-19T17:06:57.937Z"
   },
   {
    "duration": 1567,
    "start_time": "2024-06-19T17:07:08.859Z"
   },
   {
    "duration": 10,
    "start_time": "2024-06-19T17:07:10.430Z"
   },
   {
    "duration": 23,
    "start_time": "2024-06-19T17:07:10.443Z"
   },
   {
    "duration": 31,
    "start_time": "2024-06-19T17:07:10.471Z"
   },
   {
    "duration": 14,
    "start_time": "2024-06-19T17:07:10.505Z"
   },
   {
    "duration": 15,
    "start_time": "2024-06-19T17:07:10.522Z"
   },
   {
    "duration": 3,
    "start_time": "2024-06-19T17:07:10.541Z"
   },
   {
    "duration": 6,
    "start_time": "2024-06-19T17:07:10.547Z"
   },
   {
    "duration": 3,
    "start_time": "2024-06-19T17:07:10.601Z"
   },
   {
    "duration": 14,
    "start_time": "2024-06-19T17:07:10.610Z"
   },
   {
    "duration": 9,
    "start_time": "2024-06-19T17:07:10.627Z"
   },
   {
    "duration": 8,
    "start_time": "2024-06-19T17:07:10.639Z"
   },
   {
    "duration": 4,
    "start_time": "2024-06-19T17:07:10.649Z"
   },
   {
    "duration": 12,
    "start_time": "2024-06-19T17:07:10.703Z"
   },
   {
    "duration": 11,
    "start_time": "2024-06-19T17:07:10.718Z"
   },
   {
    "duration": 11,
    "start_time": "2024-06-19T17:07:10.732Z"
   },
   {
    "duration": 10,
    "start_time": "2024-06-19T17:07:10.748Z"
   },
   {
    "duration": 8,
    "start_time": "2024-06-19T17:07:10.801Z"
   },
   {
    "duration": 4969,
    "start_time": "2024-06-19T17:07:10.813Z"
   },
   {
    "duration": 5,
    "start_time": "2024-06-19T17:07:15.785Z"
   },
   {
    "duration": 7,
    "start_time": "2024-06-19T17:07:15.794Z"
   },
   {
    "duration": 15,
    "start_time": "2024-06-19T17:07:15.806Z"
   },
   {
    "duration": 15,
    "start_time": "2024-06-19T17:07:15.823Z"
   },
   {
    "duration": 18,
    "start_time": "2024-06-19T17:07:15.841Z"
   },
   {
    "duration": 55,
    "start_time": "2024-06-19T17:07:15.862Z"
   },
   {
    "duration": 39,
    "start_time": "2024-06-19T17:07:15.920Z"
   },
   {
    "duration": 59,
    "start_time": "2024-06-19T17:07:15.962Z"
   },
   {
    "duration": 9,
    "start_time": "2024-06-19T17:07:16.030Z"
   },
   {
    "duration": 6,
    "start_time": "2024-06-19T17:07:16.042Z"
   },
   {
    "duration": 8,
    "start_time": "2024-06-19T17:07:16.050Z"
   },
   {
    "duration": 8,
    "start_time": "2024-06-19T17:07:16.101Z"
   },
   {
    "duration": 10,
    "start_time": "2024-06-19T17:07:16.113Z"
   },
   {
    "duration": 5,
    "start_time": "2024-06-19T17:07:16.126Z"
   },
   {
    "duration": 12,
    "start_time": "2024-06-19T17:07:16.134Z"
   },
   {
    "duration": 53,
    "start_time": "2024-06-19T17:07:16.149Z"
   },
   {
    "duration": 16,
    "start_time": "2024-06-19T17:07:16.206Z"
   },
   {
    "duration": 2122,
    "start_time": "2024-06-19T17:07:16.225Z"
   },
   {
    "duration": 6,
    "start_time": "2024-06-19T17:07:18.351Z"
   },
   {
    "duration": 41,
    "start_time": "2024-06-19T17:07:18.360Z"
   },
   {
    "duration": 3,
    "start_time": "2024-06-19T17:07:18.405Z"
   },
   {
    "duration": 3,
    "start_time": "2024-06-19T17:07:18.412Z"
   },
   {
    "duration": 3,
    "start_time": "2024-06-19T17:07:18.419Z"
   },
   {
    "duration": 7,
    "start_time": "2024-06-19T17:07:18.425Z"
   },
   {
    "duration": 4,
    "start_time": "2024-06-19T17:07:18.435Z"
   },
   {
    "duration": 7,
    "start_time": "2024-06-19T17:07:18.442Z"
   },
   {
    "duration": 13,
    "start_time": "2024-06-19T17:07:18.501Z"
   },
   {
    "duration": 9,
    "start_time": "2024-06-19T17:07:18.516Z"
   },
   {
    "duration": 80,
    "start_time": "2024-06-19T17:07:18.528Z"
   },
   {
    "duration": 6,
    "start_time": "2024-06-19T17:07:18.610Z"
   },
   {
    "duration": 4,
    "start_time": "2024-06-19T17:07:18.619Z"
   },
   {
    "duration": 79,
    "start_time": "2024-06-19T17:07:18.625Z"
   },
   {
    "duration": 4,
    "start_time": "2024-06-19T17:07:18.707Z"
   },
   {
    "duration": 5,
    "start_time": "2024-06-19T17:07:18.715Z"
   },
   {
    "duration": 78,
    "start_time": "2024-06-19T17:07:18.724Z"
   },
   {
    "duration": 6,
    "start_time": "2024-06-19T17:07:18.805Z"
   },
   {
    "duration": 6,
    "start_time": "2024-06-19T17:07:18.815Z"
   },
   {
    "duration": 5,
    "start_time": "2024-06-19T17:07:18.824Z"
   },
   {
    "duration": 77,
    "start_time": "2024-06-19T17:07:18.835Z"
   },
   {
    "duration": 11,
    "start_time": "2024-06-19T17:07:18.915Z"
   },
   {
    "duration": 6,
    "start_time": "2024-06-19T17:07:18.929Z"
   },
   {
    "duration": 427,
    "start_time": "2024-06-19T17:07:37.044Z"
   },
   {
    "duration": 24,
    "start_time": "2024-06-19T17:08:37.453Z"
   },
   {
    "duration": 19,
    "start_time": "2024-06-19T17:08:55.417Z"
   },
   {
    "duration": 20,
    "start_time": "2024-06-19T17:09:26.106Z"
   },
   {
    "duration": 3,
    "start_time": "2024-06-19T17:09:40.728Z"
   },
   {
    "duration": 7,
    "start_time": "2024-06-19T17:09:41.204Z"
   },
   {
    "duration": 19,
    "start_time": "2024-06-19T17:09:41.716Z"
   },
   {
    "duration": 5,
    "start_time": "2024-06-19T18:35:36.640Z"
   },
   {
    "duration": 6,
    "start_time": "2024-06-19T18:35:58.543Z"
   },
   {
    "duration": 1647,
    "start_time": "2024-06-19T18:39:56.005Z"
   },
   {
    "duration": 12,
    "start_time": "2024-06-19T18:39:57.655Z"
   },
   {
    "duration": 41,
    "start_time": "2024-06-19T18:39:57.670Z"
   },
   {
    "duration": 5,
    "start_time": "2024-06-19T18:39:57.715Z"
   },
   {
    "duration": 15,
    "start_time": "2024-06-19T18:39:57.722Z"
   },
   {
    "duration": 16,
    "start_time": "2024-06-19T18:39:57.741Z"
   },
   {
    "duration": 3,
    "start_time": "2024-06-19T18:39:57.760Z"
   },
   {
    "duration": 5,
    "start_time": "2024-06-19T18:39:57.803Z"
   },
   {
    "duration": 4,
    "start_time": "2024-06-19T18:39:57.811Z"
   },
   {
    "duration": 15,
    "start_time": "2024-06-19T18:39:57.821Z"
   },
   {
    "duration": 9,
    "start_time": "2024-06-19T18:39:57.839Z"
   },
   {
    "duration": 57,
    "start_time": "2024-06-19T18:39:57.851Z"
   },
   {
    "duration": 3,
    "start_time": "2024-06-19T18:39:57.912Z"
   },
   {
    "duration": 11,
    "start_time": "2024-06-19T18:39:57.919Z"
   },
   {
    "duration": 11,
    "start_time": "2024-06-19T18:39:57.933Z"
   },
   {
    "duration": 55,
    "start_time": "2024-06-19T18:39:57.947Z"
   },
   {
    "duration": 11,
    "start_time": "2024-06-19T18:39:58.005Z"
   },
   {
    "duration": 8,
    "start_time": "2024-06-19T18:39:58.019Z"
   },
   {
    "duration": 5049,
    "start_time": "2024-06-19T18:39:58.029Z"
   },
   {
    "duration": 4,
    "start_time": "2024-06-19T18:40:03.081Z"
   },
   {
    "duration": 12,
    "start_time": "2024-06-19T18:40:03.089Z"
   },
   {
    "duration": 15,
    "start_time": "2024-06-19T18:40:03.104Z"
   },
   {
    "duration": 15,
    "start_time": "2024-06-19T18:40:03.121Z"
   },
   {
    "duration": 19,
    "start_time": "2024-06-19T18:40:03.140Z"
   },
   {
    "duration": 57,
    "start_time": "2024-06-19T18:40:03.162Z"
   },
   {
    "duration": 34,
    "start_time": "2024-06-19T18:40:03.223Z"
   },
   {
    "duration": 61,
    "start_time": "2024-06-19T18:40:03.260Z"
   },
   {
    "duration": 6,
    "start_time": "2024-06-19T18:40:03.329Z"
   },
   {
    "duration": 216,
    "start_time": "2024-06-19T18:40:28.928Z"
   },
   {
    "duration": 9,
    "start_time": "2024-06-19T18:40:39.820Z"
   },
   {
    "duration": 14,
    "start_time": "2024-06-19T18:40:45.915Z"
   },
   {
    "duration": 233,
    "start_time": "2024-06-19T18:43:06.033Z"
   },
   {
    "duration": 6,
    "start_time": "2024-06-19T18:43:23.143Z"
   },
   {
    "duration": 10,
    "start_time": "2024-06-19T18:47:43.202Z"
   },
   {
    "duration": 6,
    "start_time": "2024-06-19T18:48:05.165Z"
   },
   {
    "duration": 32,
    "start_time": "2024-06-19T18:48:09.275Z"
   },
   {
    "duration": 10,
    "start_time": "2024-06-19T18:48:21.251Z"
   },
   {
    "duration": 9,
    "start_time": "2024-06-19T18:48:31.337Z"
   },
   {
    "duration": 6,
    "start_time": "2024-06-19T18:49:36.025Z"
   },
   {
    "duration": 7,
    "start_time": "2024-06-19T18:50:10.241Z"
   },
   {
    "duration": 6,
    "start_time": "2024-06-19T18:50:19.377Z"
   },
   {
    "duration": 8,
    "start_time": "2024-06-19T20:53:11.415Z"
   },
   {
    "duration": 23,
    "start_time": "2024-06-20T00:14:22.634Z"
   },
   {
    "duration": 9,
    "start_time": "2024-06-20T00:15:03.787Z"
   },
   {
    "duration": 6,
    "start_time": "2024-06-20T00:15:04.275Z"
   },
   {
    "duration": 5,
    "start_time": "2024-06-20T01:02:00.951Z"
   },
   {
    "duration": 8,
    "start_time": "2024-06-20T01:02:01.555Z"
   },
   {
    "duration": 6,
    "start_time": "2024-06-20T01:02:03.392Z"
   },
   {
    "duration": 7,
    "start_time": "2024-06-20T01:02:04.359Z"
   },
   {
    "duration": 5,
    "start_time": "2024-06-20T01:02:04.887Z"
   },
   {
    "duration": 1612,
    "start_time": "2024-06-20T01:02:12.671Z"
   },
   {
    "duration": 12,
    "start_time": "2024-06-20T01:02:14.286Z"
   },
   {
    "duration": 23,
    "start_time": "2024-06-20T01:02:14.302Z"
   },
   {
    "duration": 6,
    "start_time": "2024-06-20T01:02:14.328Z"
   },
   {
    "duration": 15,
    "start_time": "2024-06-20T01:02:14.337Z"
   },
   {
    "duration": 55,
    "start_time": "2024-06-20T01:02:14.355Z"
   },
   {
    "duration": 3,
    "start_time": "2024-06-20T01:02:14.413Z"
   },
   {
    "duration": 5,
    "start_time": "2024-06-20T01:02:14.422Z"
   },
   {
    "duration": 3,
    "start_time": "2024-06-20T01:02:14.430Z"
   },
   {
    "duration": 14,
    "start_time": "2024-06-20T01:02:14.439Z"
   },
   {
    "duration": 53,
    "start_time": "2024-06-20T01:02:14.456Z"
   },
   {
    "duration": 8,
    "start_time": "2024-06-20T01:02:14.513Z"
   },
   {
    "duration": 4,
    "start_time": "2024-06-20T01:02:14.524Z"
   },
   {
    "duration": 11,
    "start_time": "2024-06-20T01:02:14.531Z"
   },
   {
    "duration": 60,
    "start_time": "2024-06-20T01:02:14.545Z"
   },
   {
    "duration": 13,
    "start_time": "2024-06-20T01:02:14.607Z"
   },
   {
    "duration": 12,
    "start_time": "2024-06-20T01:02:14.623Z"
   },
   {
    "duration": 9,
    "start_time": "2024-06-20T01:02:14.637Z"
   },
   {
    "duration": 5025,
    "start_time": "2024-06-20T01:02:14.649Z"
   },
   {
    "duration": 4,
    "start_time": "2024-06-20T01:02:19.678Z"
   },
   {
    "duration": 18,
    "start_time": "2024-06-20T01:02:19.685Z"
   },
   {
    "duration": 16,
    "start_time": "2024-06-20T01:02:19.706Z"
   },
   {
    "duration": 15,
    "start_time": "2024-06-20T01:02:19.725Z"
   },
   {
    "duration": 18,
    "start_time": "2024-06-20T01:02:19.745Z"
   },
   {
    "duration": 20,
    "start_time": "2024-06-20T01:02:19.802Z"
   },
   {
    "duration": 34,
    "start_time": "2024-06-20T01:02:19.825Z"
   },
   {
    "duration": 63,
    "start_time": "2024-06-20T01:02:19.862Z"
   },
   {
    "duration": 8,
    "start_time": "2024-06-20T01:02:19.933Z"
   },
   {
    "duration": 7,
    "start_time": "2024-06-20T01:02:19.945Z"
   },
   {
    "duration": 9,
    "start_time": "2024-06-20T01:02:19.955Z"
   },
   {
    "duration": 6,
    "start_time": "2024-06-20T01:02:20.003Z"
   },
   {
    "duration": 8,
    "start_time": "2024-06-20T01:02:20.013Z"
   },
   {
    "duration": 7,
    "start_time": "2024-06-20T01:02:20.024Z"
   },
   {
    "duration": 7,
    "start_time": "2024-06-20T01:02:20.034Z"
   },
   {
    "duration": 5,
    "start_time": "2024-06-20T01:02:20.044Z"
   },
   {
    "duration": 11,
    "start_time": "2024-06-20T01:02:20.103Z"
   },
   {
    "duration": 7,
    "start_time": "2024-06-20T01:02:20.117Z"
   },
   {
    "duration": 12,
    "start_time": "2024-06-20T01:02:20.127Z"
   },
   {
    "duration": 2165,
    "start_time": "2024-06-20T01:02:20.142Z"
   },
   {
    "duration": 5,
    "start_time": "2024-06-20T01:02:22.310Z"
   },
   {
    "duration": 17,
    "start_time": "2024-06-20T01:02:22.318Z"
   },
   {
    "duration": 4,
    "start_time": "2024-06-20T01:02:22.338Z"
   },
   {
    "duration": 4,
    "start_time": "2024-06-20T01:02:22.347Z"
   },
   {
    "duration": 3,
    "start_time": "2024-06-20T01:02:22.354Z"
   },
   {
    "duration": 7,
    "start_time": "2024-06-20T01:02:22.403Z"
   },
   {
    "duration": 4,
    "start_time": "2024-06-20T01:02:22.413Z"
   },
   {
    "duration": 5,
    "start_time": "2024-06-20T01:02:22.420Z"
   },
   {
    "duration": 13,
    "start_time": "2024-06-20T01:02:22.428Z"
   },
   {
    "duration": 6,
    "start_time": "2024-06-20T01:02:22.501Z"
   },
   {
    "duration": 8,
    "start_time": "2024-06-20T01:02:22.511Z"
   },
   {
    "duration": 80,
    "start_time": "2024-06-20T01:02:22.522Z"
   },
   {
    "duration": 5,
    "start_time": "2024-06-20T01:02:22.605Z"
   },
   {
    "duration": 5,
    "start_time": "2024-06-20T01:02:22.614Z"
   },
   {
    "duration": 79,
    "start_time": "2024-06-20T01:02:22.622Z"
   },
   {
    "duration": 5,
    "start_time": "2024-06-20T01:02:22.704Z"
   },
   {
    "duration": 4,
    "start_time": "2024-06-20T01:02:22.712Z"
   },
   {
    "duration": 7,
    "start_time": "2024-06-20T01:02:22.719Z"
   },
   {
    "duration": 77,
    "start_time": "2024-06-20T01:02:22.729Z"
   },
   {
    "duration": 12,
    "start_time": "2024-06-20T01:02:22.810Z"
   },
   {
    "duration": 84,
    "start_time": "2024-06-20T01:02:22.825Z"
   },
   {
    "duration": 6,
    "start_time": "2024-06-20T01:02:22.912Z"
   },
   {
    "duration": 5,
    "start_time": "2024-06-20T01:02:22.921Z"
   },
   {
    "duration": 315,
    "start_time": "2024-06-20T12:39:57.067Z"
   },
   {
    "duration": 5264,
    "start_time": "2024-06-20T12:40:04.387Z"
   },
   {
    "duration": 20,
    "start_time": "2024-06-20T12:40:09.654Z"
   },
   {
    "duration": 33,
    "start_time": "2024-06-20T12:40:09.679Z"
   },
   {
    "duration": 9,
    "start_time": "2024-06-20T12:40:09.716Z"
   },
   {
    "duration": 18,
    "start_time": "2024-06-20T12:40:09.728Z"
   },
   {
    "duration": 17,
    "start_time": "2024-06-20T12:40:09.750Z"
   },
   {
    "duration": 3,
    "start_time": "2024-06-20T12:40:09.770Z"
   },
   {
    "duration": 52,
    "start_time": "2024-06-20T12:40:09.776Z"
   },
   {
    "duration": 3,
    "start_time": "2024-06-20T12:40:09.832Z"
   },
   {
    "duration": 15,
    "start_time": "2024-06-20T12:40:09.843Z"
   },
   {
    "duration": 9,
    "start_time": "2024-06-20T12:40:09.861Z"
   },
   {
    "duration": 62,
    "start_time": "2024-06-20T12:40:09.873Z"
   },
   {
    "duration": 3,
    "start_time": "2024-06-20T12:40:09.938Z"
   },
   {
    "duration": 11,
    "start_time": "2024-06-20T12:40:09.945Z"
   },
   {
    "duration": 12,
    "start_time": "2024-06-20T12:40:09.958Z"
   },
   {
    "duration": 51,
    "start_time": "2024-06-20T12:40:09.973Z"
   },
   {
    "duration": 14,
    "start_time": "2024-06-20T12:40:10.029Z"
   },
   {
    "duration": 9,
    "start_time": "2024-06-20T12:40:10.046Z"
   },
   {
    "duration": 5165,
    "start_time": "2024-06-20T12:40:10.058Z"
   },
   {
    "duration": 3,
    "start_time": "2024-06-20T12:40:15.227Z"
   },
   {
    "duration": 8,
    "start_time": "2024-06-20T12:40:15.233Z"
   },
   {
    "duration": 15,
    "start_time": "2024-06-20T12:40:15.244Z"
   },
   {
    "duration": 15,
    "start_time": "2024-06-20T12:40:15.261Z"
   },
   {
    "duration": 21,
    "start_time": "2024-06-20T12:40:15.322Z"
   },
   {
    "duration": 20,
    "start_time": "2024-06-20T12:40:15.346Z"
   },
   {
    "duration": 60,
    "start_time": "2024-06-20T12:40:15.368Z"
   },
   {
    "duration": 35,
    "start_time": "2024-06-20T12:40:15.431Z"
   },
   {
    "duration": 8,
    "start_time": "2024-06-20T12:40:15.475Z"
   },
   {
    "duration": 6,
    "start_time": "2024-06-20T12:40:15.525Z"
   },
   {
    "duration": 9,
    "start_time": "2024-06-20T12:40:15.535Z"
   },
   {
    "duration": 7,
    "start_time": "2024-06-20T12:40:15.548Z"
   },
   {
    "duration": 8,
    "start_time": "2024-06-20T12:40:15.557Z"
   },
   {
    "duration": 56,
    "start_time": "2024-06-20T12:40:15.568Z"
   },
   {
    "duration": 9,
    "start_time": "2024-06-20T12:40:15.626Z"
   },
   {
    "duration": 5,
    "start_time": "2024-06-20T12:40:15.638Z"
   },
   {
    "duration": 8,
    "start_time": "2024-06-20T12:40:15.646Z"
   },
   {
    "duration": 11,
    "start_time": "2024-06-20T12:40:15.657Z"
   },
   {
    "duration": 2394,
    "start_time": "2024-06-20T12:40:15.671Z"
   },
   {
    "duration": 4,
    "start_time": "2024-06-20T12:40:18.068Z"
   },
   {
    "duration": 18,
    "start_time": "2024-06-20T12:40:18.076Z"
   },
   {
    "duration": 5,
    "start_time": "2024-06-20T12:40:18.122Z"
   },
   {
    "duration": 4,
    "start_time": "2024-06-20T12:40:18.130Z"
   },
   {
    "duration": 4,
    "start_time": "2024-06-20T12:40:18.137Z"
   },
   {
    "duration": 7,
    "start_time": "2024-06-20T12:40:18.145Z"
   },
   {
    "duration": 670,
    "start_time": "2024-06-20T12:40:18.155Z"
   },
   {
    "duration": 0,
    "start_time": "2024-06-20T12:40:18.828Z"
   },
   {
    "duration": 0,
    "start_time": "2024-06-20T12:40:18.831Z"
   },
   {
    "duration": 0,
    "start_time": "2024-06-20T12:40:18.833Z"
   },
   {
    "duration": 0,
    "start_time": "2024-06-20T12:40:18.835Z"
   },
   {
    "duration": 0,
    "start_time": "2024-06-20T12:40:18.838Z"
   },
   {
    "duration": 0,
    "start_time": "2024-06-20T12:40:18.840Z"
   },
   {
    "duration": 0,
    "start_time": "2024-06-20T12:40:18.843Z"
   },
   {
    "duration": 0,
    "start_time": "2024-06-20T12:40:18.845Z"
   },
   {
    "duration": 0,
    "start_time": "2024-06-20T12:40:18.848Z"
   },
   {
    "duration": 0,
    "start_time": "2024-06-20T12:40:18.850Z"
   },
   {
    "duration": 0,
    "start_time": "2024-06-20T12:40:18.853Z"
   },
   {
    "duration": 0,
    "start_time": "2024-06-20T12:40:18.855Z"
   },
   {
    "duration": 0,
    "start_time": "2024-06-20T12:40:18.856Z"
   },
   {
    "duration": 0,
    "start_time": "2024-06-20T12:40:18.858Z"
   },
   {
    "duration": 0,
    "start_time": "2024-06-20T12:40:18.861Z"
   },
   {
    "duration": 1653,
    "start_time": "2024-06-20T12:41:08.701Z"
   },
   {
    "duration": 11,
    "start_time": "2024-06-20T12:41:10.357Z"
   },
   {
    "duration": 22,
    "start_time": "2024-06-20T12:41:10.371Z"
   },
   {
    "duration": 5,
    "start_time": "2024-06-20T12:41:10.422Z"
   },
   {
    "duration": 15,
    "start_time": "2024-06-20T12:41:10.432Z"
   },
   {
    "duration": 17,
    "start_time": "2024-06-20T12:41:10.450Z"
   },
   {
    "duration": 4,
    "start_time": "2024-06-20T12:41:10.470Z"
   },
   {
    "duration": 47,
    "start_time": "2024-06-20T12:41:10.477Z"
   },
   {
    "duration": 7,
    "start_time": "2024-06-20T12:41:10.528Z"
   },
   {
    "duration": 16,
    "start_time": "2024-06-20T12:41:10.542Z"
   },
   {
    "duration": 10,
    "start_time": "2024-06-20T12:41:10.560Z"
   },
   {
    "duration": 53,
    "start_time": "2024-06-20T12:41:10.573Z"
   },
   {
    "duration": 4,
    "start_time": "2024-06-20T12:41:10.629Z"
   },
   {
    "duration": 11,
    "start_time": "2024-06-20T12:41:10.636Z"
   },
   {
    "duration": 12,
    "start_time": "2024-06-20T12:41:10.650Z"
   },
   {
    "duration": 11,
    "start_time": "2024-06-20T12:41:10.664Z"
   },
   {
    "duration": 12,
    "start_time": "2024-06-20T12:41:10.724Z"
   },
   {
    "duration": 11,
    "start_time": "2024-06-20T12:41:10.739Z"
   },
   {
    "duration": 5013,
    "start_time": "2024-06-20T12:41:10.754Z"
   },
   {
    "duration": 4,
    "start_time": "2024-06-20T12:41:15.770Z"
   },
   {
    "duration": 7,
    "start_time": "2024-06-20T12:41:15.778Z"
   },
   {
    "duration": 14,
    "start_time": "2024-06-20T12:41:15.789Z"
   },
   {
    "duration": 14,
    "start_time": "2024-06-20T12:41:15.822Z"
   },
   {
    "duration": 18,
    "start_time": "2024-06-20T12:41:15.840Z"
   },
   {
    "duration": 20,
    "start_time": "2024-06-20T12:41:15.860Z"
   },
   {
    "duration": 66,
    "start_time": "2024-06-20T12:41:15.883Z"
   },
   {
    "duration": 33,
    "start_time": "2024-06-20T12:41:15.952Z"
   },
   {
    "duration": 7,
    "start_time": "2024-06-20T12:41:16.026Z"
   },
   {
    "duration": 7,
    "start_time": "2024-06-20T12:41:16.036Z"
   },
   {
    "duration": 9,
    "start_time": "2024-06-20T12:41:16.046Z"
   },
   {
    "duration": 7,
    "start_time": "2024-06-20T12:41:16.057Z"
   },
   {
    "duration": 8,
    "start_time": "2024-06-20T12:41:16.067Z"
   },
   {
    "duration": 7,
    "start_time": "2024-06-20T12:41:16.124Z"
   },
   {
    "duration": 9,
    "start_time": "2024-06-20T12:41:16.134Z"
   },
   {
    "duration": 6,
    "start_time": "2024-06-20T12:41:16.146Z"
   },
   {
    "duration": 9,
    "start_time": "2024-06-20T12:41:16.155Z"
   },
   {
    "duration": 61,
    "start_time": "2024-06-20T12:41:16.168Z"
   },
   {
    "duration": 2076,
    "start_time": "2024-06-20T12:41:16.232Z"
   },
   {
    "duration": 12,
    "start_time": "2024-06-20T12:41:18.311Z"
   },
   {
    "duration": 16,
    "start_time": "2024-06-20T12:41:18.326Z"
   },
   {
    "duration": 5,
    "start_time": "2024-06-20T12:41:18.346Z"
   },
   {
    "duration": 4,
    "start_time": "2024-06-20T12:41:18.354Z"
   },
   {
    "duration": 4,
    "start_time": "2024-06-20T12:41:18.361Z"
   },
   {
    "duration": 6,
    "start_time": "2024-06-20T12:41:18.368Z"
   },
   {
    "duration": 585,
    "start_time": "2024-06-20T12:41:18.422Z"
   },
   {
    "duration": 0,
    "start_time": "2024-06-20T12:41:19.010Z"
   },
   {
    "duration": 0,
    "start_time": "2024-06-20T12:41:19.011Z"
   },
   {
    "duration": 0,
    "start_time": "2024-06-20T12:41:19.013Z"
   },
   {
    "duration": 0,
    "start_time": "2024-06-20T12:41:19.023Z"
   },
   {
    "duration": 0,
    "start_time": "2024-06-20T12:41:19.024Z"
   },
   {
    "duration": 0,
    "start_time": "2024-06-20T12:41:19.026Z"
   },
   {
    "duration": 0,
    "start_time": "2024-06-20T12:41:19.029Z"
   },
   {
    "duration": 0,
    "start_time": "2024-06-20T12:41:19.031Z"
   },
   {
    "duration": 0,
    "start_time": "2024-06-20T12:41:19.032Z"
   },
   {
    "duration": 0,
    "start_time": "2024-06-20T12:41:19.035Z"
   },
   {
    "duration": 0,
    "start_time": "2024-06-20T12:41:19.037Z"
   },
   {
    "duration": 0,
    "start_time": "2024-06-20T12:41:19.039Z"
   },
   {
    "duration": 0,
    "start_time": "2024-06-20T12:41:19.041Z"
   },
   {
    "duration": 1,
    "start_time": "2024-06-20T12:41:19.043Z"
   },
   {
    "duration": 0,
    "start_time": "2024-06-20T12:41:19.046Z"
   },
   {
    "duration": 1611,
    "start_time": "2024-06-20T12:53:14.924Z"
   },
   {
    "duration": 11,
    "start_time": "2024-06-20T12:53:16.539Z"
   },
   {
    "duration": 21,
    "start_time": "2024-06-20T12:53:16.553Z"
   },
   {
    "duration": 5,
    "start_time": "2024-06-20T12:53:16.577Z"
   },
   {
    "duration": 48,
    "start_time": "2024-06-20T12:53:16.585Z"
   },
   {
    "duration": 22,
    "start_time": "2024-06-20T12:53:16.639Z"
   },
   {
    "duration": 4,
    "start_time": "2024-06-20T12:53:16.665Z"
   },
   {
    "duration": 6,
    "start_time": "2024-06-20T12:53:16.672Z"
   },
   {
    "duration": 4,
    "start_time": "2024-06-20T12:53:16.682Z"
   },
   {
    "duration": 15,
    "start_time": "2024-06-20T12:53:16.728Z"
   },
   {
    "duration": 11,
    "start_time": "2024-06-20T12:53:16.746Z"
   },
   {
    "duration": 8,
    "start_time": "2024-06-20T12:53:16.761Z"
   },
   {
    "duration": 4,
    "start_time": "2024-06-20T12:53:16.772Z"
   },
   {
    "duration": 55,
    "start_time": "2024-06-20T12:53:16.779Z"
   },
   {
    "duration": 11,
    "start_time": "2024-06-20T12:53:16.837Z"
   },
   {
    "duration": 10,
    "start_time": "2024-06-20T12:53:16.851Z"
   },
   {
    "duration": 10,
    "start_time": "2024-06-20T12:53:16.865Z"
   },
   {
    "duration": 7,
    "start_time": "2024-06-20T12:53:16.922Z"
   },
   {
    "duration": 4987,
    "start_time": "2024-06-20T12:53:16.932Z"
   },
   {
    "duration": 3,
    "start_time": "2024-06-20T12:53:21.923Z"
   },
   {
    "duration": 6,
    "start_time": "2024-06-20T12:53:21.930Z"
   },
   {
    "duration": 14,
    "start_time": "2024-06-20T12:53:21.940Z"
   },
   {
    "duration": 14,
    "start_time": "2024-06-20T12:53:21.957Z"
   },
   {
    "duration": 60,
    "start_time": "2024-06-20T12:53:21.974Z"
   },
   {
    "duration": 19,
    "start_time": "2024-06-20T12:53:22.036Z"
   },
   {
    "duration": 66,
    "start_time": "2024-06-20T12:53:22.058Z"
   },
   {
    "duration": 34,
    "start_time": "2024-06-20T12:53:22.126Z"
   },
   {
    "duration": 8,
    "start_time": "2024-06-20T12:53:22.169Z"
   },
   {
    "duration": 6,
    "start_time": "2024-06-20T12:53:22.181Z"
   },
   {
    "duration": 9,
    "start_time": "2024-06-20T12:53:22.224Z"
   },
   {
    "duration": 6,
    "start_time": "2024-06-20T12:53:22.236Z"
   },
   {
    "duration": 8,
    "start_time": "2024-06-20T12:53:22.245Z"
   },
   {
    "duration": 7,
    "start_time": "2024-06-20T12:53:22.256Z"
   },
   {
    "duration": 57,
    "start_time": "2024-06-20T12:53:22.266Z"
   },
   {
    "duration": 6,
    "start_time": "2024-06-20T12:53:22.326Z"
   },
   {
    "duration": 9,
    "start_time": "2024-06-20T12:53:22.334Z"
   },
   {
    "duration": 12,
    "start_time": "2024-06-20T12:53:22.346Z"
   },
   {
    "duration": 2040,
    "start_time": "2024-06-20T12:53:22.361Z"
   },
   {
    "duration": 3,
    "start_time": "2024-06-20T12:53:24.405Z"
   },
   {
    "duration": 16,
    "start_time": "2024-06-20T12:53:24.423Z"
   },
   {
    "duration": 3,
    "start_time": "2024-06-20T12:53:24.442Z"
   },
   {
    "duration": 5,
    "start_time": "2024-06-20T12:53:24.448Z"
   },
   {
    "duration": 4,
    "start_time": "2024-06-20T12:53:24.456Z"
   },
   {
    "duration": 8,
    "start_time": "2024-06-20T12:53:24.462Z"
   },
   {
    "duration": 62,
    "start_time": "2024-06-20T12:53:24.474Z"
   },
   {
    "duration": 8,
    "start_time": "2024-06-20T12:53:24.538Z"
   },
   {
    "duration": 78,
    "start_time": "2024-06-20T12:53:24.549Z"
   },
   {
    "duration": 5,
    "start_time": "2024-06-20T12:53:24.630Z"
   },
   {
    "duration": 4,
    "start_time": "2024-06-20T12:53:24.638Z"
   },
   {
    "duration": 81,
    "start_time": "2024-06-20T12:53:24.647Z"
   },
   {
    "duration": 8,
    "start_time": "2024-06-20T12:53:24.733Z"
   },
   {
    "duration": 4,
    "start_time": "2024-06-20T12:53:24.744Z"
   },
   {
    "duration": 73,
    "start_time": "2024-06-20T12:53:24.752Z"
   },
   {
    "duration": 6,
    "start_time": "2024-06-20T12:53:24.829Z"
   },
   {
    "duration": 5,
    "start_time": "2024-06-20T12:53:24.839Z"
   },
   {
    "duration": 77,
    "start_time": "2024-06-20T12:53:24.847Z"
   },
   {
    "duration": 12,
    "start_time": "2024-06-20T12:53:24.927Z"
   },
   {
    "duration": 6,
    "start_time": "2024-06-20T12:53:24.942Z"
   },
   {
    "duration": 5,
    "start_time": "2024-06-20T12:53:25.022Z"
   },
   {
    "duration": 7,
    "start_time": "2024-06-20T12:53:48.141Z"
   },
   {
    "duration": 6,
    "start_time": "2024-06-20T12:54:19.218Z"
   },
   {
    "duration": 24,
    "start_time": "2024-06-20T12:54:19.735Z"
   },
   {
    "duration": 5,
    "start_time": "2024-06-20T12:54:20.516Z"
   },
   {
    "duration": 5,
    "start_time": "2024-06-20T12:54:21.161Z"
   },
   {
    "duration": 6,
    "start_time": "2024-06-20T12:54:21.854Z"
   },
   {
    "duration": 9,
    "start_time": "2024-06-20T12:54:37.211Z"
   },
   {
    "duration": 20,
    "start_time": "2024-06-20T12:54:37.711Z"
   },
   {
    "duration": 9,
    "start_time": "2024-06-20T12:54:38.270Z"
   },
   {
    "duration": 5,
    "start_time": "2024-06-20T12:54:38.880Z"
   },
   {
    "duration": 18,
    "start_time": "2024-06-20T12:54:39.653Z"
   },
   {
    "duration": 11,
    "start_time": "2024-06-20T12:55:36.686Z"
   },
   {
    "duration": 7,
    "start_time": "2024-06-20T12:55:44.169Z"
   },
   {
    "duration": 14,
    "start_time": "2024-06-20T12:55:44.843Z"
   },
   {
    "duration": 5,
    "start_time": "2024-06-20T12:55:46.221Z"
   },
   {
    "duration": 6,
    "start_time": "2024-06-20T12:55:48.947Z"
   },
   {
    "duration": 10,
    "start_time": "2024-06-20T12:55:49.584Z"
   },
   {
    "duration": 1621,
    "start_time": "2024-06-20T12:56:10.952Z"
   },
   {
    "duration": 11,
    "start_time": "2024-06-20T12:56:12.577Z"
   },
   {
    "duration": 36,
    "start_time": "2024-06-20T12:56:12.591Z"
   },
   {
    "duration": 5,
    "start_time": "2024-06-20T12:56:12.631Z"
   },
   {
    "duration": 16,
    "start_time": "2024-06-20T12:56:12.640Z"
   },
   {
    "duration": 17,
    "start_time": "2024-06-20T12:56:12.661Z"
   },
   {
    "duration": 5,
    "start_time": "2024-06-20T12:56:12.723Z"
   },
   {
    "duration": 21,
    "start_time": "2024-06-20T12:56:12.731Z"
   },
   {
    "duration": 3,
    "start_time": "2024-06-20T12:56:12.755Z"
   },
   {
    "duration": 14,
    "start_time": "2024-06-20T12:56:12.765Z"
   },
   {
    "duration": 9,
    "start_time": "2024-06-20T12:56:12.782Z"
   },
   {
    "duration": 9,
    "start_time": "2024-06-20T12:56:12.824Z"
   },
   {
    "duration": 4,
    "start_time": "2024-06-20T12:56:12.835Z"
   },
   {
    "duration": 13,
    "start_time": "2024-06-20T12:56:12.841Z"
   },
   {
    "duration": 12,
    "start_time": "2024-06-20T12:56:12.858Z"
   },
   {
    "duration": 55,
    "start_time": "2024-06-20T12:56:12.873Z"
   },
   {
    "duration": 12,
    "start_time": "2024-06-20T12:56:12.932Z"
   },
   {
    "duration": 8,
    "start_time": "2024-06-20T12:56:12.947Z"
   },
   {
    "duration": 5072,
    "start_time": "2024-06-20T12:56:12.958Z"
   },
   {
    "duration": 4,
    "start_time": "2024-06-20T12:56:18.032Z"
   },
   {
    "duration": 7,
    "start_time": "2024-06-20T12:56:18.040Z"
   },
   {
    "duration": 15,
    "start_time": "2024-06-20T12:56:18.050Z"
   },
   {
    "duration": 17,
    "start_time": "2024-06-20T12:56:18.068Z"
   },
   {
    "duration": 48,
    "start_time": "2024-06-20T12:56:18.088Z"
   },
   {
    "duration": 19,
    "start_time": "2024-06-20T12:56:18.139Z"
   },
   {
    "duration": 67,
    "start_time": "2024-06-20T12:56:18.160Z"
   },
   {
    "duration": 37,
    "start_time": "2024-06-20T12:56:18.231Z"
   },
   {
    "duration": 8,
    "start_time": "2024-06-20T12:56:18.280Z"
   },
   {
    "duration": 8,
    "start_time": "2024-06-20T12:56:18.324Z"
   },
   {
    "duration": 9,
    "start_time": "2024-06-20T12:56:18.336Z"
   },
   {
    "duration": 6,
    "start_time": "2024-06-20T12:56:18.348Z"
   },
   {
    "duration": 8,
    "start_time": "2024-06-20T12:56:18.357Z"
   },
   {
    "duration": 56,
    "start_time": "2024-06-20T12:56:18.367Z"
   },
   {
    "duration": 8,
    "start_time": "2024-06-20T12:56:18.426Z"
   },
   {
    "duration": 6,
    "start_time": "2024-06-20T12:56:18.436Z"
   },
   {
    "duration": 8,
    "start_time": "2024-06-20T12:56:18.444Z"
   },
   {
    "duration": 13,
    "start_time": "2024-06-20T12:56:18.455Z"
   },
   {
    "duration": 2077,
    "start_time": "2024-06-20T12:56:18.471Z"
   },
   {
    "duration": 4,
    "start_time": "2024-06-20T12:56:20.550Z"
   },
   {
    "duration": 18,
    "start_time": "2024-06-20T12:56:20.558Z"
   },
   {
    "duration": 4,
    "start_time": "2024-06-20T12:56:20.579Z"
   },
   {
    "duration": 36,
    "start_time": "2024-06-20T12:56:20.587Z"
   },
   {
    "duration": 4,
    "start_time": "2024-06-20T12:56:20.627Z"
   },
   {
    "duration": 7,
    "start_time": "2024-06-20T12:56:20.635Z"
   },
   {
    "duration": 14,
    "start_time": "2024-06-20T12:56:20.645Z"
   },
   {
    "duration": 72,
    "start_time": "2024-06-20T12:56:20.661Z"
   },
   {
    "duration": 6,
    "start_time": "2024-06-20T12:56:20.735Z"
   },
   {
    "duration": 80,
    "start_time": "2024-06-20T12:56:20.744Z"
   },
   {
    "duration": 9,
    "start_time": "2024-06-20T12:56:20.828Z"
   },
   {
    "duration": 6,
    "start_time": "2024-06-20T12:56:20.839Z"
   },
   {
    "duration": 80,
    "start_time": "2024-06-20T12:56:20.847Z"
   },
   {
    "duration": 5,
    "start_time": "2024-06-20T12:56:20.929Z"
   },
   {
    "duration": 3,
    "start_time": "2024-06-20T12:56:20.937Z"
   },
   {
    "duration": 4,
    "start_time": "2024-06-20T12:56:20.943Z"
   },
   {
    "duration": 7,
    "start_time": "2024-06-20T12:56:20.950Z"
   },
   {
    "duration": 65,
    "start_time": "2024-06-20T12:56:20.959Z"
   },
   {
    "duration": 5,
    "start_time": "2024-06-20T12:56:21.027Z"
   },
   {
    "duration": 88,
    "start_time": "2024-06-20T12:56:21.036Z"
   },
   {
    "duration": 6,
    "start_time": "2024-06-20T12:56:21.127Z"
   },
   {
    "duration": 19,
    "start_time": "2024-06-20T12:56:21.136Z"
   },
   {
    "duration": 6,
    "start_time": "2024-06-20T13:13:56.295Z"
   },
   {
    "duration": 4,
    "start_time": "2024-06-20T13:14:29.463Z"
   },
   {
    "duration": 8,
    "start_time": "2024-06-20T13:44:53.809Z"
   },
   {
    "duration": 607,
    "start_time": "2024-06-20T13:44:54.622Z"
   },
   {
    "duration": 8,
    "start_time": "2024-06-20T13:46:04.548Z"
   },
   {
    "duration": 11,
    "start_time": "2024-06-20T13:46:05.456Z"
   },
   {
    "duration": 5,
    "start_time": "2024-06-20T13:46:06.423Z"
   },
   {
    "duration": 5,
    "start_time": "2024-06-20T13:46:07.010Z"
   },
   {
    "duration": 5,
    "start_time": "2024-06-20T13:46:08.793Z"
   },
   {
    "duration": 4,
    "start_time": "2024-06-20T13:46:09.413Z"
   },
   {
    "duration": 4,
    "start_time": "2024-06-20T13:46:10.841Z"
   },
   {
    "duration": 4,
    "start_time": "2024-06-20T13:46:12.089Z"
   },
   {
    "duration": 4,
    "start_time": "2024-06-20T13:46:13.415Z"
   },
   {
    "duration": 5,
    "start_time": "2024-06-20T13:46:14.166Z"
   },
   {
    "duration": 9,
    "start_time": "2024-06-20T13:46:20.284Z"
   },
   {
    "duration": 7,
    "start_time": "2024-06-20T13:46:26.854Z"
   },
   {
    "duration": 5,
    "start_time": "2024-06-20T13:46:30.585Z"
   },
   {
    "duration": 5,
    "start_time": "2024-06-20T13:46:40.110Z"
   },
   {
    "duration": 10,
    "start_time": "2024-06-20T13:46:41.657Z"
   },
   {
    "duration": 5,
    "start_time": "2024-06-20T13:46:43.143Z"
   },
   {
    "duration": 4,
    "start_time": "2024-06-20T13:46:44.513Z"
   },
   {
    "duration": 12,
    "start_time": "2024-06-20T15:22:23.226Z"
   },
   {
    "duration": 1638,
    "start_time": "2024-06-20T15:42:05.387Z"
   },
   {
    "duration": 12,
    "start_time": "2024-06-20T15:42:07.030Z"
   },
   {
    "duration": 22,
    "start_time": "2024-06-20T15:42:07.044Z"
   },
   {
    "duration": 5,
    "start_time": "2024-06-20T15:42:07.071Z"
   },
   {
    "duration": 54,
    "start_time": "2024-06-20T15:42:07.080Z"
   },
   {
    "duration": 15,
    "start_time": "2024-06-20T15:42:07.137Z"
   },
   {
    "duration": 3,
    "start_time": "2024-06-20T15:42:07.156Z"
   },
   {
    "duration": 6,
    "start_time": "2024-06-20T15:42:07.162Z"
   },
   {
    "duration": 4,
    "start_time": "2024-06-20T15:42:07.171Z"
   },
   {
    "duration": 55,
    "start_time": "2024-06-20T15:42:07.180Z"
   },
   {
    "duration": 10,
    "start_time": "2024-06-20T15:42:07.238Z"
   },
   {
    "duration": 9,
    "start_time": "2024-06-20T15:42:07.250Z"
   },
   {
    "duration": 3,
    "start_time": "2024-06-20T15:42:07.262Z"
   },
   {
    "duration": 63,
    "start_time": "2024-06-20T15:42:07.268Z"
   },
   {
    "duration": 14,
    "start_time": "2024-06-20T15:42:07.334Z"
   },
   {
    "duration": 13,
    "start_time": "2024-06-20T15:42:07.351Z"
   },
   {
    "duration": 14,
    "start_time": "2024-06-20T15:42:07.368Z"
   },
   {
    "duration": 8,
    "start_time": "2024-06-20T15:42:07.424Z"
   },
   {
    "duration": 5060,
    "start_time": "2024-06-20T15:42:07.436Z"
   },
   {
    "duration": 4,
    "start_time": "2024-06-20T15:42:12.500Z"
   },
   {
    "duration": 8,
    "start_time": "2024-06-20T15:42:12.508Z"
   },
   {
    "duration": 18,
    "start_time": "2024-06-20T15:42:12.519Z"
   },
   {
    "duration": 18,
    "start_time": "2024-06-20T15:42:12.540Z"
   },
   {
    "duration": 20,
    "start_time": "2024-06-20T15:42:12.560Z"
   },
   {
    "duration": 19,
    "start_time": "2024-06-20T15:42:12.624Z"
   },
   {
    "duration": 35,
    "start_time": "2024-06-20T15:42:12.646Z"
   },
   {
    "duration": 64,
    "start_time": "2024-06-20T15:42:12.683Z"
   },
   {
    "duration": 7,
    "start_time": "2024-06-20T15:42:12.756Z"
   },
   {
    "duration": 7,
    "start_time": "2024-06-20T15:42:12.766Z"
   },
   {
    "duration": 9,
    "start_time": "2024-06-20T15:42:12.776Z"
   },
   {
    "duration": 40,
    "start_time": "2024-06-20T15:42:12.787Z"
   },
   {
    "duration": 7,
    "start_time": "2024-06-20T15:42:12.831Z"
   },
   {
    "duration": 7,
    "start_time": "2024-06-20T15:42:12.841Z"
   },
   {
    "duration": 8,
    "start_time": "2024-06-20T15:42:12.850Z"
   },
   {
    "duration": 5,
    "start_time": "2024-06-20T15:42:12.862Z"
   },
   {
    "duration": 7,
    "start_time": "2024-06-20T15:42:12.923Z"
   },
   {
    "duration": 12,
    "start_time": "2024-06-20T15:42:12.934Z"
   },
   {
    "duration": 2315,
    "start_time": "2024-06-20T15:42:12.948Z"
   },
   {
    "duration": 4,
    "start_time": "2024-06-20T15:42:15.266Z"
   },
   {
    "duration": 19,
    "start_time": "2024-06-20T15:42:15.274Z"
   },
   {
    "duration": 6,
    "start_time": "2024-06-20T15:42:15.324Z"
   },
   {
    "duration": 4,
    "start_time": "2024-06-20T15:42:15.333Z"
   },
   {
    "duration": 4,
    "start_time": "2024-06-20T15:42:15.342Z"
   },
   {
    "duration": 8,
    "start_time": "2024-06-20T15:42:15.348Z"
   },
   {
    "duration": 66,
    "start_time": "2024-06-20T15:42:15.359Z"
   },
   {
    "duration": 11,
    "start_time": "2024-06-20T15:42:15.428Z"
   },
   {
    "duration": 82,
    "start_time": "2024-06-20T15:42:15.447Z"
   },
   {
    "duration": 8,
    "start_time": "2024-06-20T15:42:15.531Z"
   },
   {
    "duration": 81,
    "start_time": "2024-06-20T15:42:15.543Z"
   },
   {
    "duration": 5,
    "start_time": "2024-06-20T15:42:15.626Z"
   },
   {
    "duration": 3,
    "start_time": "2024-06-20T15:42:15.634Z"
   },
   {
    "duration": 4,
    "start_time": "2024-06-20T15:42:15.640Z"
   },
   {
    "duration": 80,
    "start_time": "2024-06-20T15:42:15.647Z"
   },
   {
    "duration": 11,
    "start_time": "2024-06-20T15:42:15.730Z"
   },
   {
    "duration": 7,
    "start_time": "2024-06-20T15:42:15.747Z"
   },
   {
    "duration": 6,
    "start_time": "2024-06-20T15:42:15.831Z"
   },
   {
    "duration": 83,
    "start_time": "2024-06-20T15:42:15.840Z"
   },
   {
    "duration": 12,
    "start_time": "2024-06-20T15:42:15.926Z"
   },
   {
    "duration": 6,
    "start_time": "2024-06-20T15:42:15.940Z"
   },
   {
    "duration": 5,
    "start_time": "2024-06-20T15:42:15.949Z"
   },
   {
    "duration": 449,
    "start_time": "2024-06-20T15:44:53.197Z"
   },
   {
    "duration": 7,
    "start_time": "2024-06-20T15:50:06.790Z"
   },
   {
    "duration": 18,
    "start_time": "2024-06-20T15:50:07.471Z"
   },
   {
    "duration": 1556,
    "start_time": "2024-06-20T15:50:15.576Z"
   },
   {
    "duration": 11,
    "start_time": "2024-06-20T15:50:17.136Z"
   },
   {
    "duration": 22,
    "start_time": "2024-06-20T15:50:17.149Z"
   },
   {
    "duration": 4,
    "start_time": "2024-06-20T15:50:17.174Z"
   },
   {
    "duration": 46,
    "start_time": "2024-06-20T15:50:17.183Z"
   },
   {
    "duration": 15,
    "start_time": "2024-06-20T15:50:17.233Z"
   },
   {
    "duration": 4,
    "start_time": "2024-06-20T15:50:17.251Z"
   },
   {
    "duration": 5,
    "start_time": "2024-06-20T15:50:17.258Z"
   },
   {
    "duration": 4,
    "start_time": "2024-06-20T15:50:17.266Z"
   },
   {
    "duration": 60,
    "start_time": "2024-06-20T15:50:17.273Z"
   },
   {
    "duration": 13,
    "start_time": "2024-06-20T15:50:17.337Z"
   },
   {
    "duration": 10,
    "start_time": "2024-06-20T15:50:17.352Z"
   },
   {
    "duration": 4,
    "start_time": "2024-06-20T15:50:17.365Z"
   },
   {
    "duration": 53,
    "start_time": "2024-06-20T15:50:17.378Z"
   },
   {
    "duration": 14,
    "start_time": "2024-06-20T15:50:17.433Z"
   },
   {
    "duration": 12,
    "start_time": "2024-06-20T15:50:17.450Z"
   },
   {
    "duration": 12,
    "start_time": "2024-06-20T15:50:17.465Z"
   },
   {
    "duration": 8,
    "start_time": "2024-06-20T15:50:17.524Z"
   },
   {
    "duration": 5327,
    "start_time": "2024-06-20T15:50:17.535Z"
   },
   {
    "duration": 4,
    "start_time": "2024-06-20T15:50:22.865Z"
   },
   {
    "duration": 10,
    "start_time": "2024-06-20T15:50:22.878Z"
   },
   {
    "duration": 18,
    "start_time": "2024-06-20T15:50:22.892Z"
   },
   {
    "duration": 18,
    "start_time": "2024-06-20T15:50:22.918Z"
   },
   {
    "duration": 22,
    "start_time": "2024-06-20T15:50:22.940Z"
   },
   {
    "duration": 23,
    "start_time": "2024-06-20T15:50:22.965Z"
   },
   {
    "duration": 66,
    "start_time": "2024-06-20T15:50:22.991Z"
   },
   {
    "duration": 39,
    "start_time": "2024-06-20T15:50:23.061Z"
   },
   {
    "duration": 24,
    "start_time": "2024-06-20T15:50:23.103Z"
   },
   {
    "duration": 10,
    "start_time": "2024-06-20T15:50:23.131Z"
   },
   {
    "duration": 8,
    "start_time": "2024-06-20T15:50:23.146Z"
   },
   {
    "duration": 7,
    "start_time": "2024-06-20T15:50:23.158Z"
   },
   {
    "duration": 58,
    "start_time": "2024-06-20T15:50:23.168Z"
   },
   {
    "duration": 10,
    "start_time": "2024-06-20T15:50:23.230Z"
   },
   {
    "duration": 9,
    "start_time": "2024-06-20T15:50:23.243Z"
   },
   {
    "duration": 7,
    "start_time": "2024-06-20T15:50:23.255Z"
   },
   {
    "duration": 57,
    "start_time": "2024-06-20T15:50:23.266Z"
   },
   {
    "duration": 11,
    "start_time": "2024-06-20T15:50:23.327Z"
   },
   {
    "duration": 2497,
    "start_time": "2024-06-20T15:50:23.341Z"
   },
   {
    "duration": 4,
    "start_time": "2024-06-20T15:50:25.841Z"
   },
   {
    "duration": 29,
    "start_time": "2024-06-20T15:50:25.849Z"
   },
   {
    "duration": 5,
    "start_time": "2024-06-20T15:50:25.891Z"
   },
   {
    "duration": 4,
    "start_time": "2024-06-20T15:50:25.925Z"
   },
   {
    "duration": 4,
    "start_time": "2024-06-20T15:50:25.933Z"
   },
   {
    "duration": 13,
    "start_time": "2024-06-20T15:50:25.941Z"
   },
   {
    "duration": 73,
    "start_time": "2024-06-20T15:50:25.959Z"
   },
   {
    "duration": 8,
    "start_time": "2024-06-20T15:50:26.034Z"
   },
   {
    "duration": 7,
    "start_time": "2024-06-20T15:50:26.044Z"
   },
   {
    "duration": 6,
    "start_time": "2024-06-20T15:50:26.053Z"
   },
   {
    "duration": 62,
    "start_time": "2024-06-20T15:50:26.062Z"
   },
   {
    "duration": 12,
    "start_time": "2024-06-20T15:50:26.130Z"
   },
   {
    "duration": 8,
    "start_time": "2024-06-20T15:50:26.146Z"
   },
   {
    "duration": 72,
    "start_time": "2024-06-20T15:50:26.157Z"
   },
   {
    "duration": 10,
    "start_time": "2024-06-20T15:50:26.237Z"
   },
   {
    "duration": 4,
    "start_time": "2024-06-20T15:50:26.254Z"
   },
   {
    "duration": 6,
    "start_time": "2024-06-20T15:50:26.262Z"
   },
   {
    "duration": 6,
    "start_time": "2024-06-20T15:50:26.328Z"
   },
   {
    "duration": 5,
    "start_time": "2024-06-20T15:50:26.337Z"
   },
   {
    "duration": 589,
    "start_time": "2024-06-20T15:50:26.346Z"
   },
   {
    "duration": 0,
    "start_time": "2024-06-20T15:50:26.944Z"
   },
   {
    "duration": 0,
    "start_time": "2024-06-20T15:50:26.947Z"
   },
   {
    "duration": 10,
    "start_time": "2024-06-20T15:50:41.226Z"
   },
   {
    "duration": 5,
    "start_time": "2024-06-20T15:50:45.665Z"
   },
   {
    "duration": 6,
    "start_time": "2024-06-20T15:50:46.105Z"
   },
   {
    "duration": 320,
    "start_time": "2024-06-24T23:09:04.252Z"
   },
   {
    "duration": 5230,
    "start_time": "2024-06-24T23:09:26.042Z"
   },
   {
    "duration": 43,
    "start_time": "2024-06-24T23:09:31.276Z"
   },
   {
    "duration": 23,
    "start_time": "2024-06-24T23:09:31.322Z"
   },
   {
    "duration": 5,
    "start_time": "2024-06-24T23:09:31.348Z"
   },
   {
    "duration": 15,
    "start_time": "2024-06-24T23:09:31.359Z"
   },
   {
    "duration": 15,
    "start_time": "2024-06-24T23:09:31.405Z"
   },
   {
    "duration": 4,
    "start_time": "2024-06-24T23:09:31.423Z"
   },
   {
    "duration": 6,
    "start_time": "2024-06-24T23:09:31.429Z"
   },
   {
    "duration": 3,
    "start_time": "2024-06-24T23:09:31.439Z"
   },
   {
    "duration": 62,
    "start_time": "2024-06-24T23:09:31.446Z"
   },
   {
    "duration": 9,
    "start_time": "2024-06-24T23:09:31.511Z"
   },
   {
    "duration": 8,
    "start_time": "2024-06-24T23:09:31.524Z"
   },
   {
    "duration": 3,
    "start_time": "2024-06-24T23:09:31.535Z"
   },
   {
    "duration": 11,
    "start_time": "2024-06-24T23:09:31.544Z"
   },
   {
    "duration": 56,
    "start_time": "2024-06-24T23:09:31.558Z"
   },
   {
    "duration": 10,
    "start_time": "2024-06-24T23:09:31.618Z"
   },
   {
    "duration": 11,
    "start_time": "2024-06-24T23:09:31.631Z"
   },
   {
    "duration": 8,
    "start_time": "2024-06-24T23:09:31.645Z"
   },
   {
    "duration": 4991,
    "start_time": "2024-06-24T23:09:31.656Z"
   },
   {
    "duration": 4,
    "start_time": "2024-06-24T23:09:36.649Z"
   },
   {
    "duration": 7,
    "start_time": "2024-06-24T23:09:36.656Z"
   },
   {
    "duration": 15,
    "start_time": "2024-06-24T23:09:36.667Z"
   },
   {
    "duration": 14,
    "start_time": "2024-06-24T23:09:36.705Z"
   },
   {
    "duration": 156,
    "start_time": "2024-06-24T23:09:36.722Z"
   },
   {
    "duration": 225,
    "start_time": "2024-06-24T23:09:50.246Z"
   },
   {
    "duration": 19,
    "start_time": "2024-06-24T23:10:01.204Z"
   },
   {
    "duration": 1617,
    "start_time": "2024-06-24T23:10:09.781Z"
   },
   {
    "duration": 32,
    "start_time": "2024-06-24T23:10:11.402Z"
   },
   {
    "duration": 22,
    "start_time": "2024-06-24T23:10:11.436Z"
   },
   {
    "duration": 5,
    "start_time": "2024-06-24T23:10:11.462Z"
   },
   {
    "duration": 15,
    "start_time": "2024-06-24T23:10:11.475Z"
   },
   {
    "duration": 16,
    "start_time": "2024-06-24T23:10:11.505Z"
   },
   {
    "duration": 3,
    "start_time": "2024-06-24T23:10:11.524Z"
   },
   {
    "duration": 5,
    "start_time": "2024-06-24T23:10:11.531Z"
   },
   {
    "duration": 4,
    "start_time": "2024-06-24T23:10:11.538Z"
   },
   {
    "duration": 58,
    "start_time": "2024-06-24T23:10:11.548Z"
   },
   {
    "duration": 9,
    "start_time": "2024-06-24T23:10:11.609Z"
   },
   {
    "duration": 12,
    "start_time": "2024-06-24T23:10:11.621Z"
   },
   {
    "duration": 4,
    "start_time": "2024-06-24T23:10:11.635Z"
   },
   {
    "duration": 10,
    "start_time": "2024-06-24T23:10:11.642Z"
   },
   {
    "duration": 58,
    "start_time": "2024-06-24T23:10:11.655Z"
   },
   {
    "duration": 10,
    "start_time": "2024-06-24T23:10:11.716Z"
   },
   {
    "duration": 11,
    "start_time": "2024-06-24T23:10:11.729Z"
   },
   {
    "duration": 8,
    "start_time": "2024-06-24T23:10:11.742Z"
   },
   {
    "duration": 4918,
    "start_time": "2024-06-24T23:10:11.753Z"
   },
   {
    "duration": 4,
    "start_time": "2024-06-24T23:10:16.674Z"
   },
   {
    "duration": 8,
    "start_time": "2024-06-24T23:10:16.681Z"
   },
   {
    "duration": 23,
    "start_time": "2024-06-24T23:10:16.693Z"
   },
   {
    "duration": 13,
    "start_time": "2024-06-24T23:10:16.719Z"
   },
   {
    "duration": 18,
    "start_time": "2024-06-24T23:10:16.735Z"
   },
   {
    "duration": 52,
    "start_time": "2024-06-24T23:10:16.756Z"
   },
   {
    "duration": 35,
    "start_time": "2024-06-24T23:10:16.811Z"
   },
   {
    "duration": 62,
    "start_time": "2024-06-24T23:10:16.850Z"
   },
   {
    "duration": 7,
    "start_time": "2024-06-24T23:10:16.921Z"
   },
   {
    "duration": 9,
    "start_time": "2024-06-24T23:10:16.931Z"
   },
   {
    "duration": 9,
    "start_time": "2024-06-24T23:10:16.943Z"
   },
   {
    "duration": 51,
    "start_time": "2024-06-24T23:10:16.955Z"
   },
   {
    "duration": 9,
    "start_time": "2024-06-24T23:10:17.009Z"
   },
   {
    "duration": 7,
    "start_time": "2024-06-24T23:10:17.020Z"
   },
   {
    "duration": 8,
    "start_time": "2024-06-24T23:10:17.030Z"
   },
   {
    "duration": 5,
    "start_time": "2024-06-24T23:10:17.041Z"
   },
   {
    "duration": 8,
    "start_time": "2024-06-24T23:10:17.049Z"
   },
   {
    "duration": 57,
    "start_time": "2024-06-24T23:10:17.059Z"
   },
   {
    "duration": 2051,
    "start_time": "2024-06-24T23:10:17.119Z"
   },
   {
    "duration": 3,
    "start_time": "2024-06-24T23:10:19.173Z"
   },
   {
    "duration": 36,
    "start_time": "2024-06-24T23:10:19.179Z"
   },
   {
    "duration": 4,
    "start_time": "2024-06-24T23:10:19.218Z"
   },
   {
    "duration": 4,
    "start_time": "2024-06-24T23:10:19.224Z"
   },
   {
    "duration": 4,
    "start_time": "2024-06-24T23:10:19.231Z"
   },
   {
    "duration": 10,
    "start_time": "2024-06-24T23:10:19.238Z"
   },
   {
    "duration": 57,
    "start_time": "2024-06-24T23:10:19.251Z"
   },
   {
    "duration": 11,
    "start_time": "2024-06-24T23:10:19.310Z"
   },
   {
    "duration": 83,
    "start_time": "2024-06-24T23:10:19.328Z"
   },
   {
    "duration": 6,
    "start_time": "2024-06-24T23:10:19.418Z"
   },
   {
    "duration": 80,
    "start_time": "2024-06-24T23:10:19.428Z"
   },
   {
    "duration": 5,
    "start_time": "2024-06-24T23:10:19.511Z"
   },
   {
    "duration": 3,
    "start_time": "2024-06-24T23:10:19.520Z"
   },
   {
    "duration": 3,
    "start_time": "2024-06-24T23:10:19.527Z"
   },
   {
    "duration": 7,
    "start_time": "2024-06-24T23:10:19.605Z"
   },
   {
    "duration": 6,
    "start_time": "2024-06-24T23:10:19.615Z"
   },
   {
    "duration": 6,
    "start_time": "2024-06-24T23:10:19.624Z"
   },
   {
    "duration": 75,
    "start_time": "2024-06-24T23:10:19.633Z"
   },
   {
    "duration": 5,
    "start_time": "2024-06-24T23:10:19.710Z"
   },
   {
    "duration": 87,
    "start_time": "2024-06-24T23:10:19.720Z"
   },
   {
    "duration": 5,
    "start_time": "2024-06-24T23:10:19.811Z"
   },
   {
    "duration": 6,
    "start_time": "2024-06-24T23:10:19.820Z"
   },
   {
    "duration": 1648,
    "start_time": "2024-06-24T23:12:50.321Z"
   },
   {
    "duration": 11,
    "start_time": "2024-06-24T23:12:51.972Z"
   },
   {
    "duration": 30,
    "start_time": "2024-06-24T23:12:51.986Z"
   },
   {
    "duration": 5,
    "start_time": "2024-06-24T23:12:52.019Z"
   },
   {
    "duration": 15,
    "start_time": "2024-06-24T23:12:52.028Z"
   },
   {
    "duration": 60,
    "start_time": "2024-06-24T23:12:52.046Z"
   },
   {
    "duration": 4,
    "start_time": "2024-06-24T23:12:52.109Z"
   },
   {
    "duration": 6,
    "start_time": "2024-06-24T23:12:52.116Z"
   },
   {
    "duration": 5,
    "start_time": "2024-06-24T23:12:52.125Z"
   },
   {
    "duration": 16,
    "start_time": "2024-06-24T23:12:52.138Z"
   },
   {
    "duration": 50,
    "start_time": "2024-06-24T23:12:52.159Z"
   },
   {
    "duration": 8,
    "start_time": "2024-06-24T23:12:52.212Z"
   },
   {
    "duration": 4,
    "start_time": "2024-06-24T23:12:52.224Z"
   },
   {
    "duration": 13,
    "start_time": "2024-06-24T23:12:52.230Z"
   },
   {
    "duration": 13,
    "start_time": "2024-06-24T23:12:52.245Z"
   },
   {
    "duration": 12,
    "start_time": "2024-06-24T23:12:52.308Z"
   },
   {
    "duration": 10,
    "start_time": "2024-06-24T23:12:52.323Z"
   },
   {
    "duration": 7,
    "start_time": "2024-06-24T23:12:52.337Z"
   },
   {
    "duration": 5439,
    "start_time": "2024-06-24T23:12:52.348Z"
   },
   {
    "duration": 4,
    "start_time": "2024-06-24T23:12:57.790Z"
   },
   {
    "duration": 12,
    "start_time": "2024-06-24T23:12:57.799Z"
   },
   {
    "duration": 14,
    "start_time": "2024-06-24T23:12:57.814Z"
   },
   {
    "duration": 17,
    "start_time": "2024-06-24T23:12:57.832Z"
   },
   {
    "duration": 20,
    "start_time": "2024-06-24T23:12:57.855Z"
   },
   {
    "duration": 25,
    "start_time": "2024-06-24T23:12:57.908Z"
   },
   {
    "duration": 37,
    "start_time": "2024-06-24T23:12:57.936Z"
   },
   {
    "duration": 66,
    "start_time": "2024-06-24T23:12:57.976Z"
   },
   {
    "duration": 8,
    "start_time": "2024-06-24T23:12:58.052Z"
   },
   {
    "duration": 6,
    "start_time": "2024-06-24T23:12:58.063Z"
   },
   {
    "duration": 43,
    "start_time": "2024-06-24T23:12:58.073Z"
   },
   {
    "duration": 6,
    "start_time": "2024-06-24T23:12:58.121Z"
   },
   {
    "duration": 8,
    "start_time": "2024-06-24T23:12:58.130Z"
   },
   {
    "duration": 8,
    "start_time": "2024-06-24T23:12:58.141Z"
   },
   {
    "duration": 57,
    "start_time": "2024-06-24T23:12:58.152Z"
   },
   {
    "duration": 5,
    "start_time": "2024-06-24T23:12:58.218Z"
   },
   {
    "duration": 15,
    "start_time": "2024-06-24T23:12:58.227Z"
   },
   {
    "duration": 16,
    "start_time": "2024-06-24T23:12:58.245Z"
   },
   {
    "duration": 2152,
    "start_time": "2024-06-24T23:12:58.264Z"
   },
   {
    "duration": 4,
    "start_time": "2024-06-24T23:13:00.418Z"
   },
   {
    "duration": 20,
    "start_time": "2024-06-24T23:13:00.426Z"
   },
   {
    "duration": 4,
    "start_time": "2024-06-24T23:13:00.449Z"
   },
   {
    "duration": 3,
    "start_time": "2024-06-24T23:13:00.457Z"
   },
   {
    "duration": 45,
    "start_time": "2024-06-24T23:13:00.463Z"
   },
   {
    "duration": 9,
    "start_time": "2024-06-24T23:13:00.513Z"
   },
   {
    "duration": 34,
    "start_time": "2024-06-24T23:13:00.526Z"
   },
   {
    "duration": 47,
    "start_time": "2024-06-24T23:13:00.565Z"
   },
   {
    "duration": 10,
    "start_time": "2024-06-24T23:13:00.617Z"
   },
   {
    "duration": 9,
    "start_time": "2024-06-24T23:13:00.630Z"
   },
   {
    "duration": 5,
    "start_time": "2024-06-24T23:13:00.707Z"
   },
   {
    "duration": 6,
    "start_time": "2024-06-24T23:13:00.715Z"
   },
   {
    "duration": 5,
    "start_time": "2024-06-24T23:13:00.723Z"
   },
   {
    "duration": 75,
    "start_time": "2024-06-24T23:13:00.731Z"
   },
   {
    "duration": 12,
    "start_time": "2024-06-24T23:13:00.810Z"
   },
   {
    "duration": 4,
    "start_time": "2024-06-24T23:13:00.826Z"
   },
   {
    "duration": 8,
    "start_time": "2024-06-24T23:13:00.834Z"
   },
   {
    "duration": 63,
    "start_time": "2024-06-24T23:13:00.845Z"
   },
   {
    "duration": 11,
    "start_time": "2024-06-24T23:13:00.913Z"
   },
   {
    "duration": 19,
    "start_time": "2024-06-24T23:13:00.931Z"
   },
   {
    "duration": 6,
    "start_time": "2024-06-24T23:13:00.954Z"
   },
   {
    "duration": 5,
    "start_time": "2024-06-24T23:13:01.008Z"
   },
   {
    "duration": 482,
    "start_time": "2024-06-24T23:13:01.016Z"
   },
   {
    "duration": 16,
    "start_time": "2024-06-25T14:36:23.708Z"
   },
   {
    "duration": 315,
    "start_time": "2024-06-25T14:36:24.707Z"
   },
   {
    "duration": 5172,
    "start_time": "2024-06-25T14:36:32.796Z"
   },
   {
    "duration": 18,
    "start_time": "2024-06-25T14:36:37.972Z"
   },
   {
    "duration": 22,
    "start_time": "2024-06-25T14:36:37.992Z"
   },
   {
    "duration": 5,
    "start_time": "2024-06-25T14:36:38.032Z"
   },
   {
    "duration": 15,
    "start_time": "2024-06-25T14:36:38.040Z"
   },
   {
    "duration": 15,
    "start_time": "2024-06-25T14:36:38.058Z"
   },
   {
    "duration": 3,
    "start_time": "2024-06-25T14:36:38.078Z"
   },
   {
    "duration": 48,
    "start_time": "2024-06-25T14:36:38.084Z"
   },
   {
    "duration": 4,
    "start_time": "2024-06-25T14:36:38.135Z"
   },
   {
    "duration": 14,
    "start_time": "2024-06-25T14:36:38.145Z"
   },
   {
    "duration": 9,
    "start_time": "2024-06-25T14:36:38.162Z"
   },
   {
    "duration": 56,
    "start_time": "2024-06-25T14:36:38.175Z"
   },
   {
    "duration": 3,
    "start_time": "2024-06-25T14:36:38.234Z"
   },
   {
    "duration": 12,
    "start_time": "2024-06-25T14:36:38.239Z"
   },
   {
    "duration": 12,
    "start_time": "2024-06-25T14:36:38.253Z"
   },
   {
    "duration": 11,
    "start_time": "2024-06-25T14:36:38.268Z"
   },
   {
    "duration": 55,
    "start_time": "2024-06-25T14:36:38.282Z"
   },
   {
    "duration": 7,
    "start_time": "2024-06-25T14:36:38.341Z"
   },
   {
    "duration": 5100,
    "start_time": "2024-06-25T14:36:38.351Z"
   },
   {
    "duration": 4,
    "start_time": "2024-06-25T14:36:43.455Z"
   },
   {
    "duration": 6,
    "start_time": "2024-06-25T14:36:43.462Z"
   },
   {
    "duration": 14,
    "start_time": "2024-06-25T14:36:43.473Z"
   },
   {
    "duration": 43,
    "start_time": "2024-06-25T14:36:43.489Z"
   },
   {
    "duration": 19,
    "start_time": "2024-06-25T14:36:43.535Z"
   },
   {
    "duration": 19,
    "start_time": "2024-06-25T14:36:43.556Z"
   },
   {
    "duration": 64,
    "start_time": "2024-06-25T14:36:43.579Z"
   },
   {
    "duration": 38,
    "start_time": "2024-06-25T14:36:43.646Z"
   },
   {
    "duration": 36,
    "start_time": "2024-06-25T14:36:43.695Z"
   },
   {
    "duration": 7,
    "start_time": "2024-06-25T14:36:43.734Z"
   },
   {
    "duration": 8,
    "start_time": "2024-06-25T14:36:43.745Z"
   },
   {
    "duration": 5,
    "start_time": "2024-06-25T14:36:43.757Z"
   },
   {
    "duration": 8,
    "start_time": "2024-06-25T14:36:43.766Z"
   },
   {
    "duration": 53,
    "start_time": "2024-06-25T14:36:43.778Z"
   },
   {
    "duration": 7,
    "start_time": "2024-06-25T14:36:43.835Z"
   },
   {
    "duration": 5,
    "start_time": "2024-06-25T14:36:43.846Z"
   },
   {
    "duration": 11,
    "start_time": "2024-06-25T14:36:43.854Z"
   },
   {
    "duration": 13,
    "start_time": "2024-06-25T14:36:43.868Z"
   },
   {
    "duration": 2159,
    "start_time": "2024-06-25T14:36:43.930Z"
   },
   {
    "duration": 17,
    "start_time": "2024-06-25T14:36:46.092Z"
   },
   {
    "duration": 20,
    "start_time": "2024-06-25T14:36:46.112Z"
   },
   {
    "duration": 15,
    "start_time": "2024-06-25T14:36:46.135Z"
   },
   {
    "duration": 6,
    "start_time": "2024-06-25T14:36:46.154Z"
   },
   {
    "duration": 73,
    "start_time": "2024-06-25T14:36:46.162Z"
   },
   {
    "duration": 7,
    "start_time": "2024-06-25T14:36:46.237Z"
   },
   {
    "duration": 5,
    "start_time": "2024-06-25T14:36:46.248Z"
   },
   {
    "duration": 79,
    "start_time": "2024-06-25T14:36:46.255Z"
   },
   {
    "duration": 8,
    "start_time": "2024-06-25T14:36:46.345Z"
   },
   {
    "duration": 76,
    "start_time": "2024-06-25T14:36:46.356Z"
   },
   {
    "duration": 6,
    "start_time": "2024-06-25T14:36:46.436Z"
   },
   {
    "duration": 3,
    "start_time": "2024-06-25T14:36:46.446Z"
   },
   {
    "duration": 7,
    "start_time": "2024-06-25T14:36:46.451Z"
   },
   {
    "duration": 71,
    "start_time": "2024-06-25T14:36:46.461Z"
   },
   {
    "duration": 6,
    "start_time": "2024-06-25T14:36:46.534Z"
   },
   {
    "duration": 88,
    "start_time": "2024-06-25T14:36:46.543Z"
   },
   {
    "duration": 6,
    "start_time": "2024-06-25T14:36:46.635Z"
   },
   {
    "duration": 5,
    "start_time": "2024-06-25T14:36:46.644Z"
   },
   {
    "duration": 526,
    "start_time": "2024-06-25T14:36:46.653Z"
   },
   {
    "duration": 1574,
    "start_time": "2024-06-25T14:38:33.425Z"
   },
   {
    "duration": 11,
    "start_time": "2024-06-25T14:38:35.004Z"
   },
   {
    "duration": 30,
    "start_time": "2024-06-25T14:38:35.018Z"
   },
   {
    "duration": 5,
    "start_time": "2024-06-25T14:38:35.051Z"
   },
   {
    "duration": 14,
    "start_time": "2024-06-25T14:38:35.061Z"
   },
   {
    "duration": 53,
    "start_time": "2024-06-25T14:38:35.078Z"
   },
   {
    "duration": 3,
    "start_time": "2024-06-25T14:38:35.134Z"
   },
   {
    "duration": 6,
    "start_time": "2024-06-25T14:38:35.141Z"
   },
   {
    "duration": 4,
    "start_time": "2024-06-25T14:38:35.150Z"
   },
   {
    "duration": 15,
    "start_time": "2024-06-25T14:38:35.156Z"
   },
   {
    "duration": 56,
    "start_time": "2024-06-25T14:38:35.174Z"
   },
   {
    "duration": 8,
    "start_time": "2024-06-25T14:38:35.233Z"
   },
   {
    "duration": 4,
    "start_time": "2024-06-25T14:38:35.244Z"
   },
   {
    "duration": 11,
    "start_time": "2024-06-25T14:38:35.257Z"
   },
   {
    "duration": 10,
    "start_time": "2024-06-25T14:38:35.272Z"
   },
   {
    "duration": 56,
    "start_time": "2024-06-25T14:38:35.285Z"
   },
   {
    "duration": 11,
    "start_time": "2024-06-25T14:38:35.344Z"
   },
   {
    "duration": 8,
    "start_time": "2024-06-25T14:38:35.358Z"
   },
   {
    "duration": 5039,
    "start_time": "2024-06-25T14:38:35.368Z"
   },
   {
    "duration": 4,
    "start_time": "2024-06-25T14:38:40.410Z"
   },
   {
    "duration": 6,
    "start_time": "2024-06-25T14:38:40.418Z"
   },
   {
    "duration": 15,
    "start_time": "2024-06-25T14:38:40.427Z"
   },
   {
    "duration": 14,
    "start_time": "2024-06-25T14:38:40.445Z"
   },
   {
    "duration": 21,
    "start_time": "2024-06-25T14:38:40.462Z"
   },
   {
    "duration": 55,
    "start_time": "2024-06-25T14:38:40.486Z"
   },
   {
    "duration": 33,
    "start_time": "2024-06-25T14:38:40.545Z"
   },
   {
    "duration": 53,
    "start_time": "2024-06-25T14:38:40.581Z"
   },
   {
    "duration": 8,
    "start_time": "2024-06-25T14:38:40.638Z"
   },
   {
    "duration": 7,
    "start_time": "2024-06-25T14:38:40.648Z"
   },
   {
    "duration": 9,
    "start_time": "2024-06-25T14:38:40.658Z"
   },
   {
    "duration": 6,
    "start_time": "2024-06-25T14:38:40.670Z"
   },
   {
    "duration": 56,
    "start_time": "2024-06-25T14:38:40.680Z"
   },
   {
    "duration": 6,
    "start_time": "2024-06-25T14:38:40.739Z"
   },
   {
    "duration": 9,
    "start_time": "2024-06-25T14:38:40.748Z"
   },
   {
    "duration": 5,
    "start_time": "2024-06-25T14:38:40.761Z"
   },
   {
    "duration": 8,
    "start_time": "2024-06-25T14:38:40.770Z"
   },
   {
    "duration": 59,
    "start_time": "2024-06-25T14:38:40.781Z"
   },
   {
    "duration": 2102,
    "start_time": "2024-06-25T14:38:40.845Z"
   },
   {
    "duration": 18,
    "start_time": "2024-06-25T14:38:42.950Z"
   },
   {
    "duration": 9,
    "start_time": "2024-06-25T14:38:42.972Z"
   },
   {
    "duration": 49,
    "start_time": "2024-06-25T14:38:42.991Z"
   },
   {
    "duration": 6,
    "start_time": "2024-06-25T14:38:43.048Z"
   },
   {
    "duration": 75,
    "start_time": "2024-06-25T14:38:43.057Z"
   },
   {
    "duration": 6,
    "start_time": "2024-06-25T14:38:43.135Z"
   },
   {
    "duration": 6,
    "start_time": "2024-06-25T14:38:43.145Z"
   },
   {
    "duration": 5,
    "start_time": "2024-06-25T14:38:43.230Z"
   },
   {
    "duration": 4,
    "start_time": "2024-06-25T14:38:43.238Z"
   },
   {
    "duration": 4,
    "start_time": "2024-06-25T14:38:43.246Z"
   },
   {
    "duration": 7,
    "start_time": "2024-06-25T14:38:43.254Z"
   },
   {
    "duration": 67,
    "start_time": "2024-06-25T14:38:43.263Z"
   },
   {
    "duration": 6,
    "start_time": "2024-06-25T14:38:43.333Z"
   },
   {
    "duration": 5,
    "start_time": "2024-06-25T14:38:43.342Z"
   },
   {
    "duration": 81,
    "start_time": "2024-06-25T14:38:43.350Z"
   },
   {
    "duration": 12,
    "start_time": "2024-06-25T14:38:43.434Z"
   },
   {
    "duration": 5,
    "start_time": "2024-06-25T14:38:43.451Z"
   },
   {
    "duration": 6,
    "start_time": "2024-06-25T14:38:43.459Z"
   },
   {
    "duration": 470,
    "start_time": "2024-06-25T14:38:43.468Z"
   },
   {
    "duration": 1559,
    "start_time": "2024-06-25T14:44:06.641Z"
   },
   {
    "duration": 12,
    "start_time": "2024-06-25T14:44:08.203Z"
   },
   {
    "duration": 29,
    "start_time": "2024-06-25T14:44:08.218Z"
   },
   {
    "duration": 6,
    "start_time": "2024-06-25T14:44:08.250Z"
   },
   {
    "duration": 14,
    "start_time": "2024-06-25T14:44:08.261Z"
   },
   {
    "duration": 53,
    "start_time": "2024-06-25T14:44:08.278Z"
   },
   {
    "duration": 4,
    "start_time": "2024-06-25T14:44:08.333Z"
   },
   {
    "duration": 6,
    "start_time": "2024-06-25T14:44:08.341Z"
   },
   {
    "duration": 3,
    "start_time": "2024-06-25T14:44:08.350Z"
   },
   {
    "duration": 14,
    "start_time": "2024-06-25T14:44:08.356Z"
   },
   {
    "duration": 57,
    "start_time": "2024-06-25T14:44:08.373Z"
   },
   {
    "duration": 10,
    "start_time": "2024-06-25T14:44:08.433Z"
   },
   {
    "duration": 3,
    "start_time": "2024-06-25T14:44:08.446Z"
   },
   {
    "duration": 10,
    "start_time": "2024-06-25T14:44:08.457Z"
   },
   {
    "duration": 18,
    "start_time": "2024-06-25T14:44:08.470Z"
   },
   {
    "duration": 48,
    "start_time": "2024-06-25T14:44:08.491Z"
   },
   {
    "duration": 11,
    "start_time": "2024-06-25T14:44:08.542Z"
   },
   {
    "duration": 9,
    "start_time": "2024-06-25T14:44:08.555Z"
   },
   {
    "duration": 4941,
    "start_time": "2024-06-25T14:44:08.566Z"
   },
   {
    "duration": 4,
    "start_time": "2024-06-25T14:44:13.510Z"
   },
   {
    "duration": 13,
    "start_time": "2024-06-25T14:44:13.517Z"
   },
   {
    "duration": 14,
    "start_time": "2024-06-25T14:44:13.533Z"
   },
   {
    "duration": 13,
    "start_time": "2024-06-25T14:44:13.550Z"
   },
   {
    "duration": 19,
    "start_time": "2024-06-25T14:44:13.566Z"
   },
   {
    "duration": 54,
    "start_time": "2024-06-25T14:44:13.588Z"
   },
   {
    "duration": 34,
    "start_time": "2024-06-25T14:44:13.644Z"
   },
   {
    "duration": 57,
    "start_time": "2024-06-25T14:44:13.681Z"
   },
   {
    "duration": 8,
    "start_time": "2024-06-25T14:44:13.741Z"
   },
   {
    "duration": 8,
    "start_time": "2024-06-25T14:44:13.752Z"
   },
   {
    "duration": 9,
    "start_time": "2024-06-25T14:44:13.763Z"
   },
   {
    "duration": 6,
    "start_time": "2024-06-25T14:44:13.775Z"
   },
   {
    "duration": 51,
    "start_time": "2024-06-25T14:44:13.784Z"
   },
   {
    "duration": 7,
    "start_time": "2024-06-25T14:44:13.838Z"
   },
   {
    "duration": 8,
    "start_time": "2024-06-25T14:44:13.847Z"
   },
   {
    "duration": 5,
    "start_time": "2024-06-25T14:44:13.858Z"
   },
   {
    "duration": 8,
    "start_time": "2024-06-25T14:44:13.866Z"
   },
   {
    "duration": 59,
    "start_time": "2024-06-25T14:44:13.878Z"
   },
   {
    "duration": 2350,
    "start_time": "2024-06-25T14:44:13.939Z"
   },
   {
    "duration": 16,
    "start_time": "2024-06-25T14:44:16.292Z"
   },
   {
    "duration": 25,
    "start_time": "2024-06-25T14:44:16.311Z"
   },
   {
    "duration": 20,
    "start_time": "2024-06-25T14:44:16.346Z"
   },
   {
    "duration": 65,
    "start_time": "2024-06-25T14:44:16.369Z"
   },
   {
    "duration": 12,
    "start_time": "2024-06-25T14:44:16.440Z"
   },
   {
    "duration": 5,
    "start_time": "2024-06-25T14:44:16.531Z"
   },
   {
    "duration": 5,
    "start_time": "2024-06-25T14:44:16.538Z"
   },
   {
    "duration": 4,
    "start_time": "2024-06-25T14:44:16.546Z"
   },
   {
    "duration": 5,
    "start_time": "2024-06-25T14:44:16.631Z"
   },
   {
    "duration": 4,
    "start_time": "2024-06-25T14:44:16.640Z"
   },
   {
    "duration": 4,
    "start_time": "2024-06-25T14:44:16.647Z"
   },
   {
    "duration": 7,
    "start_time": "2024-06-25T14:44:16.654Z"
   },
   {
    "duration": 67,
    "start_time": "2024-06-25T14:44:16.664Z"
   },
   {
    "duration": 14,
    "start_time": "2024-06-25T14:44:16.734Z"
   },
   {
    "duration": 81,
    "start_time": "2024-06-25T14:44:16.752Z"
   },
   {
    "duration": 6,
    "start_time": "2024-06-25T14:44:16.836Z"
   },
   {
    "duration": 10,
    "start_time": "2024-06-25T14:44:16.845Z"
   },
   {
    "duration": 5,
    "start_time": "2024-06-25T14:44:16.858Z"
   },
   {
    "duration": 6,
    "start_time": "2024-06-25T14:44:16.866Z"
   },
   {
    "duration": 463,
    "start_time": "2024-06-25T14:44:16.876Z"
   },
   {
    "duration": 1567,
    "start_time": "2024-06-25T15:04:52.093Z"
   },
   {
    "duration": 13,
    "start_time": "2024-06-25T15:04:53.664Z"
   },
   {
    "duration": 22,
    "start_time": "2024-06-25T15:04:53.679Z"
   },
   {
    "duration": 27,
    "start_time": "2024-06-25T15:04:53.705Z"
   },
   {
    "duration": 14,
    "start_time": "2024-06-25T15:04:53.737Z"
   },
   {
    "duration": 15,
    "start_time": "2024-06-25T15:04:53.755Z"
   },
   {
    "duration": 3,
    "start_time": "2024-06-25T15:04:53.773Z"
   },
   {
    "duration": 6,
    "start_time": "2024-06-25T15:04:53.779Z"
   },
   {
    "duration": 3,
    "start_time": "2024-06-25T15:04:53.832Z"
   },
   {
    "duration": 14,
    "start_time": "2024-06-25T15:04:53.841Z"
   },
   {
    "duration": 9,
    "start_time": "2024-06-25T15:04:53.858Z"
   },
   {
    "duration": 9,
    "start_time": "2024-06-25T15:04:53.870Z"
   },
   {
    "duration": 49,
    "start_time": "2024-06-25T15:04:53.882Z"
   },
   {
    "duration": 11,
    "start_time": "2024-06-25T15:04:53.934Z"
   },
   {
    "duration": 11,
    "start_time": "2024-06-25T15:04:53.948Z"
   },
   {
    "duration": 11,
    "start_time": "2024-06-25T15:04:53.962Z"
   },
   {
    "duration": 56,
    "start_time": "2024-06-25T15:04:53.976Z"
   },
   {
    "duration": 8,
    "start_time": "2024-06-25T15:04:54.035Z"
   },
   {
    "duration": 4921,
    "start_time": "2024-06-25T15:04:54.046Z"
   },
   {
    "duration": 4,
    "start_time": "2024-06-25T15:04:58.970Z"
   },
   {
    "duration": 7,
    "start_time": "2024-06-25T15:04:58.976Z"
   },
   {
    "duration": 14,
    "start_time": "2024-06-25T15:04:58.987Z"
   },
   {
    "duration": 35,
    "start_time": "2024-06-25T15:04:59.004Z"
   },
   {
    "duration": 18,
    "start_time": "2024-06-25T15:04:59.041Z"
   },
   {
    "duration": 19,
    "start_time": "2024-06-25T15:04:59.062Z"
   },
   {
    "duration": 66,
    "start_time": "2024-06-25T15:04:59.084Z"
   },
   {
    "duration": 34,
    "start_time": "2024-06-25T15:04:59.153Z"
   },
   {
    "duration": 36,
    "start_time": "2024-06-25T15:04:59.195Z"
   },
   {
    "duration": 7,
    "start_time": "2024-06-25T15:04:59.234Z"
   },
   {
    "duration": 9,
    "start_time": "2024-06-25T15:04:59.245Z"
   },
   {
    "duration": 6,
    "start_time": "2024-06-25T15:04:59.257Z"
   },
   {
    "duration": 10,
    "start_time": "2024-06-25T15:04:59.266Z"
   },
   {
    "duration": 56,
    "start_time": "2024-06-25T15:04:59.279Z"
   },
   {
    "duration": 8,
    "start_time": "2024-06-25T15:04:59.337Z"
   },
   {
    "duration": 5,
    "start_time": "2024-06-25T15:04:59.348Z"
   },
   {
    "duration": 10,
    "start_time": "2024-06-25T15:04:59.356Z"
   },
   {
    "duration": 10,
    "start_time": "2024-06-25T15:04:59.370Z"
   },
   {
    "duration": 1941,
    "start_time": "2024-06-25T15:04:59.383Z"
   },
   {
    "duration": 18,
    "start_time": "2024-06-25T15:05:01.331Z"
   },
   {
    "duration": 10,
    "start_time": "2024-06-25T15:05:01.353Z"
   },
   {
    "duration": 18,
    "start_time": "2024-06-25T15:05:01.370Z"
   },
   {
    "duration": 5,
    "start_time": "2024-06-25T15:05:01.432Z"
   },
   {
    "duration": 9,
    "start_time": "2024-06-25T15:05:01.440Z"
   },
   {
    "duration": 79,
    "start_time": "2024-06-25T15:05:01.452Z"
   },
   {
    "duration": 4,
    "start_time": "2024-06-25T15:05:01.534Z"
   },
   {
    "duration": 8,
    "start_time": "2024-06-25T15:05:01.541Z"
   },
   {
    "duration": 80,
    "start_time": "2024-06-25T15:05:01.553Z"
   },
   {
    "duration": 4,
    "start_time": "2024-06-25T15:05:01.635Z"
   },
   {
    "duration": 7,
    "start_time": "2024-06-25T15:05:01.642Z"
   },
   {
    "duration": 11,
    "start_time": "2024-06-25T15:05:01.652Z"
   },
   {
    "duration": 70,
    "start_time": "2024-06-25T15:05:01.665Z"
   },
   {
    "duration": 6,
    "start_time": "2024-06-25T15:05:01.738Z"
   },
   {
    "duration": 79,
    "start_time": "2024-06-25T15:05:01.754Z"
   },
   {
    "duration": 11,
    "start_time": "2024-06-25T15:05:01.836Z"
   },
   {
    "duration": 6,
    "start_time": "2024-06-25T15:05:01.849Z"
   },
   {
    "duration": 5,
    "start_time": "2024-06-25T15:05:01.858Z"
   },
   {
    "duration": 493,
    "start_time": "2024-06-25T15:05:01.866Z"
   },
   {
    "duration": 5,
    "start_time": "2024-06-25T15:08:33.031Z"
   },
   {
    "duration": 1717,
    "start_time": "2024-06-25T16:27:21.568Z"
   },
   {
    "duration": 14,
    "start_time": "2024-06-25T16:27:23.290Z"
   },
   {
    "duration": 37,
    "start_time": "2024-06-25T16:27:23.308Z"
   },
   {
    "duration": 5,
    "start_time": "2024-06-25T16:27:23.350Z"
   },
   {
    "duration": 18,
    "start_time": "2024-06-25T16:27:23.358Z"
   },
   {
    "duration": 15,
    "start_time": "2024-06-25T16:27:23.380Z"
   },
   {
    "duration": 3,
    "start_time": "2024-06-25T16:27:23.432Z"
   },
   {
    "duration": 5,
    "start_time": "2024-06-25T16:27:23.439Z"
   },
   {
    "duration": 7,
    "start_time": "2024-06-25T16:27:23.447Z"
   },
   {
    "duration": 16,
    "start_time": "2024-06-25T16:27:23.460Z"
   },
   {
    "duration": 11,
    "start_time": "2024-06-25T16:27:23.480Z"
   },
   {
    "duration": 9,
    "start_time": "2024-06-25T16:27:23.530Z"
   },
   {
    "duration": 4,
    "start_time": "2024-06-25T16:27:23.542Z"
   },
   {
    "duration": 12,
    "start_time": "2024-06-25T16:27:23.549Z"
   },
   {
    "duration": 11,
    "start_time": "2024-06-25T16:27:23.564Z"
   },
   {
    "duration": 58,
    "start_time": "2024-06-25T16:27:23.578Z"
   },
   {
    "duration": 14,
    "start_time": "2024-06-25T16:27:23.639Z"
   },
   {
    "duration": 9,
    "start_time": "2024-06-25T16:27:23.655Z"
   },
   {
    "duration": 5254,
    "start_time": "2024-06-25T16:27:23.668Z"
   },
   {
    "duration": 4,
    "start_time": "2024-06-25T16:27:28.925Z"
   },
   {
    "duration": 7,
    "start_time": "2024-06-25T16:27:28.934Z"
   },
   {
    "duration": 16,
    "start_time": "2024-06-25T16:27:28.945Z"
   },
   {
    "duration": 16,
    "start_time": "2024-06-25T16:27:28.965Z"
   },
   {
    "duration": 56,
    "start_time": "2024-06-25T16:27:28.984Z"
   },
   {
    "duration": 20,
    "start_time": "2024-06-25T16:27:29.043Z"
   },
   {
    "duration": 33,
    "start_time": "2024-06-25T16:27:29.066Z"
   },
   {
    "duration": 34,
    "start_time": "2024-06-25T16:27:29.130Z"
   },
   {
    "duration": 6,
    "start_time": "2024-06-25T16:27:29.174Z"
   },
   {
    "duration": 7,
    "start_time": "2024-06-25T16:27:29.185Z"
   },
   {
    "duration": 9,
    "start_time": "2024-06-25T16:27:29.230Z"
   },
   {
    "duration": 7,
    "start_time": "2024-06-25T16:27:29.242Z"
   },
   {
    "duration": 9,
    "start_time": "2024-06-25T16:27:29.252Z"
   },
   {
    "duration": 7,
    "start_time": "2024-06-25T16:27:29.264Z"
   },
   {
    "duration": 6,
    "start_time": "2024-06-25T16:27:29.278Z"
   },
   {
    "duration": 46,
    "start_time": "2024-06-25T16:27:29.287Z"
   },
   {
    "duration": 8,
    "start_time": "2024-06-25T16:27:29.336Z"
   },
   {
    "duration": 11,
    "start_time": "2024-06-25T16:27:29.346Z"
   },
   {
    "duration": 2062,
    "start_time": "2024-06-25T16:27:29.361Z"
   },
   {
    "duration": 17,
    "start_time": "2024-06-25T16:27:31.430Z"
   },
   {
    "duration": 9,
    "start_time": "2024-06-25T16:27:31.450Z"
   },
   {
    "duration": 70,
    "start_time": "2024-06-25T16:27:31.462Z"
   },
   {
    "duration": 5,
    "start_time": "2024-06-25T16:27:31.535Z"
   },
   {
    "duration": 8,
    "start_time": "2024-06-25T16:27:31.543Z"
   },
   {
    "duration": 7,
    "start_time": "2024-06-25T16:27:31.553Z"
   },
   {
    "duration": 72,
    "start_time": "2024-06-25T16:27:31.563Z"
   },
   {
    "duration": 6,
    "start_time": "2024-06-25T16:27:31.638Z"
   },
   {
    "duration": 6,
    "start_time": "2024-06-25T16:27:31.646Z"
   },
   {
    "duration": 5,
    "start_time": "2024-06-25T16:27:31.655Z"
   },
   {
    "duration": 74,
    "start_time": "2024-06-25T16:27:31.662Z"
   },
   {
    "duration": 8,
    "start_time": "2024-06-25T16:27:31.739Z"
   },
   {
    "duration": 11,
    "start_time": "2024-06-25T16:27:31.751Z"
   },
   {
    "duration": 64,
    "start_time": "2024-06-25T16:27:31.767Z"
   },
   {
    "duration": 8,
    "start_time": "2024-06-25T16:27:31.835Z"
   },
   {
    "duration": 84,
    "start_time": "2024-06-25T16:27:31.847Z"
   },
   {
    "duration": 5,
    "start_time": "2024-06-25T16:27:31.934Z"
   },
   {
    "duration": 6,
    "start_time": "2024-06-25T16:27:31.941Z"
   },
   {
    "duration": 516,
    "start_time": "2024-06-25T16:27:31.950Z"
   },
   {
    "duration": 1677,
    "start_time": "2024-07-05T03:42:35.743Z"
   },
   {
    "duration": 17,
    "start_time": "2024-07-05T03:42:37.424Z"
   },
   {
    "duration": 22,
    "start_time": "2024-07-05T03:42:37.443Z"
   },
   {
    "duration": 5,
    "start_time": "2024-07-05T03:42:37.469Z"
   },
   {
    "duration": 44,
    "start_time": "2024-07-05T03:42:37.478Z"
   },
   {
    "duration": 16,
    "start_time": "2024-07-05T03:42:37.525Z"
   },
   {
    "duration": 3,
    "start_time": "2024-07-05T03:42:37.544Z"
   },
   {
    "duration": 6,
    "start_time": "2024-07-05T03:42:37.550Z"
   },
   {
    "duration": 3,
    "start_time": "2024-07-05T03:42:37.559Z"
   },
   {
    "duration": 60,
    "start_time": "2024-07-05T03:42:37.569Z"
   },
   {
    "duration": 9,
    "start_time": "2024-07-05T03:42:37.633Z"
   },
   {
    "duration": 9,
    "start_time": "2024-07-05T03:42:37.645Z"
   },
   {
    "duration": 3,
    "start_time": "2024-07-05T03:42:37.657Z"
   },
   {
    "duration": 61,
    "start_time": "2024-07-05T03:42:37.663Z"
   },
   {
    "duration": 12,
    "start_time": "2024-07-05T03:42:37.727Z"
   },
   {
    "duration": 12,
    "start_time": "2024-07-05T03:42:37.742Z"
   },
   {
    "duration": 12,
    "start_time": "2024-07-05T03:42:37.757Z"
   },
   {
    "duration": 53,
    "start_time": "2024-07-05T03:42:37.772Z"
   },
   {
    "duration": 5166,
    "start_time": "2024-07-05T03:42:37.829Z"
   },
   {
    "duration": 4,
    "start_time": "2024-07-05T03:42:42.998Z"
   },
   {
    "duration": 7,
    "start_time": "2024-07-05T03:42:43.005Z"
   },
   {
    "duration": 16,
    "start_time": "2024-07-05T03:42:43.024Z"
   },
   {
    "duration": 16,
    "start_time": "2024-07-05T03:42:43.043Z"
   },
   {
    "duration": 20,
    "start_time": "2024-07-05T03:42:43.062Z"
   },
   {
    "duration": 19,
    "start_time": "2024-07-05T03:42:43.123Z"
   },
   {
    "duration": 37,
    "start_time": "2024-07-05T03:42:43.145Z"
   },
   {
    "duration": 62,
    "start_time": "2024-07-05T03:42:43.185Z"
   },
   {
    "duration": 8,
    "start_time": "2024-07-05T03:42:43.257Z"
   },
   {
    "duration": 8,
    "start_time": "2024-07-05T03:42:43.268Z"
   },
   {
    "duration": 48,
    "start_time": "2024-07-05T03:42:43.279Z"
   },
   {
    "duration": 7,
    "start_time": "2024-07-05T03:42:43.330Z"
   },
   {
    "duration": 9,
    "start_time": "2024-07-05T03:42:43.341Z"
   },
   {
    "duration": 7,
    "start_time": "2024-07-05T03:42:43.353Z"
   },
   {
    "duration": 8,
    "start_time": "2024-07-05T03:42:43.362Z"
   },
   {
    "duration": 50,
    "start_time": "2024-07-05T03:42:43.373Z"
   },
   {
    "duration": 12,
    "start_time": "2024-07-05T03:42:43.427Z"
   },
   {
    "duration": 11,
    "start_time": "2024-07-05T03:42:43.442Z"
   },
   {
    "duration": 1889,
    "start_time": "2024-07-05T03:42:43.456Z"
   },
   {
    "duration": 16,
    "start_time": "2024-07-05T03:42:45.348Z"
   },
   {
    "duration": 8,
    "start_time": "2024-07-05T03:42:45.367Z"
   },
   {
    "duration": 48,
    "start_time": "2024-07-05T03:42:45.379Z"
   },
   {
    "duration": 5,
    "start_time": "2024-07-05T03:42:45.430Z"
   },
   {
    "duration": 85,
    "start_time": "2024-07-05T03:42:45.438Z"
   },
   {
    "duration": 7,
    "start_time": "2024-07-05T03:42:45.526Z"
   },
   {
    "duration": 5,
    "start_time": "2024-07-05T03:42:45.536Z"
   },
   {
    "duration": 80,
    "start_time": "2024-07-05T03:42:45.545Z"
   },
   {
    "duration": 5,
    "start_time": "2024-07-05T03:42:45.628Z"
   },
   {
    "duration": 3,
    "start_time": "2024-07-05T03:42:45.636Z"
   },
   {
    "duration": 8,
    "start_time": "2024-07-05T03:42:45.642Z"
   },
   {
    "duration": 12,
    "start_time": "2024-07-05T03:42:45.653Z"
   },
   {
    "duration": 7,
    "start_time": "2024-07-05T03:42:45.724Z"
   },
   {
    "duration": 6,
    "start_time": "2024-07-05T03:42:45.734Z"
   },
   {
    "duration": 82,
    "start_time": "2024-07-05T03:42:45.743Z"
   },
   {
    "duration": 12,
    "start_time": "2024-07-05T03:42:45.828Z"
   },
   {
    "duration": 5,
    "start_time": "2024-07-05T03:42:45.843Z"
   },
   {
    "duration": 6,
    "start_time": "2024-07-05T03:42:45.852Z"
   }
  ],
  "kernelspec": {
   "display_name": "Python 3 (ipykernel)",
   "language": "python",
   "name": "python3"
  },
  "language_info": {
   "codemirror_mode": {
    "name": "ipython",
    "version": 3
   },
   "file_extension": ".py",
   "mimetype": "text/x-python",
   "name": "python",
   "nbconvert_exporter": "python",
   "pygments_lexer": "ipython3",
   "version": "3.9.19"
  },
  "toc": {
   "base_numbering": 1,
   "nav_menu": {},
   "number_sections": true,
   "sideBar": true,
   "skip_h1_title": true,
   "title_cell": "Table of Contents",
   "title_sidebar": "Contents",
   "toc_cell": false,
   "toc_position": {},
   "toc_section_display": true,
   "toc_window_display": false
  }
 },
 "nbformat": 4,
 "nbformat_minor": 4
}
